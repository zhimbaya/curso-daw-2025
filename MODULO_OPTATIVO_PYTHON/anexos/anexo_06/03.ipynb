{
 "cells": [
  {
   "cell_type": "markdown",
   "source": [
    "# Ejercicios\n",
    "[Enlace en la web: Ejercicios](https://progra.usm.cl/apunte/ejercicios/)"
   ],
   "metadata": {
    "collapsed": false
   }
  },
  {
   "cell_type": "markdown",
   "source": [
    "## Conjunto potencia"
   ],
   "metadata": {
    "collapsed": false
   }
  },
  {
   "cell_type": "markdown",
   "source": [
    "El conjunto potencia de un conjunto S es el conjunto de todos los subconjuntos de S.\n",
    "\n",
    "Por ejemplo, el conjunto potencia de {1,2,3} es:\n",
    "\n",
    "{∅,{1},{2},{3},{1,2},{1,3},{2,3},{1,2,3}}\n",
    "En Python, un conjunto no puede contener a otros conjuntos, ya que no puede tener elementos mutables, y los conjuntos lo son:\n",
    "\n",
    ">>> a = set()\n",
    ">>> a.add({1, 2})        # :(\n",
    "Traceback (most recent call last):\n",
    "  File \"<console>\", line 1, in <module>\n",
    "TypeError: unhashable type: 'set'\n",
    "Lo que sí podemos crear es una lista de conjuntos:\n",
    "\n",
    ">>> l = list()\n",
    ">>> l.append({1, 2})     # :)\n",
    ">>> l\n",
    "[set([1, 2])]\n",
    "\n",
    "**1.-** Escriba la función conjunto_potencia(s) que reciba como parámetro un conjunto cualquiera s y retorne su «lista potencia» (la lista de todos sus subconjuntos):\n",
    "\n",
    ">>> conjunto_potencia({6, 1, 4})\n",
    "[set(), set([6]), set([1]), set([4]), set([6, 1]), set([6, 4]), set([1, 4]), set([6, 1, 4])]"
   ],
   "metadata": {
    "collapsed": false
   }
  },
  {
   "cell_type": "code",
   "execution_count": 10,
   "outputs": [
    {
     "name": "stdout",
     "output_type": "stream",
     "text": [
      "[set(), {1}, {4}, {6}, {1, 4}, {1, 6}, {4, 6}, {1, 4, 6}]\n"
     ]
    }
   ],
   "source": [
    "from itertools import combinations\n",
    "\n",
    "def conjunto_potencia(conjunto):\n",
    "    conjuntos = []\n",
    "    elementos = list(conjunto)\n",
    "    for numero_elementos in range(len(elementos)+1):\n",
    "        for x in combinations(elementos, numero_elementos):\n",
    "            conjuntos.append(set(x))\n",
    "    return conjuntos\n",
    "\n",
    "print(conjunto_potencia({6, 1, 4}))"
   ],
   "metadata": {
    "collapsed": false
   }
  },
  {
   "cell_type": "markdown",
   "source": [
    "## Contar letras y palabras\n",
    "**2.-** Escriba la función contar_letras(oracion) que retorne un diccionario asociando a cada letra la cantidad de veces que aparece en la oracion:\n",
    "\n",
    ">>> contar_letras('El elefante avanza hacia Asia')\n",
    "{'a': 8, 'c': 1, 'e': 4, 'f': 1, 'h': 1, 'i': 2, 'l': 2, 'n': 2, 's': 1, 't': 1, 'v': 1, 'z': 1}\n",
    "Cada valor del diccionario debe considerar tanto las apariciones en mayúscula como en minúscula de la letra correspondiente. Los espacios deben ser ignorados.\n",
    "\n"
   ],
   "metadata": {
    "collapsed": false
   }
  },
  {
   "cell_type": "code",
   "execution_count": 23,
   "outputs": [
    {
     "name": "stdout",
     "output_type": "stream",
     "text": [
      "{'a': 8, 'c': 1, 'e': 4, 'f': 1, 'h': 1, 'i': 2, 'l': 2, 'n': 2, 's': 1, 't': 1, 'v': 1, 'z': 1}\n"
     ]
    }
   ],
   "source": [
    "def contar_letras(cadena):\n",
    "    letras = {}\n",
    "    for letra in cadena.lower():\n",
    "        if letra not in letras.keys():\n",
    "            letras[letra] = 1\n",
    "        else:\n",
    "            letras[letra] += 1\n",
    "        if ' ' in letras: del letras[' ']\n",
    "\n",
    "    return dict(sorted(letras.items(), key=lambda item:item[0]))\n",
    "\n",
    "print(contar_letras('El elefante avanza hacia Asia'))"
   ],
   "metadata": {
    "collapsed": false
   }
  },
  {
   "cell_type": "markdown",
   "source": [
    "**3.-** Escriba la función contar_vocales(oracion) que retorne un diccionario asociando a cada vocal la cantidad de veces que aparece en la oracion. Si una vocal no aparece en la oración, de todos modos debe estar en el diccionario asociada al valor 0:\n",
    "\n",
    ">>> contar_vocales('El elefante avanza hacia Asia')\n",
    "{'a': 8, 'e': 4, 'i': 2, 'o': 0, 'u': 0}\n",
    "\n"
   ],
   "metadata": {
    "collapsed": false
   }
  },
  {
   "cell_type": "code",
   "execution_count": 25,
   "outputs": [
    {
     "name": "stdout",
     "output_type": "stream",
     "text": [
      "{'a': 8, 'e': 4, 'i': 2, 'o': 0, 'u': 0}\n"
     ]
    }
   ],
   "source": [
    "def contar_vocales(cadena):\n",
    "    VOCALES = ['a', 'e', 'i', 'o', 'u']\n",
    "    letras = {}\n",
    "    for vocal in VOCALES:\n",
    "        letras[vocal] = 0\n",
    "\n",
    "    for letra in cadena.lower():\n",
    "        if letra in VOCALES:\n",
    "            letras[letra] += 1\n",
    "\n",
    "    return dict(sorted(letras.items(), key=lambda item:item[0]))\n",
    "\n",
    "print(contar_vocales('El elefante avanza hacia Asia'))"
   ],
   "metadata": {
    "collapsed": false
   }
  },
  {
   "cell_type": "markdown",
   "source": [
    "**4.-** Escriba la función contar_iniciales(oracion) que retorne un diccionario asociando a cada letra la cantidad de veces que aparece al principio de una palabra:\n",
    "\n",
    ">>> contar_iniciales('El elefante avanza hacia Asia')\n",
    "{'e': 2, 'h': 1, 'a': 2}\n",
    ">>> contar_iniciales('Varias vacas vuelan sobre Venezuela')\n",
    "{'s': 1', 'v': 4}\n",
    "\n"
   ],
   "metadata": {
    "collapsed": false
   }
  },
  {
   "cell_type": "code",
   "execution_count": 28,
   "outputs": [
    {
     "name": "stdout",
     "output_type": "stream",
     "text": [
      "{'a': 2, 'e': 2, 'h': 1}\n",
      "{'s': 1, 'v': 4}\n"
     ]
    }
   ],
   "source": [
    "def contar_iniciales(cadena):\n",
    "    PRIMERA_LETRA = 0\n",
    "    letras = {}\n",
    "    palabras = cadena.lower().split()\n",
    "    for palabra in palabras:\n",
    "        if palabra[PRIMERA_LETRA] not in letras.keys():\n",
    "            letras[palabra[PRIMERA_LETRA]] = 1\n",
    "        else:\n",
    "            letras[palabra[PRIMERA_LETRA]] += 1\n",
    "\n",
    "    return dict(sorted(letras.items(), key=lambda item:item[0]))\n",
    "\n",
    "print(contar_iniciales('El elefante avanza hacia Asia'))\n",
    "print(contar_iniciales('Varias vacas vuelan sobre Venezuela'))"
   ],
   "metadata": {
    "collapsed": false
   }
  },
  {
   "cell_type": "markdown",
   "source": [
    "**5.-**  Escriba la función obtener_largo_palabras(oracion) que retorne un diccionario asociando a cada palabra su cantidad de letras:\n",
    "\n",
    ">>> obtener_largo_palabras('el gato y el pato son amigos')\n",
    "{'el': 2, 'son': 3, 'gato': 4, 'y': 1, 'amigos': 6, 'pato': 4}\n",
    "\n"
   ],
   "metadata": {
    "collapsed": false
   }
  },
  {
   "cell_type": "code",
   "execution_count": 29,
   "outputs": [
    {
     "name": "stdout",
     "output_type": "stream",
     "text": [
      "{'amigos': 6, 'el': 2, 'gato': 4, 'pato': 4, 'son': 3, 'y': 1}\n"
     ]
    }
   ],
   "source": [
    "def obtener_largo_palabras(cadena):\n",
    "    letras = {}\n",
    "    palabras = cadena.lower().split()\n",
    "    for palabra in palabras:\n",
    "        if palabra not in letras.keys():\n",
    "            letras[palabra] = len(palabra)\n",
    "\n",
    "    return dict(sorted(letras.items(), key=lambda item:item[0]))\n",
    "\n",
    "print(obtener_largo_palabras('el gato y el pato son amigos'))"
   ],
   "metadata": {
    "collapsed": false
   }
  },
  {
   "cell_type": "markdown",
   "source": [
    "**6.-** Escriba la función contar_palabras(oracion) que retorne un diccionario asociando a cada palabra la cantidad de veces que aparece en la oración:\n",
    "\n",
    ">>> contar_palabras('El sobre esta sobre el pupitre')\n",
    "{'sobre': 2, 'pupitre': 1, 'el': 2, 'esta': 1}\n",
    "\n"
   ],
   "metadata": {
    "collapsed": false
   }
  },
  {
   "cell_type": "code",
   "execution_count": 30,
   "outputs": [
    {
     "name": "stdout",
     "output_type": "stream",
     "text": [
      "{'el': 2, 'esta': 1, 'pupitre': 1, 'sobre': 2}\n"
     ]
    }
   ],
   "source": [
    "def contar_palabras(cadena):\n",
    "    letras = {}\n",
    "    palabras = cadena.lower().split()\n",
    "    for palabra in palabras:\n",
    "        if palabra not in letras.keys():\n",
    "            letras[palabra] = 1\n",
    "        else:\n",
    "            letras[palabra] += 1\n",
    "\n",
    "    return dict(sorted(letras.items(), key=lambda item:item[0]))\n",
    "\n",
    "print(contar_palabras('El sobre esta sobre el pupitre'))"
   ],
   "metadata": {
    "collapsed": false
   }
  },
  {
   "cell_type": "markdown",
   "source": [
    "**7.-** Escriba la función palabras_repetidas(oracion) que retorne una lista con las palabras que están repetidas:\n",
    "\n",
    ">>> palabras_repetidas('El partido termino cero a cero')\n",
    "['cero']\n",
    ">>> palabras_repetidas('El sobre esta sobre el mueble')\n",
    "['el', 'sobre']\n",
    ">>> palabras_repetidas('Ay, ahi no hay pan')\n",
    "[]"
   ],
   "metadata": {
    "collapsed": false
   }
  },
  {
   "cell_type": "code",
   "execution_count": 37,
   "outputs": [
    {
     "name": "stdout",
     "output_type": "stream",
     "text": [
      "['cero']\n",
      "['el', 'sobre']\n",
      "[]\n"
     ]
    }
   ],
   "source": [
    "def palabras_repetidas(cadena):\n",
    "    palabras_frase = contar_palabras(cadena)\n",
    "    letras = []\n",
    "    for key,value in palabras_frase.items():\n",
    "        if value > 1:\n",
    "            letras.append(key)\n",
    "    return sorted(letras)\n",
    "\n",
    "print(palabras_repetidas('El partido termino cero a cero'))\n",
    "print(palabras_repetidas('El sobre esta sobre el mueble'))\n",
    "print(palabras_repetidas('Ay, ahi no hay pan'))"
   ],
   "metadata": {
    "collapsed": false
   }
  },
  {
   "cell_type": "markdown",
   "source": [
    "## Recorrido de diccionarios\n",
    "**8.-** Escriba una función hay_llaves_pares(d) que indique si el diccionario d tiene alguna clave que sea un número par.\n",
    "\n",
    "A continuación, escriba una función hay_valores_pares(d) que indique si el diccionario d tiene algún valor que sea un número par.\n",
    "\n",
    "Para probar las funciones, ocupe diccionarios cuyas llaves y valores sean sólo números enteros:\n",
    "\n",
    ">>> d1 = {1: 2, 3: 5}\n",
    ">>> d2 = {2: 1, 6: 7}\n",
    ">>> hay_valores_pares(d1)\n",
    "True\n",
    ">>> hay_valores_pares(d2)\n",
    "False\n",
    ">>> hay_llaves_pares(d1)\n",
    "False\n",
    ">>> hay_llaves_pares(d2)\n",
    "True\n",
    "\n"
   ],
   "metadata": {
    "collapsed": false
   }
  },
  {
   "cell_type": "code",
   "execution_count": 49,
   "outputs": [
    {
     "name": "stdout",
     "output_type": "stream",
     "text": [
      "True\n",
      "False\n",
      "True\n"
     ]
    }
   ],
   "source": [
    "def hay_valores_pares(diccionario):\n",
    "    for valor in diccionario.values():\n",
    "        if valor % 2 == 0:\n",
    "            return True\n",
    "    return False\n",
    "\n",
    "def hay_claves_pares(diccionario):\n",
    "    for key in diccionario.keys():\n",
    "        if key % 2 == 0:\n",
    "            return True\n",
    "    return False\n",
    "\n",
    "print(hay_valores_pares({1: 2, 3: 5}))\n",
    "print(hay_valores_pares({2: 1, 6: 7}))\n",
    "print(hay_claves_pares({2: 1, 6: 7}))"
   ],
   "metadata": {
    "collapsed": false
   }
  },
  {
   "cell_type": "markdown",
   "source": [
    "**9.-** Escriba una función maximo_par(d) que entregue el valor máximo de la suma de una llave y un valor del diccionario d:\n",
    "\n",
    ">>> d = {5: 1, 4: 7, 9: 0, 2: 2}\n",
    ">>> maximo_par(d)\n",
    "11\n"
   ],
   "metadata": {
    "collapsed": false
   }
  },
  {
   "cell_type": "code",
   "execution_count": 50,
   "outputs": [
    {
     "name": "stdout",
     "output_type": "stream",
     "text": [
      "11\n"
     ]
    }
   ],
   "source": [
    "d = {5: 1, 4: 7, 9: 0, 2: 2}\n",
    "def maximo_par(diccionario):\n",
    "    suma_maxima = -9999\n",
    "    for key, value in diccionario.items():\n",
    "        if key+value > suma_maxima:\n",
    "            suma_maxima = key + value\n",
    "    return suma_maxima\n",
    "\n",
    "print(maximo_par(d))"
   ],
   "metadata": {
    "collapsed": false
   }
  },
  {
   "cell_type": "markdown",
   "source": [
    "**10.-** Escriba una función invertir(d) que entregue un diccionario cuyas llaves sean los valores de d y cuyos valores sean las llaves respectivas:\n",
    "\n",
    ">>> invertir({1: 2, 3: 4, 5: 6})\n",
    "{2: 1, 4: 3, 6: 5}\n",
    ">>> apodos = {\n",
    "...   'Suazo': 'Chupete',\n",
    "...   'Sanchez': 'Maravilla',\n",
    "...   'Medel': 'Pitbull',\n",
    "...   'Valdivia': 'Mago',\n",
    "... }\n",
    ">>> invertir(apodos)\n",
    "{'Maravilla': 'Sanchez', 'Mago': 'Valdivia', 'Chupete': 'Suazo', 'Pitbull': 'Medel'}"
   ],
   "metadata": {
    "collapsed": false
   }
  },
  {
   "cell_type": "code",
   "execution_count": 54,
   "outputs": [
    {
     "name": "stdout",
     "output_type": "stream",
     "text": [
      "{2: 1, 4: 3, 6: 5}\n",
      "{'Chupete': 'Suazo', 'Maravilla': 'Sanchez', 'Pitbull': 'Medel', 'Mago': 'Valdivia'}\n"
     ]
    }
   ],
   "source": [
    "def invertir(diccionario):\n",
    "    diccionario_a_devolver = {}\n",
    "    for key,value in diccionario.items():\n",
    "        diccionario_a_devolver[value] = key\n",
    "    return diccionario_a_devolver\n",
    "\n",
    "print(invertir({1: 2, 3: 4, 5: 6}))\n",
    "apodos = {\n",
    "    'Suazo': 'Chupete',\n",
    "    'Sanchez': 'Maravilla',\n",
    "    'Medel': 'Pitbull',\n",
    "    'Valdivia': 'Mago',\n",
    "}\n",
    "print(invertir(apodos))"
   ],
   "metadata": {
    "collapsed": false
   }
  },
  {
   "cell_type": "markdown",
   "source": [
    "## Países\n",
    "El diccionario paises asocia cada persona con el conjunto de los países que ha visitado:\n",
    "\n",
    "paises = {\n",
    "    'Pepito': {'Chile', 'Argentina'},\n",
    "    'Yayita': {'Francia', 'Suiza', 'Chile'},\n",
    "    'John': {'Chile', 'Italia', 'Francia', 'Peru'},\n",
    "}\n",
    "**11.-** Escriba una funcion cuantos_en_comun(a, b), que indique cuántos países en común han visitado la persona a y la persona b:\n",
    "\n",
    ">>> cuantos_en_comun('Pepito', 'John')\n",
    "1\n",
    ">>> cuantos_en_comun('John', 'Yayita')\n",
    "2"
   ],
   "metadata": {
    "collapsed": false
   }
  },
  {
   "cell_type": "code",
   "execution_count": 45,
   "outputs": [
    {
     "name": "stdout",
     "output_type": "stream",
     "text": [
      "1\n",
      "2\n"
     ]
    }
   ],
   "source": [
    "paises = {\n",
    "    'Pepito': {'Chile', 'Argentina'},\n",
    "    'Yayita': {'Francia', 'Suiza', 'Chile'},\n",
    "    'John': {'Chile', 'Italia', 'Francia', 'Peru'},\n",
    "}\n",
    "def cuantos_en_comun(primera_persona, segunda_persona):\n",
    "    comun = paises[primera_persona] - paises[segunda_persona]\n",
    "    return len(comun)\n",
    "\n",
    "print(cuantos_en_comun('Pepito', 'John'))\n",
    "print(cuantos_en_comun('John', 'Yayita'))"
   ],
   "metadata": {
    "collapsed": false
   }
  },
  {
   "cell_type": "markdown",
   "source": [
    "## Asistencia\n",
    "La asistencia de los alumnos a clases puede ser llevada en una tabla como la siguiente:\n",
    "\n",
    "Clase\t1\t2\t3\t4\t5\t6\t7\n",
    "Pepito\t✓\t✓\t✓\n",
    "Yayita\t✓\t✓\t✓\t \t✓\t \t✓\n",
    "Fulanita\t✓\t✓\t✓\t✓\t✓\t✓\t✓\n",
    "Panchito\t✓\t✓\t✓\t \t✓\t✓\t✓\n",
    "En un programa, esta informacion puede ser representada usando listas:\n",
    "\n",
    ">>> alumnos = ['Pepito', 'Yayita', 'Fulanita', 'Panchito']\n",
    ">>> asistencia = [\n",
    "...  [True, True, True, False, False, False, False],\n",
    "...  [True, True, True, False, True,  False, True ],\n",
    "...  [True, True, True, True,  True,  True,  True ],\n",
    "...  [True, True, True, False, True,  True,  True ]]\n",
    ">>>\n",
    "**12.-** Escriba la función total_por_alumno(tabla) que reciba como parámetro la tabla de asistencia y retorne una lista con el número de clases a las que asistió cada alumno:\n",
    "\n",
    ">>> total_por_alumno(asistencia)\n",
    "[3, 5, 7, 6]"
   ],
   "metadata": {
    "collapsed": false
   }
  },
  {
   "cell_type": "code",
   "execution_count": 72,
   "outputs": [
    {
     "name": "stdout",
     "output_type": "stream",
     "text": [
      "[3, 5, 7, 6]\n"
     ]
    }
   ],
   "source": [
    "alumnos = ['Pepito', 'Yayita', 'Fulanita', 'Panchito']\n",
    "asistencia = [\n",
    "[True, True, True, False, False, False, False],\n",
    "[True, True, True, False, True,  False, True ],\n",
    "[True, True, True, True,  True,  True,  True ],\n",
    "[True, True, True, False, True,  True,  True ]]\n",
    "\n",
    "def total_por_alumno(tabla):\n",
    "    faltas_de_alumnos = []\n",
    "    for alumno in tabla:\n",
    "        faltas_de_alumnos.append(sum([1 for x in alumno if x]))\n",
    "    return faltas_de_alumnos\n",
    "\n",
    "print(total_por_alumno(asistencia))"
   ],
   "metadata": {
    "collapsed": false
   }
  },
  {
   "cell_type": "markdown",
   "source": [
    "**13.-** Escriba la función total_por_clase(tabla) que reciba como parámetro la tabla de asistencia y retorne una lista con el número de alumnos que asistió a cada clase:\n",
    "\n",
    ">>> total_por_clase(asistencia)\n",
    "[4, 4, 4, 1, 3, 2, 3]\n",
    "\n"
   ],
   "metadata": {
    "collapsed": false
   }
  },
  {
   "cell_type": "code",
   "execution_count": 79,
   "outputs": [
    {
     "name": "stdout",
     "output_type": "stream",
     "text": [
      "[4, 4, 4, 1, 3, 2, 3]\n"
     ]
    }
   ],
   "source": [
    "def total_por_clase(tabla):\n",
    "    PRIMER_ALUMNO = 0\n",
    "    total = [0 for x in range(len(tabla[PRIMER_ALUMNO]))]\n",
    "    for alumno in tabla:\n",
    "        for dia in range(len(total)):\n",
    "            if alumno[dia]:\n",
    "                total[dia] += 1\n",
    "    return total\n",
    "\n",
    "print(total_por_clase(asistencia))"
   ],
   "metadata": {
    "collapsed": false
   }
  },
  {
   "cell_type": "markdown",
   "source": [
    "**14.-** Escriba la función alumno_estrella(asistencia) que indique qué alumno asistió más a clases:\n",
    "\n",
    ">>> alumno_estrella(asistencia)\n",
    "'Fulanita'"
   ],
   "metadata": {
    "collapsed": false
   }
  },
  {
   "cell_type": "code",
   "execution_count": 82,
   "outputs": [
    {
     "name": "stdout",
     "output_type": "stream",
     "text": [
      "Fulanita\n"
     ]
    }
   ],
   "source": [
    "def alumno_estrella(asistencia, alumnos):\n",
    "    total_clases_por_alumno = total_por_alumno(asistencia)\n",
    "    index_alumno_mejor = total_dias = -1\n",
    "    for index,dias_asistencia in enumerate(total_clases_por_alumno):\n",
    "        if dias_asistencia > total_dias:\n",
    "            total_dias = dias_asistencia\n",
    "            index_alumno_mejor = index\n",
    "    return alumnos[index_alumno_mejor]\n",
    "\n",
    "print(alumno_estrella(asistencia, alumnos))"
   ],
   "metadata": {
    "collapsed": false
   }
  },
  {
   "cell_type": "markdown",
   "source": [],
   "metadata": {
    "collapsed": false
   }
  }
 ],
 "metadata": {
  "kernelspec": {
   "display_name": "Python 3",
   "language": "python",
   "name": "python3"
  },
  "language_info": {
   "codemirror_mode": {
    "name": "ipython",
    "version": 2
   },
   "file_extension": ".py",
   "mimetype": "text/x-python",
   "name": "python",
   "nbconvert_exporter": "python",
   "pygments_lexer": "ipython2",
   "version": "2.7.6"
  }
 },
 "nbformat": 4,
 "nbformat_minor": 0
}
