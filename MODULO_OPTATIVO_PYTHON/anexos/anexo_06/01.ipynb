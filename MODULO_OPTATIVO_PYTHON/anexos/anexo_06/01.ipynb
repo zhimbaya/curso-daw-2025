{
 "cells": [
  {
   "cell_type": "markdown",
   "source": [
    "# Ejercicios\n",
    "[Enlace en la web: Ejercicios](https://progra.usm.cl/apunte/ejercicios/)"
   ],
   "metadata": {
    "collapsed": false
   }
  },
  {
   "cell_type": "markdown",
   "source": [
    "## Tuplas"
   ],
   "metadata": {
    "collapsed": false
   }
  },
  {
   "cell_type": "markdown",
   "source": [
    "### Rectas\n",
    "Una recta en el plano está descrita por la ecuación: y=mx+b, donde m es la pendiente y b es el intercepto. Todos los puntos de la recta satisfacen esta ecuación.\n",
    "\n",
    "En un programa, una recta puede ser representada como una tupla (m, b).\n"
   ],
   "metadata": {
    "collapsed": false
   }
  },
  {
   "cell_type": "markdown",
   "source": [
    "**1.-** Escriba la función punto_en_recta(p, r) que indique si el punto p está en la recta r:\n",
    ">>> recta = (2, -1)     # esta es la recta y = 2x - 1\n",
    ">>> punto_en_recta((2, 3), recta)\n",
    "True\n",
    ">>> punto_en_recta((0, -1), recta)\n",
    "True\n",
    ">>> punto_en_recta((1, 2), recta)\n",
    "False\n"
   ],
   "metadata": {
    "collapsed": false
   }
  },
  {
   "cell_type": "code",
   "execution_count": 2,
   "outputs": [
    {
     "name": "stdout",
     "output_type": "stream",
     "text": [
      "True\n",
      "True\n",
      "False\n"
     ]
    }
   ],
   "source": [
    "from typing import Tuple\n",
    "\n",
    "def calcular_pertenecia_punto_a_recta(punto:Tuple[int, int], recta:Tuple[int, int]) -> bool:\n",
    "    \"\"\"Calucla la pertenencioa de un punto en una recta dada la forma (x, y) en el punto y (m, b) en la recta\n",
    "    \"\"\"\n",
    "    M = X = 0\n",
    "    B = Y = 1\n",
    "    y_calculado = recta[M]*punto[X]+recta[B]\n",
    "    return True if y_calculado == punto[Y] else False\n",
    "\n",
    "recta_usuario = (2, -1)\n",
    "punto_usuario = (2, 3)\n",
    "print(calcular_pertenecia_punto_a_recta(punto_usuario, recta_usuario))\n",
    "punto_usuario = (0, -1)\n",
    "print(calcular_pertenecia_punto_a_recta(punto_usuario, recta_usuario))\n",
    "punto_usuario = (1, 2)\n",
    "print(calcular_pertenecia_punto_a_recta(punto_usuario, recta_usuario))\n"
   ],
   "metadata": {
    "collapsed": false
   }
  },
  {
   "cell_type": "markdown",
   "source": [
    "**2.-** Escriba la función son_paralelas(r1, r2) que indique si las rectas r1 y r2 son paralelas, es decir, no se intersectan en ningún punto.\n"
   ],
   "metadata": {
    "collapsed": false
   }
  },
  {
   "cell_type": "code",
   "execution_count": 3,
   "outputs": [
    {
     "name": "stdout",
     "output_type": "stream",
     "text": [
      "False\n",
      "True\n"
     ]
    }
   ],
   "source": [
    "from typing import Tuple\n",
    "\n",
    "def calcular_si_rectas_paraleas(recta_uno:Tuple[int, int], recta_dos:Tuple[int, int]) -> bool:\n",
    "    \"\"\"Calucla el paralelismo de dos rectas dada la forma (m, b) en los dos parámetros\n",
    "    \"\"\"\n",
    "    M = 0\n",
    "\n",
    "    return True if recta_uno[M] == recta_dos[M] else False\n",
    "\n",
    "recta_usuario_1 = (1, 2)\n",
    "recta_usuario_2 = (0, 2)\n",
    "print(calcular_si_rectas_paraleas(recta_usuario_1, recta_usuario_2))\n",
    "recta_usuario_2 = (1, 5)\n",
    "print(calcular_si_rectas_paraleas(recta_usuario_1, recta_usuario_2))\n"
   ],
   "metadata": {
    "collapsed": false
   }
  },
  {
   "cell_type": "markdown",
   "source": [
    "**3.-** Escriba la función recta_que_pasa_por(p1, p2) que entregue la recta que pasa por los puntos p1 y p2:\n",
    "\n",
    ">>> recta_que_pasa_por((-2, 4), (4, 1))\n",
    "(-0.5, 3.0)\n",
    "Puede comprobar que la función está correcta verificando que ambos puntos están en la recta obtenida:\n",
    "\n",
    ">>> p1 = (-2, 4)\n",
    ">>> p2 = (4, 1)\n",
    ">>> r = recta_que_pasa_por(p1, p2)\n",
    ">>> punto_en_recta(p1, r) and punto_en_recta(p2, r)\n",
    "True\n"
   ],
   "metadata": {
    "collapsed": false
   }
  },
  {
   "cell_type": "code",
   "execution_count": 5,
   "outputs": [
    {
     "name": "stdout",
     "output_type": "stream",
     "text": [
      "Recta: (-0.5, 3.0)\n",
      "True\n",
      "True\n"
     ]
    }
   ],
   "source": [
    "from typing import Tuple\n",
    "\n",
    "def calcular_recta_que_pasa_por_dos_puntos(punto_uno:Tuple[int, int], punto_dos:Tuple[int, int]) -> Tuple[float, float]:\n",
    "    \"\"\"Calucla el paralelismo de dos rectas dada la forma (m, b) en los dos parámetros\n",
    "    \"\"\"\n",
    "    X = 0\n",
    "    Y = 1\n",
    "    m = (punto_dos[Y]-punto_uno[Y]) / (punto_dos[X]-punto_uno[X])\n",
    "    b = punto_dos[Y] - m * punto_dos[X]\n",
    "\n",
    "    return m, b\n",
    "\n",
    "punto_usuario_1 = (-2, 4)\n",
    "punto_usuario_2 = (4, 1)\n",
    "recta_usuario = calcular_recta_que_pasa_por_dos_puntos(punto_usuario_1, punto_usuario_2)\n",
    "print(\"Recta:\", recta_usuario)\n",
    "print(calcular_pertenecia_punto_a_recta(punto_usuario_1, recta_usuario))\n",
    "print(calcular_pertenecia_punto_a_recta(punto_usuario_2, recta_usuario))"
   ],
   "metadata": {
    "collapsed": false
   }
  },
  {
   "cell_type": "markdown",
   "source": [
    "**4.-** Escriba la función punto_de_interseccion(r1, r2) que entregue el punto donde las dos rectas se intersectan:\n",
    "\n",
    ">>> r1 = (2, 1)\n",
    ">>> r2 = (-1, 4)\n",
    ">>> punto_de_interseccion(r1, r2)\n",
    "(1.0, 3.0)\n",
    "Si las rectas son paralelas, la función debe retornar None."
   ],
   "metadata": {
    "collapsed": false
   }
  },
  {
   "cell_type": "code",
   "execution_count": 12,
   "outputs": [
    {
     "name": "stdout",
     "output_type": "stream",
     "text": [
      "(1.0, 3.0)\n"
     ]
    }
   ],
   "source": [
    "from typing import Tuple\n",
    "\n",
    "def calcular_punto_de_interseccion(recta_uno:Tuple[int, int], recta_dos:Tuple[int, int]) -> Tuple[float, float]:\n",
    "    \"\"\"Calucla el punto de intersección de dos rectas dada la forma (m, b) en los dos parámetros, en caso de paralelas devuelve None\n",
    "\n",
    "    https://www.lawebdelprogramador.com/foros/Python/1752706-Interseccion-entre-dos-rectas.html\n",
    "    \"\"\"\n",
    "    M = 0\n",
    "    B = 1\n",
    "\n",
    "    x = y = None\n",
    "\n",
    "    a1 = -recta_uno[M]\n",
    "    b1 = 1\n",
    "    c1 = recta_uno[B]\n",
    "\n",
    "    a2 = -recta_dos[M]\n",
    "    b2 = 1\n",
    "    c2 = recta_dos[B]\n",
    "\n",
    "    numerador_y = a2*c1 - a1*c2\n",
    "    denominador_y = a2*b1 - a1*b2\n",
    "\n",
    "    paralelas = a1*b2 == a2*b1\n",
    "    if not paralelas:\n",
    "        if a1 == 0:\n",
    "            y = c1/b1\n",
    "            x = (c2-b2*y)/a2\n",
    "        else:\n",
    "            y = numerador_y/denominador_y\n",
    "            x = (c1-b1*y)/a1\n",
    "\n",
    "    return x, y\n",
    "\n",
    "\n",
    "\n",
    "recta_usuario_1 = (2, 1)\n",
    "recta_usuario_2 = (-1, 4)\n",
    "print(calcular_punto_de_interseccion(recta_usuario_1, recta_usuario_2))"
   ],
   "metadata": {
    "collapsed": false
   }
  },
  {
   "cell_type": "markdown",
   "source": [
    "### Supermercado\n",
    "Un supermercado utiliza tablas de datos para llevar la información de su inventario.\n",
    "En un programa, cada tabla de datos es una lista de tuplas.\n",
    "La lista productos tiene el código, el nombre, el precio y la cantidad de unidades del producto en bodega:\n",
    "\n",
    ">productos = [\n",
    ">    (41419, 'Fideos',        450, 210),\n",
    ">    (70717, 'Cuaderno',      900, 119),\n",
    ">    (78714, 'Jabon',         730, 708),\n",
    ">    (30877, 'Desodorante',  2190,  79),\n",
    ">    (47470, 'Yogur',          99, 832),\n",
    ">    (50809, 'Palta',         500,  55),\n",
    ">    (75466, 'Galletas',      235,   0),\n",
    ">    (33692, 'Bebida',        700,  20),\n",
    ">    (89148, 'Arroz',         900, 121),\n",
    ">    (66194, 'Lapiz',         120, 900),\n",
    ">    (15982, 'Vuvuzela',    12990,  40),\n",
    ">    (41235, 'Chocolate',    3099,  48),\n",
    ">]\n",
    "La lista clientes tiene el rut y el nombre de los clientes del supermercado:\n",
    "\n",
    ">clientes = [\n",
    ">    ('11652624-7', 'Perico Los Palotes'),\n",
    ">    ( '8830268-0', 'Leonardo Farkas'),\n",
    ">    ( '7547896-8', 'Fulanita de Tal'),\n",
    ">]\n",
    "La lista ventas contiene las ventas realizadas, representadas por el número de boleOa, la fecha de la venta y el rut del cliente:\n",
    "\n",
    ">ventas = [\n",
    ">    (1, (2010,  9, 12),  '8830268-0'),\n",
    ">    (2, (2010,  9, 19), '11652624-7'),\n",
    ">    (3, (2010,  9, 30),  '7547896-8'),\n",
    ">    (4, (2010, 10,  1),  '8830268-0'),\n",
    ">    (5, (2010, 10, 13),  '7547896-8'),\n",
    ">    (6, (2010, 11, 11), '11652624-7'),\n",
    ">]\n",
    "El detalle de cada venta se encuentra en la lista itemes. Cada ítem tiene asociado un número de boleta, un código de producto y una cantidad:\n",
    "\n",
    ">itemes = [\n",
    ">    (1, 89148,  3),\n",
    ">    (2, 50809,  4),\n",
    ">    (2, 33692,  2),\n",
    ">    (2, 47470,  6),\n",
    ">    (3, 30877,  1),\n",
    ">    (4, 89148,  1),\n",
    ">    (4, 75466,  2),\n",
    ">    (5, 89148,  2),\n",
    ">    (5, 47470, 10),\n",
    ">    (6, 41419,  2),\n",
    ">]\n",
    "Por ejemplo, en la venta con boletO número 2, fueron vendidas 4 paltas, 2 bebidas y 6 yogures.\n",
    "\n",
    "\n"
   ],
   "metadata": {
    "collapsed": false
   }
  },
  {
   "cell_type": "code",
   "execution_count": 1,
   "outputs": [],
   "source": [
    "productos = [\n",
    "    (41419, 'Fideos',        450, 210),\n",
    "    (70717, 'Cuaderno',      900, 119),\n",
    "    (78714, 'Jabon',         730, 708),\n",
    "    (30877, 'Desodorante',  2190,  79),\n",
    "    (47470, 'Yogur',          99, 832),\n",
    "    (50809, 'Palta',         500,  55),\n",
    "    (75466, 'Galletas',      235,   0),\n",
    "    (33692, 'Bebida',        700,  20),\n",
    "    (89148, 'Arroz',         900, 121),\n",
    "    (66194, 'Lapiz',         120, 900),\n",
    "    (15982, 'Vuvuzela',    12990,  40),\n",
    "    (41235, 'Chocolate',    3099,  48),\n",
    "]\n",
    "\n",
    "clientes = [\n",
    "    ('11652624-7', 'Perico Los Palotes'),\n",
    "    ( '8830268-0', 'Leonardo Farkas'),\n",
    "    ( '7547896-8', 'Fulanita de Tal'),\n",
    "]\n",
    "\n",
    "ventas = [\n",
    "    (1, (2010,  9, 12),  '8830268-0'),\n",
    "    (2, (2010,  9, 19), '11652624-7'),\n",
    "    (3, (2010,  9, 30),  '7547896-8'),\n",
    "    (4, (2010, 10,  1),  '8830268-0'),\n",
    "    (5, (2010, 10, 13),  '7547896-8'),\n",
    "    (6, (2010, 11, 11), '11652624-7'),\n",
    "]\n",
    "\n",
    "itemes = [\n",
    "    (1, 89148,  3),\n",
    "    (2, 50809,  4),\n",
    "    (2, 33692,  2),\n",
    "    (2, 47470,  6),\n",
    "    (3, 30877,  1),\n",
    "    (4, 89148,  1),\n",
    "    (4, 75466,  2),\n",
    "    (5, 89148,  2),\n",
    "    (5, 47470, 10),\n",
    "    (6, 41419,  2),\n",
    "]"
   ],
   "metadata": {
    "collapsed": false
   }
  },
  {
   "cell_type": "markdown",
   "source": [
    "Crear las siguientes funciones"
   ],
   "metadata": {
    "collapsed": false
   }
  },
  {
   "cell_type": "markdown",
   "source": [
    "**5.-** producto_mas_caro(productos)\n",
    "'Vuvuzela'\n"
   ],
   "metadata": {
    "collapsed": false
   }
  },
  {
   "cell_type": "code",
   "execution_count": 18,
   "outputs": [
    {
     "name": "stdout",
     "output_type": "stream",
     "text": [
      "Vuvuzela\n"
     ]
    }
   ],
   "source": [
    "from typing import Tuple\n",
    "\n",
    "def calcular_producto_mas_caro(productos_de_la_tienda:Tuple[Tuple[int, str,int,int]]) -> str:\n",
    "    INDEX_PRECIO_PRODUCTO = 2\n",
    "    PRIMER_PRODUCTO = 0\n",
    "    NOMBRE_PRODUCTO = 1\n",
    "    productos_ordenados_segun_precio_mayor_a_menor = sorted(productos_de_la_tienda, key = lambda x: x[INDEX_PRECIO_PRODUCTO], reverse=True)\n",
    "\n",
    "    return productos_ordenados_segun_precio_mayor_a_menor[PRIMER_PRODUCTO][NOMBRE_PRODUCTO]\n",
    "\n",
    "print(calcular_producto_mas_caro(productos))"
   ],
   "metadata": {
    "collapsed": false
   }
  },
  {
   "cell_type": "markdown",
   "source": [
    "**6.-** valor_total_bodega(productos)\n",
    "1900570\n"
   ],
   "metadata": {
    "collapsed": false
   }
  },
  {
   "cell_type": "code",
   "execution_count": 17,
   "outputs": [
    {
     "name": "stdout",
     "output_type": "stream",
     "text": [
      "1900570\n"
     ]
    }
   ],
   "source": [
    "def calcular_valor_total_bodega(productos_de_la_tienda: Tuple[Tuple[int, str,int,int]]) -> int:\n",
    "    INX_PRECIO_PRODUCTO = 2\n",
    "    INX_CANTIDAD_PRODUCTO = 3\n",
    "    PRECIO = 0\n",
    "    CANTIDAD = 1\n",
    "\n",
    "    todos_los_precios = list(map(lambda x: x[INX_PRECIO_PRODUCTO], productos_de_la_tienda))\n",
    "    todas_las_cantidades = list(map(lambda x: x[INX_CANTIDAD_PRODUCTO], productos_de_la_tienda))\n",
    "    todos_los_precios_por_su_cantidad = list(map(lambda producto: producto[PRECIO]*producto[CANTIDAD], zip(todos_los_precios, todas_las_cantidades)))\n",
    "    return sum(todos_los_precios_por_su_cantidad)\n",
    "\n",
    "print(calcular_valor_total_bodega(productos))"
   ],
   "metadata": {
    "collapsed": false
   }
  },
  {
   "cell_type": "markdown",
   "source": [
    "=**7.-** ingreso_total_por_ventas(itemes, productos)\n",
    "13944\n"
   ],
   "metadata": {
    "collapsed": false
   }
  },
  {
   "cell_type": "code",
   "execution_count": 11,
   "outputs": [
    {
     "name": "stdout",
     "output_type": "stream",
     "text": [
      "13944\n"
     ]
    }
   ],
   "source": [
    "def calcular_ingreso_total_por_ventas(itemes_vendidos:Tuple[Tuple[int, int, int]], productos_de_la_tienda: Tuple[Tuple[int, str,int,int]]) -> int:\n",
    "    def buscar_precio_producto(producto_buscado):\n",
    "        for codigo, _, precio, _ in productos_de_la_tienda:\n",
    "            if codigo == producto_buscado:\n",
    "                return precio\n",
    "\n",
    "    ingresso_total = 0\n",
    "    for _,producto,cantidad in itemes_vendidos:\n",
    "        ingresso_total += buscar_precio_producto(producto) * cantidad\n",
    "\n",
    "    return ingresso_total\n",
    "\n",
    "print(calcular_ingreso_total_por_ventas(itemes, productos))"
   ],
   "metadata": {
    "collapsed": false
   }
  },
  {
   "cell_type": "markdown",
   "source": [
    "**8.-** producto_con_mas_ingresos(itemes, productos)\n",
    "'Arroz'\n"
   ],
   "metadata": {
    "collapsed": false
   }
  },
  {
   "cell_type": "code",
   "execution_count": 66,
   "outputs": [
    {
     "name": "stdout",
     "output_type": "stream",
     "text": [
      "Arroz\n"
     ]
    }
   ],
   "source": [
    "def calcular_producto_con_mas_ingresos(itemes_vendidos:Tuple[Tuple[int, int, int]], productos_de_la_tienda: Tuple[Tuple[int, str,int,int]]) -> str:\n",
    "    def buscar_precio_y_nombre_producto(producto_buscado):\n",
    "        for codigo, nombre, precio, _ in productos_de_la_tienda:\n",
    "            if codigo == producto_buscado:\n",
    "                return precio, nombre\n",
    "\n",
    "    def buscar_producto_mas_vendido(ingresos_por_productos_a_tratar):\n",
    "        MAS_VENDIDO = -1\n",
    "        PRODUCTO = 0\n",
    "        VALUE = 1\n",
    "        return sorted(ingresos_por_productos_a_tratar.items(), key=lambda item:item[VALUE])[MAS_VENDIDO][PRODUCTO]\n",
    "\n",
    "    ingresos_por_producto = {}\n",
    "    for _,producto,cantidad in itemes_vendidos:\n",
    "        precio,nombre = buscar_precio_y_nombre_producto(producto)\n",
    "        if nombre not in ingresos_por_producto.keys():\n",
    "            ingresos_por_producto[nombre] = precio * cantidad\n",
    "        else:\n",
    "            ingresos_por_producto[nombre] += precio * cantidad\n",
    "\n",
    "    return buscar_producto_mas_vendido(ingresos_por_producto)\n",
    "\n",
    "print(calcular_producto_con_mas_ingresos(itemes, productos))"
   ],
   "metadata": {
    "collapsed": false
   }
  },
  {
   "cell_type": "markdown",
   "source": [
    "**9.-** cliente_que_mas_pago(itemes, productos, ventas, clientes)\n",
    "'Fulanita de Tal'\n"
   ],
   "metadata": {
    "collapsed": false
   }
  },
  {
   "cell_type": "code",
   "execution_count": 46,
   "outputs": [
    {
     "name": "stdout",
     "output_type": "stream",
     "text": [
      "Fulanita de Tal\n"
     ]
    }
   ],
   "source": [
    "\n",
    "def calcular_cliente_que_mas_pago(itemes_vendidos:Tuple[Tuple[int, int, int]],\n",
    "                                  productos_de_la_tienda: Tuple[Tuple[int, str,int,int]],\n",
    "                                  ventas_de_la_tienda: Tuple[Tuple[str, str]],\n",
    "                                  clientes_de_la_tienda: Tuple[Tuple[str, str]],) -> str:\n",
    "\n",
    "    def buscar_precio_y_nombre_producto(producto_buscado):\n",
    "        for codigo, nombre, precio, _ in productos_de_la_tienda:\n",
    "            if codigo == producto_buscado:\n",
    "                return precio, nombre\n",
    "\n",
    "    def buscar_id_cliente_en_venta(venta_buscada):\n",
    "        for id_venta, _, cliente in ventas_de_la_tienda:\n",
    "            if id_venta == venta_buscada:\n",
    "                return cliente\n",
    "\n",
    "    def buscar_nombre_cliente_en_clientes(cliente_a_buscar):\n",
    "        for id_cliente, nombre_cliente in clientes_de_la_tienda:\n",
    "            if id_cliente == cliente_a_buscar:\n",
    "                return nombre_cliente\n",
    "\n",
    "    def buscar_cliente_que_mas_compra(ingresos_de_los_clientes):\n",
    "        MAS_VENDIDO = ID_CLIENTE = 0\n",
    "        VALUE = 1\n",
    "        return sorted(ingresos_de_los_clientes.items(), key=lambda item:item[VALUE], reverse=True)[MAS_VENDIDO][ID_CLIENTE]\n",
    "\n",
    "    ingresos_por_cliente = {}\n",
    "    for venta, producto, cantidad in itemes_vendidos:\n",
    "        cliente = buscar_id_cliente_en_venta(venta)\n",
    "        precio,nombre = buscar_precio_y_nombre_producto(producto)\n",
    "        if cliente not in ingresos_por_cliente.keys():\n",
    "            ingresos_por_cliente[cliente] = precio * cantidad\n",
    "        else:\n",
    "            ingresos_por_cliente[cliente] += precio * cantidad\n",
    "\n",
    "    id_cliente_mas_compra = buscar_cliente_que_mas_compra(ingresos_por_cliente)\n",
    "    return buscar_nombre_cliente_en_clientes(id_cliente_mas_compra)\n",
    "\n",
    "\n",
    "print(calcular_cliente_que_mas_pago(itemes, productos, ventas, clientes))"
   ],
   "metadata": {
    "collapsed": false
   }
  },
  {
   "cell_type": "markdown",
   "source": [
    "**10.-** total_ventas_del_mes(2010, 10, itemes, ventas, productos)\n",
    "4160\n"
   ],
   "metadata": {
    "collapsed": false
   }
  },
  {
   "cell_type": "code",
   "execution_count": 53,
   "outputs": [
    {
     "name": "stdout",
     "output_type": "stream",
     "text": [
      "4160\n"
     ]
    }
   ],
   "source": [
    "def calcular_total_ventas_del_mes(anio: int, mes: int,\n",
    "                                  itemes_vendidos:Tuple[Tuple[int, int, int]],\n",
    "                                  ventas_de_la_tienda: Tuple[Tuple[str, str]],\n",
    "                                  productos_de_la_tienda: Tuple[Tuple[int, str,int,int]]) -> int:\n",
    "\n",
    "    def buscar_precio_producto(producto_buscado):\n",
    "        for codigo, _, precio, _ in productos_de_la_tienda:\n",
    "            if codigo == producto_buscado:\n",
    "                return precio\n",
    "\n",
    "    def buscar_suma_total_venta(venta):\n",
    "        total_venta = 0\n",
    "        for id_venta, id_producto, cantidad in itemes_vendidos:\n",
    "            if id_venta == venta:\n",
    "                total_venta += cantidad * buscar_precio_producto(id_producto)\n",
    "        return total_venta\n",
    "\n",
    "\n",
    "    ANIO = 0\n",
    "    MES = 1\n",
    "    total_del_mes = 0\n",
    "    for id_venta, fecha, _ in ventas_de_la_tienda:\n",
    "        if fecha[ANIO] == anio and fecha[MES] == mes:\n",
    "            total_del_mes += buscar_suma_total_venta(id_venta)\n",
    "    return total_del_mes\n",
    "\n",
    "print(calcular_total_ventas_del_mes(2010, 10, itemes, ventas, productos))"
   ],
   "metadata": {
    "collapsed": false
   }
  },
  {
   "cell_type": "markdown",
   "source": [
    "**11.-** fecha_ultima_venta_producto(47470, itemes, ventas)\n",
    "(2010, 10, 13)"
   ],
   "metadata": {
    "collapsed": false
   }
  },
  {
   "cell_type": "code",
   "execution_count": 69,
   "outputs": [
    {
     "name": "stdout",
     "output_type": "stream",
     "text": [
      "(2010, 10, 13)\n"
     ]
    }
   ],
   "source": [
    "def calcular_fecha_ultima_venta_producto(producto: int,\n",
    "                                  itemes_vendidos:Tuple[Tuple[int, int, int]],\n",
    "                                  ventas_de_la_tienda: Tuple[Tuple[str, str]]) -> Tuple[int, int]:\n",
    "    ULTIMA_FECHA = -1\n",
    "    def buscar_fecha_venta(venta):\n",
    "        for id_venta, fecha_venta, _ in ventas_de_la_tienda:\n",
    "            if id_venta == venta:\n",
    "                return fecha_venta\n",
    "\n",
    "    fechas_de_venta_del_producto = []\n",
    "    for id_venta, id_producto, _ in itemes_vendidos:\n",
    "        if id_producto == producto:\n",
    "            fechas_de_venta_del_producto.append(buscar_fecha_venta(id_venta))\n",
    "\n",
    "    return sorted(fechas_de_venta_del_producto)[ULTIMA_FECHA]\n",
    "\n",
    "\n",
    "print(calcular_fecha_ultima_venta_producto(47470, itemes, ventas))"
   ],
   "metadata": {
    "collapsed": false
   }
  }
 ],
 "metadata": {
  "kernelspec": {
   "display_name": "Python 3",
   "language": "python",
   "name": "python3"
  },
  "language_info": {
   "codemirror_mode": {
    "name": "ipython",
    "version": 2
   },
   "file_extension": ".py",
   "mimetype": "text/x-python",
   "name": "python",
   "nbconvert_exporter": "python",
   "pygments_lexer": "ipython2",
   "version": "2.7.6"
  }
 },
 "nbformat": 4,
 "nbformat_minor": 0
}
