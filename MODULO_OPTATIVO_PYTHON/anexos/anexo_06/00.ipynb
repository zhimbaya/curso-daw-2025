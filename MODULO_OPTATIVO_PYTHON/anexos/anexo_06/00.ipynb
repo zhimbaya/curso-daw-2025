{
 "cells": [
  {
   "cell_type": "markdown",
   "source": [
    "# Ejercicios\n",
    "[Enlace en la web: Ejercicios](http://progra.usm.cl/apunte/ejercicios/)"
   ],
   "metadata": {
    "collapsed": false
   }
  },
  {
   "cell_type": "markdown",
   "source": [
    "## Simples"
   ],
   "metadata": {
    "collapsed": false
   }
  },
  {
   "cell_type": "markdown",
   "source": [
    "**1.-** Escriba un programa que pida al usuario un entero de tres dígitos, y entregue el número con los dígitos en orden inverso sin pasar a cadena"
   ],
   "metadata": {
    "collapsed": false
   }
  },
  {
   "cell_type": "code",
   "execution_count": 8,
   "outputs": [
    {
     "name": "stdout",
     "output_type": "stream",
     "text": [
      "158\n"
     ]
    }
   ],
   "source": [
    "numero = 851   # int(input(\"¿Número?\"))\n",
    "print(str(numero % 100 % 10) + str(numero % 100 // 10) + str(numero // 100))\n"
   ],
   "metadata": {
    "collapsed": false
   }
  },
  {
   "cell_type": "markdown",
   "source": [
    "**2.-** Escriba un programa que pida al usuario dos palabras, y que indique cuál de ellas es la más larga y por cuántas letras lo es."
   ],
   "metadata": {
    "collapsed": false
   }
  },
  {
   "cell_type": "code",
   "execution_count": 11,
   "outputs": [
    {
     "name": "stdout",
     "output_type": "stream",
     "text": [
      "La palabra más larga es:Macario Toledo y se diferencia en 10\n"
     ]
    }
   ],
   "source": [
    "palabra_1 = \"Hola\"  # int(input(\"¿Palabra?\"))\n",
    "palabra_2 = \"Macario Toledo\"  # int(input(\"¿Palabra?\"))\n",
    "\n",
    "print(f\"La palabra más larga es:{palabra_1 if len(palabra_1) > len(palabra_2) else palabra_2} y se diferencia en {abs(len(palabra_1) - len(palabra_2))}\")"
   ],
   "metadata": {
    "collapsed": false
   }
  },
  {
   "cell_type": "markdown",
   "source": [
    "**3.-** Escriba un programa que entregue la edad del usuario a partir de su fecha de nacimiento:\n",
    "from datetime import datetime\n",
    ">>> now = datetime.now()\n",
    "\n",
    "Podemos acceder individualmente a los valores de la fecha.\n",
    "\n",
    ">>> now.year   # Año.\n",
    "2018\n",
    ">>> now.month  # Mes.\n",
    "6\n",
    ">>> now.day    # Día.\n",
    "15\n"
   ],
   "metadata": {
    "collapsed": false
   }
  },
  {
   "cell_type": "code",
   "execution_count": null,
   "outputs": [],
   "source": [
    "dia = 11\n",
    "mes = 12\n",
    "annio = 1974\n",
    "\n",
    "from datetime import datetime\n",
    "now = datetime.now()\n",
    "\n",
    "edad = now.year - annio\n",
    "if now.month < mes:\n",
    "    edad -= 1\n",
    "elif now.month ==  mes and now.day < dia:\n",
    "    edad -= 1\n",
    "print(edad)"
   ],
   "metadata": {
    "collapsed": false
   }
  },
  {
   "cell_type": "markdown",
   "source": [
    "**4.-** Escriba un programa que pida al usuario dos números enteros, y luego entregue la suma de todos los números que están entre ellos. Por ejemplo, si los números son 1 y 7, debe entregar como resultado 2 + 3 + 4 + 5 + 6 = 20."
   ],
   "metadata": {
    "collapsed": false
   }
  },
  {
   "cell_type": "code",
   "execution_count": 17,
   "outputs": [
    {
     "name": "stdout",
     "output_type": "stream",
     "text": [
      "20\n"
     ]
    }
   ],
   "source": [
    "numero_1 = 1\n",
    "numero_2 = 7\n",
    "print(sum(range(numero_1+1, numero_2)))"
   ],
   "metadata": {
    "collapsed": false
   }
  },
  {
   "cell_type": "markdown",
   "source": [
    "**5.-** Un viajero desea saber cuánto tiempo tomó un viaje que realizó. Él tiene la duración en minutos de cada uno de los tramos del viaje.\n",
    "\n",
    "Desarrolle un programa que permita ingresar los tiempos de viaje de los tramos y entregue como resultado el tiempo total de viaje en formato horas:minutos."
   ],
   "metadata": {
    "collapsed": false
   }
  },
  {
   "cell_type": "code",
   "execution_count": 1,
   "outputs": [
    {
     "name": "stdout",
     "output_type": "stream",
     "text": [
      "44\n",
      "77\n",
      "son 1 horas y 17 minutos\n"
     ]
    }
   ],
   "source": [
    "cantidad_numeros = 0\n",
    "suma_minutos = 0\n",
    "minutos = 0\n",
    "while (minutos := int(input('Minutos: '))) != 0:\n",
    "    suma_minutos += minutos\n",
    "    cantidad_numeros += 1\n",
    "    print(suma_minutos)\n",
    "print(f\"son {suma_minutos // 60} horas y {suma_minutos % 60 } minutos\")"
   ],
   "metadata": {
    "collapsed": false
   }
  },
  {
   "cell_type": "markdown",
   "source": [
    "**6.-** La secuencia de Collatz de un número entero se construye de la siguiente forma:\n",
    "\n",
    "Si el número es par, se lo divide por dos;\n",
    "Si es impar, se le multiplica tres y se le suma uno;\n",
    "la sucesión termina al llegar a uno.\n",
    "La conjetura de Collatz afirma que, al partir desde cualquier número, la secuencia siempre llegará a 1. A pesar de ser una afirmación a simple vista muy simple, no se ha podido demostrar si es cierta o no.\n",
    "\n",
    "Usando computadores, se ha verificado que la sucesión efectivamente llega a 1 partiendo desde cualquier número natural menor que 258.\n",
    "\n",
    "Desarrolle un programa que entregue la secuencia de Collatz de un número entero:\n",
    "\n",
    "n: 18\n",
    "18 9 28 14 7 22 11 34 17 52 26 13 40 20 10 5 16 8 4 2 1\n",
    "n: 19\n",
    "19 58 29 88 44 22 11 34 17 52 26 13 40 20 10 5 16 8 4 2 1\n",
    "n: 20\n",
    "20 10 5 16 8 4 2 1\n"
   ],
   "metadata": {
    "collapsed": false
   }
  },
  {
   "cell_type": "code",
   "execution_count": 6,
   "outputs": [
    {
     "name": "stdout",
     "output_type": "stream",
     "text": [
      "18 9 28 14 7 22 11 34 17 52 26 13 40 20 10 5 16 8 4 2 1 "
     ]
    }
   ],
   "source": [
    "numero = int(input(\"Número:\"))\n",
    "numero = numero if numero < 258 else 258\n",
    "print(numero, end=' ')\n",
    "while numero > 1:\n",
    "    if numero % 2 == 0:\n",
    "        numero //= 2\n",
    "    else:\n",
    "        numero = numero * 3 +1\n",
    "    print(numero, end=' ')"
   ],
   "metadata": {
    "collapsed": false
   }
  },
  {
   "cell_type": "markdown",
   "source": [
    "**7.-**  Desarrolle un programa que grafique los largos de las secuencias de Collatz de los números enteros positivos menores que el ingresado por el usuario:\n",
    "\n",
    "n: 20\n",
      "1 *\n",
      "2 **\n",
      "4 ****\n",
      "8 ********\n",
      "16 ****************\n",
      "5 *****\n",
      "10 **********\n",
      "20 ********************\n"
   ],
   "metadata": {
    "collapsed": false
   }
  },
  {
   "cell_type": "code",
   "execution_count": 10,
   "outputs": [
    {
     "name": "stdout",
     "output_type": "stream",
     "text": [
      "1 *\n",
      "2 **\n",
      "4 ****\n",
      "8 ********\n",
      "16 ****************\n",
      "5 *****\n",
      "10 **********\n",
      "20 ********************\n"
     ]
    }
   ],
   "source": [
    "numero = int(input(\"Número:\"))\n",
    "numero = numero if numero < 258 else 258\n",
    "numeros = [numero]\n",
    "while numero > 1:\n",
    "    if numero % 2 == 0:\n",
    "        numero //= 2\n",
    "    else:\n",
    "        numero = numero * 3 +1\n",
    "    numeros.append(numero)\n",
    "for numero in numeros[::-1]:\n",
    "    print(numero, numero*\"*\")"
   ],
   "metadata": {
    "collapsed": false
   }
  },
  {
   "cell_type": "markdown",
   "source": [
    "**8.-**  Escriba un programa que permita determinar el número mayor perteneciente a un conjunto de n números, donde tanto el valor de n como el de los números deben ser ingresados por el usuario, terminará al introducir Fin\n"
   ],
   "metadata": {
    "collapsed": false
   }
  },
  {
   "cell_type": "code",
   "execution_count": 6,
   "outputs": [
    {
     "name": "stdout",
     "output_type": "stream",
     "text": [
      "El mayor es: -6\n"
     ]
    }
   ],
   "source": [
    "mayor = -9999999999999\n",
    "fin = False\n",
    "\n",
    "while not fin:\n",
    "    valor = input(\"¿Valor (Fin: para terminar)?\")\n",
    "    if valor == \"Fin\":\n",
    "        fin = True\n",
    "    else:\n",
    "        valor = int(valor)\n",
    "        mayor = valor if valor > mayor else mayor\n",
    "\n",
    "print(f\"El mayor es: {mayor}\")"
   ],
   "metadata": {
    "collapsed": false
   }
  },
  {
   "cell_type": "markdown",
   "source": [
    "**9.-** Un jugador debe lanzar dos dados numerados de 1 a 6, y su puntaje es la suma de los valores obtenidos.\n",
    "\n",
    "Un puntaje dado puede ser obtenido con varias combinaciones posibles. Por ejemplo, el puntaje 4 se logra con las siguientes tres combinaciones: 1+3, 2+2 y 3+1.\n",
    "\n",
    "Escriba un programa que pregunte al usuario un puntaje, y muestre como resultado la cantidad de combinaciones de dados con las que se puede obtener ese puntaje.\n",
    "\n",
    "Ingrese el puntaje: 4\n",
    "Hay 3 combinaciones para obtener 4\n",
    "Ingrese el puntaje: 11\n",
    "Hay 2 combinaciones para obtener 11\n",
    "Ingrese el puntaje: 17\n",
    "Hay 0 combinaciones para obtener 17"
   ],
   "metadata": {
    "collapsed": false
   }
  },
  {
   "cell_type": "code",
   "execution_count": 12,
   "outputs": [
    {
     "name": "stdout",
     "output_type": "stream",
     "text": [
      "Número de combinaciones: 0\n"
     ]
    }
   ],
   "source": [
    "combinaciones = 0\n",
    "puntuacion = int(input(\"Puntuación a buscar:\"))\n",
    "for dado_1 in range(1, 7):\n",
    "    for dado_2 in range(1, 7):\n",
    "        if dado_1 + dado_2 == puntuacion:\n",
    "            combinaciones += 1\n",
    "print(f\"Número de combinaciones: {combinaciones}\")"
   ],
   "metadata": {
    "collapsed": false
   }
  },
  {
   "cell_type": "markdown",
   "source": [
    "**10.-** Escriba un programa que pida al usuario que ingrese varios valores enteros, que pueden ser positivos o negativos. Cuando se ingrese un cero, el programa debe terminar y mostrar un gráfico de cuántos valores positivos y negativos fueron ingresados:\n",
    "\n",
    "Ingrese varios valores, termine con cero:\n",
    "-17\n",
    "-12\n",
    "14\n",
    "-5\n",
    "-8128\n",
    "3\n",
    "-2\n",
    "-9\n",
    "1500\n",
    "-43\n",
    "0\n",
    "Positivos: ***\n",
    "Negativos: *******"
   ],
   "metadata": {
    "collapsed": false
   }
  },
  {
   "cell_type": "code",
   "execution_count": 13,
   "outputs": [
    {
     "name": "stdout",
     "output_type": "stream",
     "text": [
      "Positivos: ***\n",
      "Negativos: *******\n"
     ]
    }
   ],
   "source": [
    "positivos = negativos = 0\n",
    "valor = None\n",
    "\n",
    "while valor != 0:\n",
    "    valor = int(input(\"Valor?\"))\n",
    "    if valor > 0:  # No se pone igual ya que es la condición de finalización\n",
    "        positivos += 1\n",
    "    elif valor < 0:  # No se pone igual ya que es la condición de finalización\n",
    "        negativos += 1\n",
    "print(\"Positivos:\", \"*\" * positivos)\n",
    "print(\"Negativos:\", \"*\" * negativos)\n"
   ],
   "metadata": {
    "collapsed": false
   }
  },
  {
   "cell_type": "markdown",
   "source": [
    "**11.-** Desarrolle un programa que calcule el dígito verificador de un rol UTFSM.\n",
    "\n",
    "Para calcular el dígito verificador, se deben realizar los siguientes pasos:\n",
    "\n",
    "Obtener el rol sin guión ni dígito verificador.\n",
    "Invertir el número. (e.g: de 201012341 a 143210102).\n",
    "\n",
    "Multiplicar los dígitos por la secuencia 2, 3, 4, 5, 6, 7, si es que se acaban los números, se debe comenzar denuevo, por ejemplo, con 143210102:\n",
    "1×2+4×3+3×4+2×5+1×6+0×7+1×2+0×3+2×4=52\n",
    "Al resultado obtenido, es decir, 52, debemos sacarle el módulo 11, es decir:\n",
    "\n",
    "52 % 11 = 8\n",
    "\n",
    "Con el resultado obtenido en el paso anterior, debemos restarlo de 11:\n",
    "\n",
    "11 − 8 = 3\n",
    "\n",
    "Finalmente, el dígito verificador será el obtenido en la resta: 201012341-3."
   ],
   "metadata": {
    "collapsed": false
   }
  },
  {
   "cell_type": "code",
   "execution_count": 13,
   "outputs": [
    {
     "name": "stdout",
     "output_type": "stream",
     "text": [
      "201012341-3\n"
     ]
    }
   ],
   "source": [
    "numero = input(\"¿Número?\")\n",
    "multiplicadores = [2, 3, 4, 5, 6, 7]\n",
    "posicion_actual = 0\n",
    "valor = 0\n",
    "for digito in numero:\n",
    "    valor += int(digito)*multiplicadores[posicion_actual]\n",
    "    posicion_actual = (posicion_actual + 1) % len(multiplicadores)\n",
    "valor %= 11\n",
    "valor = 11 - valor\n",
    "print(f\"{numero[::-1]}-{valor}\")"
   ],
   "metadata": {
    "collapsed": false
   }
  },
  {
   "cell_type": "markdown",
   "source": [
    "**12.-** La siguiente espiral de 5 × 5 se forma comenzando del número 1, y moviéndose a la derecha en el sentido de las agujas del reloj:\n",
    "\n",
    "21 22 23 24 25\n",
    "20  7  8  9 10\n",
    "19  6  1  2 11\n",
    "18  5  4  3 12\n",
    "17 16 15 14 13\n",
    "\n",
    "La suma de las diagonales de esta espiral es 101. Escriba un programa que entregue la suma de las diagonales en una espiral de 1001 × 1001 creada de la misma manera.\n",
    "\n",
    "https://www.educative.io/answers/how-to-solve-the-number-spiral-diagonals-problem"
   ],
   "metadata": {
    "collapsed": false
   }
  },
  {
   "cell_type": "code",
   "execution_count": 19,
   "outputs": [
    {
     "name": "stdout",
     "output_type": "stream",
     "text": [
      "669171001.0\n"
     ]
    }
   ],
   "source": [
    "def suma(dim):\n",
    "  n = (dim - 1) /2\n",
    "  x = (3 + 2 * n * ( 8 * n * n + 15 * n +13)) /3\n",
    "  return x\n",
    "\n",
    "diagonal = suma(1001)\n",
    "print(diagonal)"
   ],
   "metadata": {
    "collapsed": false
   }
  },
  {
   "cell_type": "markdown",
   "source": [
    "**13.-** Entre todos los enteros mayores a 1 hay solamente cuatro que pueden ser representados por la suma de los cubos de sus dígitos.\n",
    "\n",
    "Uno de esos números es 153 pues:\n",
    "\n",
    "1**3+5**3+3**3=1+125+27=153\n",
    "Desarrolle un programa para poder determinar los otros tres números.\n",
    "\n",
    "Tenga en cuenta que los números se encuentran entre 150 y 410."
   ],
   "metadata": {
    "collapsed": false
   }
  },
  {
   "cell_type": "code",
   "execution_count": 30,
   "outputs": [
    {
     "name": "stdout",
     "output_type": "stream",
     "text": [
      "153\n",
      "370\n",
      "371\n",
      "407\n"
     ]
    }
   ],
   "source": [
    "for n in range(150, 410):\n",
    "    n = str(n)\n",
    "    suma = 0\n",
    "    for d in n:\n",
    "        suma = suma + int(d)**3\n",
    "    if str(suma) == n:\n",
    "        print(n)"
   ],
   "metadata": {
    "collapsed": false
   }
  }
 ],
 "metadata": {
  "kernelspec": {
   "display_name": "Python 3",
   "language": "python",
   "name": "python3"
  },
  "language_info": {
   "codemirror_mode": {
    "name": "ipython",
    "version": 2
   },
   "file_extension": ".py",
   "mimetype": "text/x-python",
   "name": "python",
   "nbconvert_exporter": "python",
   "pygments_lexer": "ipython2",
   "version": "2.7.6"
  }
 },
 "nbformat": 4,
 "nbformat_minor": 0
}
