{
 "cells": [
  {
   "cell_type": "markdown",
   "source": [
    "# Ejercicios\n",
    "[Enlace en la web: Ejercicios](https://progra.usm.cl/apunte/ejercicios/)"
   ],
   "metadata": {
    "collapsed": false
   }
  },
  {
   "cell_type": "markdown",
   "source": [
    "## Listas"
   ],
   "metadata": {
    "collapsed": false
   }
  },
  {
   "cell_type": "markdown",
   "source": [
    "**1.-** Escriba la función mayores_que(x, valores) que cuente cuántos valores en la lista valores son mayores que x:\n",
    "\n",
    ">>> mayores_que(5, [7, 3, 6, 0, 4, 5, 10])\n",
    "3\n",
    ">>> mayores_que(2, [-1, 1, 8, 2, 0])\n",
    "1\n"
   ],
   "metadata": {
    "collapsed": false
   }
  },
  {
   "cell_type": "code",
   "execution_count": 5,
   "outputs": [
    {
     "name": "stdout",
     "output_type": "stream",
     "text": [
      "3\n",
      "1\n"
     ]
    }
   ],
   "source": [
    "def buscar_mayores_que(numero_a_buscar:int, numeros:[int])->int:\n",
    "    total_de_numeros_mayores = 0\n",
    "    for numero in numeros:\n",
    "        total_de_numeros_mayores += 1 if numero > numero_a_buscar else 0\n",
    "    return total_de_numeros_mayores\n",
    "\n",
    "def buscar_mayores_que_counter(numero_a_buscar:int, numeros:[int])->int:\n",
    "    from collections import Counter\n",
    "    total_de_numeros_mayores = Counter(numeros)\n",
    "    print(total_de_numeros_mayores)\n",
    "\n",
    "\n",
    "print(buscar_mayores_que(5, [7, 3, 6, 0, 4, 5, 10]))\n",
    "print(buscar_mayores_que(2, [-1, 1, 8, 2, 0]))"
   ],
   "metadata": {
    "collapsed": false
   }
  },
  {
   "cell_type": "markdown",
   "source": [
    "**2.-** Escriba un programa que pregunte al usuario cuántos datos ingresará, a continuación le pida que ingrese los datos uno por uno, y finalmente entregue como salida cuántos de los datos ingresados son mayores que el promedio.\n",
    "\n",
    "Cuantos datos ingresara? 5\n",
    "Dato 1: 6.5\n",
    "Dato 2: 2.1\n",
    "Dato 3: 2.0\n",
    "Dato 4: 2.2\n",
    "Dato 5: 6.1\n",
    "2 datos son mayores que el promedio"
   ],
   "metadata": {
    "collapsed": false
   }
  },
  {
   "cell_type": "code",
   "execution_count": 10,
   "outputs": [
    {
     "name": "stdout",
     "output_type": "stream",
     "text": [
      "2 datos son mayores que el promedio\n"
     ]
    }
   ],
   "source": [
    "def buscar_numeros_mayores_que_media():\n",
    "    total_de_numeros_a_pedir = int(input(\"¿Cuántos datos ingresará?\"))\n",
    "    numeros_pedidos = []\n",
    "    for numero in range(1, total_de_numeros_a_pedir+1):\n",
    "        numeros_pedidos.append(float(input(f\"Dato {numero}: \")))\n",
    "\n",
    "    media = sum(numeros_pedidos) / len(numeros_pedidos)\n",
    "\n",
    "    total_numeros_mayores_que_media = len(list(filter(lambda x:x>media, numeros_pedidos)))\n",
    "\n",
    "    print(f\"{total_numeros_mayores_que_media} datos son mayores que el promedio\")\n",
    "\n",
    "buscar_numeros_mayores_que_media()"
   ],
   "metadata": {
    "collapsed": false
   }
  },
  {
   "cell_type": "markdown",
   "source": [
    "### Polinomios\n",
    "Un polinomio de grado n es una función matemática de la forma:\n",
    "\n",
    "p(x)=a0+a1x+a2x^2+a3x^3+⋯+anx^n,\n",
    "donde x es el parámetro y a0,a1,…,an son números reales dados.\n",
    "\n",
    "Algunos ejemplos de polinomios son:\n",
    "\n",
    "p(x)=1+2x+x^2,\n",
    "q(x)=4−17x,\n",
    "r(x)=−1−5x^3+3x^5,\n",
    "\n",
    "Los grados de estos polinomios son, respectivamente, 2, 1, y 5\n",
    "\n",
    "Evaluar un polinomio significa reemplazar x por un valor y obtener el resultado. Por ejemplo, si evaluamos el polinomio p en el valor x=3, obtenemos el resultado:\n",
    "\n",
    "p(3)=1+2⋅3+32=16\n",
    "Un polinomio puede ser representado como una lista con los valores a0,a1,…,an. Por ejemplo, los polinomios anteriores pueden ser representados así en un programa:\n",
    "\n",
    ">>> p = [1, 2, 1]\n",
    ">>> q = [4, -17]\n",
    ">>> r = [-1, 0, 0, -5, 0, 3]\n"
   ],
   "metadata": {
    "collapsed": false
   }
  },
  {
   "cell_type": "code",
   "execution_count": 75,
   "outputs": [],
   "source": [
    "p = [1, 2, 1]\n",
    "q = [4, -17]\n",
    "r = [-1, 0, 0, -5, 0, 3]"
   ],
   "metadata": {
    "collapsed": false
   }
  },
  {
   "cell_type": "markdown",
   "source": [
    "\n",
    "**3.-** Escriba la función grado(p) que entregue el grado de un polinomio:\n",
    "\n",
    ">>> grado(r)\n",
    "5\n",
    ">>> grado(p)\n",
    "2\n",
    "\n"
   ],
   "metadata": {
    "collapsed": false
   }
  },
  {
   "cell_type": "code",
   "execution_count": 27,
   "outputs": [
    {
     "name": "stdout",
     "output_type": "stream",
     "text": [
      "5 2\n"
     ]
    }
   ],
   "source": [
    "def grado(polinomio:list[int])->int:\n",
    "    return len(polinomio) - 1\n",
    "\n",
    "print(grado(r), grado(p))"
   ],
   "metadata": {
    "collapsed": false
   }
  },
  {
   "cell_type": "markdown",
   "source": [
    "**4.-** Escriba la función evaluar(p, x) que evalúe el polinomio p (representado como una lista) en el valor x:\n",
    "\n",
    ">>> evaluar(p, 3)\n",
    "16\n",
    ">>> evaluar(q, 0.0)\n",
    "4.0\n",
    ">>> evaluar(r, 1.1)\n",
    "-2.82347\n",
    ">>> evaluar([4, 3, 1], 3.14)\n",
    "23.2796\n",
    "\n"
   ],
   "metadata": {
    "collapsed": false
   }
  },
  {
   "cell_type": "code",
   "execution_count": 28,
   "outputs": [
    {
     "name": "stdout",
     "output_type": "stream",
     "text": [
      "16\n"
     ]
    }
   ],
   "source": [
    "def evaluar(polinomio:list[int], valor:float)->float:\n",
    "    valor_evaluado = grado_actual = 0\n",
    "    for coeficiente in polinomio:\n",
    "        valor_evaluado += coeficiente * (valor ** grado_actual)\n",
    "        grado_actual +=1\n",
    "\n",
    "    return valor_evaluado\n",
    "\n",
    "print(evaluar(p, 3))"
   ],
   "metadata": {
    "collapsed": false
   }
  },
  {
   "cell_type": "markdown",
   "source": [
    "**5.-** Escriba la función sumar_polinomios(p1, p2) que entregue la suma de dos polinomios:\n",
    "\n",
    ">>> sumar_polinomios(p, r)\n",
    "[0, 2, 1, -5, 0, 3]\n",
    "\n"
   ],
   "metadata": {
    "collapsed": false
   }
  },
  {
   "cell_type": "code",
   "execution_count": 49,
   "outputs": [
    {
     "name": "stdout",
     "output_type": "stream",
     "text": [
      "3 [1, 2, 1, 0, 0, 0] [-1, 0, 0, -5, 0, 3]\n",
      "[0, 2, 1, -5, 0, 3]\n"
     ]
    }
   ],
   "source": [
    "def sumar_polinomios(polinomio_1:list[int], polinomio_2:list[int]) -> list[int]:\n",
    "    p1 = polinomio_1.copy() # Recordar que esto evita modificar el polinomio externo\n",
    "    p2 = polinomio_2.copy()\n",
    "    diferencia = abs(len(p1) - len(p2))\n",
    "    if len(p1) > len(p2):\n",
    "        p2 = p2 + [0 for x in range(diferencia)]\n",
    "    elif len(p2) > len(p1):\n",
    "        p1 = p1 + [0 for x in range(diferencia)]\n",
    "\n",
    "    # itertools.zip_longest(*iterables, fillvalue=0) podría eliminar lo anterior\n",
    "    # list(map(lambda x:x[0]+x[1], zip_longest(p1, p2, 0)))\n",
    "\n",
    "    return list(map(lambda x,y:x+y, p1, p2))\n",
    "\n",
    "print(sumar_polinomios(p, r))"
   ],
   "metadata": {
    "collapsed": false
   }
  },
  {
   "cell_type": "markdown",
   "source": [
    "**6.-** Escriba la función derivar_polinomio(p) que entregue la derivada de un polinomio:\n",
    "\n",
    ">>> derivar_polinomio(r)\n",
    "[0, 0, -15, 0, 15]\n",
    "\n"
   ],
   "metadata": {
    "collapsed": false
   }
  },
  {
   "cell_type": "code",
   "execution_count": 70,
   "outputs": [
    {
     "name": "stdout",
     "output_type": "stream",
     "text": [
      "[0, 0, -15, 0, 15]\n"
     ]
    }
   ],
   "source": [
    "def derivar_polinomio(polinomio:list[int]) -> list[int]:\n",
    "    derivada = []\n",
    "    for rango_actual in range(1, len(polinomio)):  # Recordar que al derivar el primer término se elimina, el independiente se elimina\n",
    "        derivada.append(rango_actual * polinomio[rango_actual])\n",
    "\n",
    "    return derivada\n",
    "\n",
    "print(derivar_polinomio(r))"
   ],
   "metadata": {
    "collapsed": false
   }
  },
  {
   "cell_type": "markdown",
   "source": [
    "### Otros\n",
    "**7.-** Escriba la función mapear(f, valores) cuyos parámetros sean una función f y una lista valores, y que retorne una nueva lista que tenga los elementos obtenidos al aplicar la función a los elementos de la lista:\n",
    "\n",
    ">>> def cuadrado(x):\n",
    "...     return x ** 2\n",
    "...\n",
    ">>> mapear(cuadrado, [5, 2, 9])\n",
    "[25, 4, 81]"
   ],
   "metadata": {
    "collapsed": false
   }
  },
  {
   "cell_type": "code",
   "execution_count": 78,
   "outputs": [
    {
     "name": "stdout",
     "output_type": "stream",
     "text": [
      "[25, 4, 81]\n"
     ]
    }
   ],
   "source": [
    "def mapear(funcion:callable, numeros: list[int])->list[int]:\n",
    "    lista_final = []\n",
    "    for numero in numeros:\n",
    "        lista_final.append(funcion(numero))\n",
    "\n",
    "    return lista_final\n",
    "\n",
    "print(mapear(lambda x:x**2, [5, 2, 9]))"
   ],
   "metadata": {
    "collapsed": false
   }
  },
  {
   "cell_type": "markdown",
   "source": [
    "### Producto interno\n",
    "El producto interno de dos listas de números es la suma de los productos de los términos correspondientes de ambas.\n",
    "\n",
    "Por ejemplo, si:\n",
    "\n",
    "a = [5, 1, 6]\n",
    "b = [1, -2, 8]\n",
    "entonces el producto interno entre a y b es:\n",
    "\n",
    "(5 * 1) + (1 * -2) + (6 * 8)\n"
   ],
   "metadata": {
    "collapsed": false
   }
  },
  {
   "cell_type": "markdown",
   "source": [
    "**8.-** Escriba la función producto_interno(a, b) que entregue el producto interno de a y b:\n",
    "\n",
    ">>> a = [7, 1, 4, 9, 8]\n",
    ">>> b = range(5)\n",
    ">>> producto_interno(a, b)\n",
    "68\n"
   ],
   "metadata": {
    "collapsed": false
   }
  },
  {
   "cell_type": "code",
   "execution_count": 82,
   "outputs": [
    {
     "name": "stdout",
     "output_type": "stream",
     "text": [
      "68\n"
     ]
    }
   ],
   "source": [
    "def producto_interno(lista_1:list[int], lista_2:list[int])->list[int]:\n",
    "    return sum(list(map(lambda x,y:x*y, lista_1, lista_2)))\n",
    "\n",
    "a = [7, 1, 4, 9, 8]\n",
    "b = range(5)\n",
    "print(producto_interno(a, b))"
   ],
   "metadata": {
    "collapsed": false
   }
  },
  {
   "cell_type": "markdown",
   "source": [
    "**9.-** Dos listas de números son ortogonales si su producto interno es cero. Escriba la función son_ortogonales(a, b) que indique si a y b son ortogonales:\n",
    "\n",
    ">>> son_ortogonales([2, 1], [-3, 6])\n",
    "True"
   ],
   "metadata": {
    "collapsed": false
   }
  },
  {
   "cell_type": "code",
   "execution_count": 83,
   "outputs": [
    {
     "name": "stdout",
     "output_type": "stream",
     "text": [
      "True\n"
     ]
    }
   ],
   "source": [
    "def son_ortogonales(lista_1:list[int], lista_2:list[int])->bool:\n",
    "    return True if producto_interno(lista_1, lista_2) == 0 else False\n",
    "\n",
    "print(son_ortogonales([2, 1], [-3, 6]))"
   ],
   "metadata": {
    "collapsed": false
   }
  },
  {
   "cell_type": "markdown",
   "source": [
    "### Ordenación\n",
    "El método sort de las listas ordena sus elementos de menor a mayor:\n",
    "\n",
    ">>> a.sort()\n",
    ">>> a\n",
    "[0, 1, 4, 6, 9]\n",
    "A veces necesitamos ordenar los elementos de acuerdo a otro criterio. Para esto, el método sort acepta un parámetro con nombre llamado key, que debe ser una función que asocia a cada elemento el valor que será usado para ordenar.\n",
    "\n",
    "Por ejemplo, para ordenar la lista de mayor a menor uno puede usar una función que cambie el signo de cada número:\n",
    "\n",
    ">>> def negativo(x):\n",
    "...     return -x\n",
    "...\n",
    ">>> a = [6, 1, 4, 0, 9]\n",
    ">>> a.sort(key=negativo)\n",
    ">>> a\n",
    "[9, 6, 4, 1, 0]\n",
    "Esto significa que la lista es ordenada comparando los negativos de sus elementos, aunque son los elementos originales los que aparecen en el resultado.\n",
    "\n",
    "Como segundo ejemplo, veamos cómo ordenar una lista de números por su último dígito, de menor a mayor:\n",
    "\n",
    ">>> def ultimo_digito(n):\n",
    "...     return n % 10\n",
    "...\n",
    ">>> a = [65, 71, 39, 30, 26]\n",
    ">>> a.sort(key=ultimo_digito)\n",
    ">>> a\n",
    "[30, 71, 65, 26, 39]\n",
    "Resuelva los siguientes problemas de ordenamiento, escribiendo la función criterio para cada caso, e indicando qué es lo que debe ir en la línea marcada con ???????.\n"
   ],
   "metadata": {
    "collapsed": false
   }
  },
  {
   "cell_type": "markdown",
   "source": [
    "**10.-** Ordenar una lista de strings de la más corta a la más larga:\n",
    "\n",
    ">>> animales = ['conejo', 'ornitorrinco', 'pez', 'hipopotamo', 'tigre']\n",
    ">>> animales\n",
    "['pez', 'tigre', 'conejo', 'hipopotamo', 'ornitorrinco']\n"
   ],
   "metadata": {
    "collapsed": false
   }
  },
  {
   "cell_type": "code",
   "execution_count": 2,
   "outputs": [
    {
     "name": "stdout",
     "output_type": "stream",
     "text": [
      "['pez', 'tigre', 'conejo', 'hipopotamo', 'ornitorrinco']\n"
     ]
    }
   ],
   "source": [
    "animales = ['conejo', 'ornitorrinco', 'pez', 'hipopotamo', 'tigre']\n",
    "def longitud(cadena):\n",
    "    return len(cadena)\n",
    "animales.sort(key=longitud)\n",
    "print(animales)"
   ],
   "metadata": {
    "collapsed": false
   }
  },
  {
   "cell_type": "markdown",
   "source": [
    "**11.-** Ordenar una lista de strings de la más larga a la más corta:\n",
    "\n",
    ">>> animales = ['conejo', 'ornitorrinco', 'pez', 'hipopotamo', 'tigre']\n",
    ">>> animales\n",
    "['ornitorrinco', 'hipopotamo', 'conejo', 'tigre', 'pez']"
   ],
   "metadata": {
    "collapsed": false
   }
  },
  {
   "cell_type": "code",
   "execution_count": 3,
   "outputs": [
    {
     "name": "stdout",
     "output_type": "stream",
     "text": [
      "['ornitorrinco', 'hipopotamo', 'conejo', 'tigre', 'pez']\n"
     ]
    }
   ],
   "source": [
    "animales = ['conejo', 'ornitorrinco', 'pez', 'hipopotamo', 'tigre']\n",
    "def longitud(cadena):\n",
    "    return -len(cadena)\n",
    "animales.sort(key=longitud)\n",
    "print(animales)"
   ],
   "metadata": {
    "collapsed": false
   }
  },
  {
   "cell_type": "markdown",
   "source": [
    "**12.-** Ordenar una lista de listas según la suma de sus elementos, de menor a mayor:\n",
    "\n",
    ">>> a = [\n",
    "...   [6, 1, 5, 9],\n",
    "...   [0, 0, 4, 0, 1],\n",
    "...   [3, 2, 12, 1],\n",
    "...   [1000],\n",
    "...   [7, 6, 1, 0],\n",
    "... ]\n",
    ">>>\n",
    ">>> a\n",
    "[[0, 0, 4, 0, 1], [7, 6, 1, 0], [3, 2, 12, 1], [6, 1, 5, 9], [1000]]\n",
    "(Las sumas en la lista ordenada son, respectivamente, 5, 14, 18, 21 y 1000).\n"
   ],
   "metadata": {
    "collapsed": false
   }
  },
  {
   "cell_type": "code",
   "execution_count": 4,
   "outputs": [
    {
     "name": "stdout",
     "output_type": "stream",
     "text": [
      "[[0, 0, 4, 0, 1], [7, 6, 1, 0], [3, 2, 12, 1], [6, 1, 5, 9], [1000]]\n"
     ]
    }
   ],
   "source": [
    "a = [[0, 0, 4, 0, 1], [7, 6, 1, 0], [3, 2, 12, 1], [6, 1, 5, 9], [1000]]\n",
    "def longitud(lista):\n",
    "    return sum(lista)\n",
    "a.sort(key=longitud)\n",
    "print(a)"
   ],
   "metadata": {
    "collapsed": false
   }
  },
  {
   "cell_type": "markdown",
   "source": [
    "**13.-** Ordenar una lista de tuplas (nombre, apellido, (anno, mes, dia)) por orden alfabético de apellidos:\n",
    "\n",
    ">>> personas = [\n",
    "...     ('John',   'Doe',         (1992, 12, 28)),\n",
    "...     ('Perico', 'Los Palotes', (1992, 10, 8)),\n",
    "...     ('Yayita', 'Vinagre',     (1991,  4, 17)),\n",
    "...     ('Fulano', 'De Tal',      (1992, 10, 4)),\n",
    "... ]\n",
    "\n",
    ">>> from pprint import pprint\n",
    ">>> pprint(personas)\n",
    "[('Fulano', 'De Tal', (1992, 10, 4)),\n",
    " ('John', 'Doe', (1992, 12, 28)),\n",
    " ('Perico', 'Los Palotes', (1992, 10, 8)),\n",
    " ('Yayita', 'Vinagre', (1991, 4, 17))]\n",
    "(La función pprint sirve para imprimir estructuras de datos hacia abajo en vez de hacia el lado).\n",
    "\n"
   ],
   "metadata": {
    "collapsed": false
   }
  },
  {
   "cell_type": "code",
   "execution_count": 5,
   "outputs": [
    {
     "name": "stdout",
     "output_type": "stream",
     "text": [
      "[('Fulano', 'De Tal', (1992, 10, 4)), ('John', 'Doe', (1992, 12, 28)), ('Perico', 'Los Palotes', (1992, 10, 8)), ('Yayita', 'Vinagre', (1991, 4, 17))]\n"
     ]
    }
   ],
   "source": [
    "a = [('Fulano', 'De Tal', (1992, 10, 4)),\n",
    " ('John', 'Doe', (1992, 12, 28)),\n",
    " ('Perico', 'Los Palotes', (1992, 10, 8)),\n",
    " ('Yayita', 'Vinagre', (1991, 4, 17))]\n",
    "def longitud(lista):\n",
    "    return lista[1]\n",
    "a.sort(key=longitud)\n",
    "print(a)"
   ],
   "metadata": {
    "collapsed": false
   }
  },
  {
   "cell_type": "markdown",
   "source": [
    "**14.-** Ordenar una lista de tuplas (nombre, apellido, (anno, mes, dia)) por fecha de nacimiento, de la más antigua a la más reciente:\n",
    "\n",
    ">>> pprint(personas)\n",
    "[('Yayita', 'Vinagre', (1991, 4, 17)),\n",
    " ('Fulano', 'De Tal', (1992, 10, 4)),\n",
    " ('Perico', 'Los Palotes', (1992, 10, 8)),\n",
    " ('John', 'Doe', (1992, 12, 28))]\n",
    "\n"
   ],
   "metadata": {
    "collapsed": false
   }
  },
  {
   "cell_type": "code",
   "execution_count": 14,
   "outputs": [
    {
     "name": "stdout",
     "output_type": "stream",
     "text": [
      "[('Yayita', 'Vinagre', (1991, 4, 17)), ('Fulano', 'De Tal', (1992, 10, 4)), ('Perico', 'Los Palotes', (1992, 10, 8)), ('John', 'Doe', (1992, 12, 28))]\n"
     ]
    }
   ],
   "source": [
    "a = [('Fulano', 'De Tal', (1992, 10, 4)),\n",
    " ('John', 'Doe', (1992, 12, 28)),\n",
    " ('Perico', 'Los Palotes', (1992, 10, 8)),\n",
    " ('Yayita', 'Vinagre', (1991, 4, 17))]\n",
    "def longitud(lista):\n",
    "    return lista[2]\n",
    "a.sort(key=longitud)\n",
    "print(a)"
   ],
   "metadata": {
    "collapsed": false
   }
  },
  {
   "cell_type": "markdown",
   "source": [
    "**15.-** Ordenar una lista de tuplas (nombre, apellido, (anno, mes, dia)) por fecha de nacimiento, pero ahora de la más reciente a la más antigua:\n",
    "\n",
    ">>> pprint(personas)\n",
    "[('John', 'Doe', (1992, 12, 28)),\n",
    " ('Perico', 'Los Palotes', (1992, 10, 8)),\n",
    " ('Fulano', 'De Tal', (1992, 10, 4)),\n",
    " ('Yayita', 'Vinagre', (1991, 4, 17))]\n",
    "\n"
   ],
   "metadata": {
    "collapsed": false
   }
  },
  {
   "cell_type": "code",
   "execution_count": 13,
   "outputs": [
    {
     "name": "stdout",
     "output_type": "stream",
     "text": [
      "[('John', 'Doe', (1992, 12, 28)), ('Perico', 'Los Palotes', (1992, 10, 8)), ('Fulano', 'De Tal', (1992, 10, 4)), ('Yayita', 'Vinagre', (1991, 4, 17))]\n"
     ]
    }
   ],
   "source": [
    "a = [('Fulano', 'De Tal', (1992, 10, 4)),\n",
    " ('John', 'Doe', (1992, 12, 28)),\n",
    " ('Perico', 'Los Palotes', (1992, 10, 8)),\n",
    " ('Yayita', 'Vinagre', (1991, 4, 17))]\n",
    "def longitud(lista):\n",
    "    return lista[2]\n",
    "a.sort(key=longitud, reverse=True)\n",
    "print(a)"
   ],
   "metadata": {
    "collapsed": false
   }
  },
  {
   "cell_type": "markdown",
   "source": [
    "**16.-** Ordenar una lista de meses según la cantidad de días, de más a menos:\n",
    "\n",
    ">>> meses = ['agosto', 'noviembre', 'abril', 'febrero']\n",
    ">>> meses\n",
    "['febrero', 'noviembre', 'abril', 'agosto']\n"
   ],
   "metadata": {
    "collapsed": false
   }
  },
  {
   "cell_type": "code",
   "execution_count": 34,
   "outputs": [
    {
     "name": "stdout",
     "output_type": "stream",
     "text": [
      "['febrero', 'noviembre', 'abril', 'agosto']\n"
     ]
    }
   ],
   "source": [
    "meses = ['agosto', 'noviembre', 'abril', 'febrero']\n",
    "def longitud(lista):\n",
    "    match lista:\n",
    "        case 'enero'| 'marzo'| 'mayo'| 'julio'| 'agosto'| 'octubre'| 'diciembre':\n",
    "            return 31\n",
    "        case 'febrero':\n",
    "            return 28\n",
    "        case _:\n",
    "            return 30\n",
    "\n",
    "meses.sort(key=longitud)\n",
    "print(meses)"
   ],
   "metadata": {
    "collapsed": false
   }
  },
  {
   "cell_type": "markdown",
   "source": [],
   "metadata": {
    "collapsed": false
   }
  },
  {
   "cell_type": "markdown",
   "source": [
    "**17.-** Hacer que queden los números impares a la izquierda y los pares a la derecha:\n",
    "\n",
    ">>> valores = [55, 222, 47, 81, 82, 44, 218, 82, 20, 96, 82, 251]\n",
    ">>> valores\n",
    "[55, 222, 47, 81, 82, 44, 218, 82, 20, 96, 82, 251]\n",
    ">>> valores\n",
    "[55, 47, 81, 251, 222, 82, 44, 218, 82, 20, 96, 82]\n"
   ],
   "metadata": {
    "collapsed": false
   }
  },
  {
   "cell_type": "code",
   "execution_count": 38,
   "outputs": [
    {
     "name": "stdout",
     "output_type": "stream",
     "text": [
      "[55, 47, 81, 251, 222, 82, 44, 218, 82, 20, 96, 82]\n"
     ]
    }
   ],
   "source": [
    "from random import randrange\n",
    "valores = [55, 222, 47, 81, 82, 44, 218, 82, 20, 96, 82, 251]\n",
    "def longitud(numero):\n",
    "    if numero % 2 == 0:\n",
    "        return 1\n",
    "    else:\n",
    "        return 0\n",
    "valores.sort(key=longitud)\n",
    "print(valores)"
   ],
   "metadata": {
    "collapsed": false
   }
  },
  {
   "cell_type": "markdown",
   "source": [
    "**18.-** Hacer que queden los palíndromos a la derecha y los no palíndromos a la izquierda:\n",
    "\n",
    ">>> a = [12321, 584, 713317, 8990, 44444, 28902]\n",
    ">>> a\n",
    "[584, 8990, 28902, 12321, 713317, 44444]"
   ],
   "metadata": {
    "collapsed": false
   }
  },
  {
   "cell_type": "code",
   "execution_count": 41,
   "outputs": [
    {
     "name": "stdout",
     "output_type": "stream",
     "text": [
      "[584, 8990, 28902, 12321, 713317, 44444]\n"
     ]
    }
   ],
   "source": [
    "valores = [12321, 584, 713317, 8990, 44444, 28902]\n",
    "def longitud(numero):\n",
    "    if str(numero) == str(numero)[::-1]:\n",
    "        return 1\n",
    "    else:\n",
    "        return 0\n",
    "valores.sort(key=longitud)\n",
    "print(valores)"
   ],
   "metadata": {
    "collapsed": false
   }
  }
 ],
 "metadata": {
  "kernelspec": {
   "display_name": "Python 3",
   "language": "python",
   "name": "python3"
  },
  "language_info": {
   "codemirror_mode": {
    "name": "ipython",
    "version": 2
   },
   "file_extension": ".py",
   "mimetype": "text/x-python",
   "name": "python",
   "nbconvert_exporter": "python",
   "pygments_lexer": "ipython2",
   "version": "2.7.6"
  }
 },
 "nbformat": 4,
 "nbformat_minor": 0
}
