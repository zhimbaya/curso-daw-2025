{
 "cells": [
  {
   "cell_type": "markdown",
   "source": [
    "# Ejercicios\n",
    "[Enlace en la web: Ejercicios](https://www.geeksforgeeks.org/practice-for-cracking-any-coding-interview/)"
   ],
   "metadata": {
    "collapsed": false,
    "pycharm": {
     "name": "#%% md\n"
    }
   }
  },
  {
   "cell_type": "markdown",
   "source": [
    "## Puzzles"
   ],
   "metadata": {
    "collapsed": false,
    "pycharm": {
     "name": "#%% md\n"
    }
   }
  },
  {
   "cell_type": "markdown",
   "source": [
    "**1.-** Considerar un espacio S consitente en todos los cuadrados perfectos empezando desde 1, 4, 9. Para un número dado imprimir el número\n",
    "de cuadrados pefectos **menores** que N.\n",
    "```\n",
    "Input :\n",
    "N = 9\n",
    "Output:\n",
    "2\n",
    "Explanation:\n",
    "1 and 4 are the only Perfect Squares\n",
    "less than 9. So, the Output is 2.\n",
    "```"
   ],
   "metadata": {
    "collapsed": false
   }
  },
  {
   "cell_type": "code",
   "execution_count": 1,
   "outputs": [
    {
     "name": "stdout",
     "output_type": "stream",
     "text": [
      "3\n"
     ]
    }
   ],
   "source": [
    "from math import sqrt\n",
    "N = 10\n",
    "num = sqrt(N)\n",
    "num_rounded = round(num)\n",
    "if num > num_rounded:\n",
    "    print(num_rounded)\n",
    "else:\n",
    "    print(num_rounded-1)"
   ],
   "metadata": {
    "collapsed": false,
    "pycharm": {
     "name": "#%%\n"
    }
   }
  },
  {
   "cell_type": "markdown",
   "source": [
    "**2.-** Dados cuatro puntos en formato tupla, encontrar si forman un cuadro.\n",
    "```\n",
    "Example 1:\n",
    "\n",
    "Input:\n",
    "x1 = 20, y1 = 10, x2 = 10, y2 = 20,\n",
    "x3 = 20, y3 = 20, x4 = 10, y4 = 10\n",
    "Output:\n",
    "Yes\n",
    "Explanation:\n",
    "The points (20,10), (10,20), (20,20),\n",
    "(10,10) forms a square.\n",
    "Example 2:\n",
    "\n",
    "Input:\n",
    "x1 = 2, y1 = 1, x2 = 10, y2 = 20,\n",
    "x3 = 5, y3 = 6, x4 = 10, y4 = 10\n",
    "Output:\n",
    "No\n",
    "Explanation:\n",
    "The points (2,1), (10,20), (5,6),\n",
    "(10,10) doesn't form a square.\n",
    "```"
   ],
   "metadata": {
    "collapsed": false
   }
  },
  {
   "cell_type": "markdown",
   "source": [],
   "metadata": {
    "collapsed": false
   }
  },
  {
   "cell_type": "code",
   "execution_count": 2,
   "outputs": [
    {
     "name": "stdout",
     "output_type": "stream",
     "text": [
      "Yes\n"
     ]
    }
   ],
   "source": [
    "x1, y1 = 20, 10\n",
    "x2, y2 = 10, 20\n",
    "x3, y3 = 20, 20\n",
    "x4, y4 = 10, 10\n",
    "\n",
    "a = [x1, y1, x2, y2, x3, y3, x4, y4]\n",
    "a = set(a)\n",
    "if len(a) == 2:\n",
    "    print(\"Yes\")\n",
    "else:\n",
    "    print(\"No\")"
   ],
   "metadata": {
    "collapsed": false,
    "pycharm": {
     "name": "#%%\n"
    }
   }
  },
  {
   "cell_type": "markdown",
   "source": [
    "**3.-** Dados dos números positivos X e Y encontrar si Y es una potencia de X\n",
    "\n",
    "```\n",
    "Input:\n",
    "X = 2, Y = 8\n",
    "Output:\n",
    "1\n",
    "Explanation:\n",
    "2^3 is equal to 8."
   ],
   "metadata": {
    "collapsed": false
   }
  },
  {
   "cell_type": "markdown",
   "source": [],
   "metadata": {
    "collapsed": false
   }
  },
  {
   "cell_type": "code",
   "execution_count": 3,
   "outputs": [
    {
     "name": "stdout",
     "output_type": "stream",
     "text": [
      "True\n"
     ]
    }
   ],
   "source": [
    "x = 3\n",
    "y = 27\n",
    "encontrado = False\n",
    "if x==1:\n",
    "    print(x==y)\n",
    "elif y==1:\n",
    "    print(True)\n",
    "else:\n",
    "    for i in range(y):\n",
    "        if x**i == y:\n",
    "            print(True)\n",
    "            encontrado = True\n",
    "if not encontrado:\n",
    "    print(False)"
   ],
   "metadata": {
    "collapsed": false,
    "pycharm": {
     "name": "#%%\n"
    }
   }
  },
  {
   "cell_type": "markdown",
   "source": [
    "**4.-** Encontrar para un entero N el número de ceros en su factorial.\n",
    "```\n",
    "Input:\n",
    "N = 5\n",
    "Output:\n",
    "1\n",
    "Explanation:\n",
    "5! = 120 so the number of trailing zero is 1.\n",
    "```\n",
    "\n",
    "The idea is to consider prime factors of a factorial n. A trailing zero is always produced by prime factors 2 and 5. If we can count the number of 5s and 2s, our task is done. Consider the following examples.\n",
    "n = 5: There is one 5 and 3 2s in prime factors of 5! (2 * 2 * 2 * 3 * 5). So a count of trailing 0s is 1.\n",
    "n = 11: There are two 5s and eight 2s in prime factors of 11! (2 8 * 34 * 52 * 7). So the count of trailing 0s is 2.\n",
    "\n",
    "We can easily observe that the number of 2s in prime factors is always more than or equal to the number of 5s. So if we count 5s in prime factors, we are done. How to count the total number of 5s in prime factors of n!? A simple way is to calculate floor(n/5). For example, 7! has one 5, 10! has two 5s. It is not done yet, there is one more thing to consider. Numbers like 25, 125, etc have more than one 5. For example, if we consider 28! we get one extra 5 and the number of 0s becomes 6. Handling this is simple, first, divide n by 5 and remove all single 5s, then divide by 25 to remove extra 5s, and so on. Following is the summarized formula for counting trailing 0s.\n",
    "Trailing 0s in n! = Count of 5s in prime factors of n!\n",
    "                  = floor(n/5) + floor(n/25) + floor(n/125) + ...."
   ],
   "metadata": {
    "collapsed": false
   }
  },
  {
   "cell_type": "code",
   "execution_count": 4,
   "outputs": [
    {
     "name": "stdout",
     "output_type": "stream",
     "text": [
      "24\n"
     ]
    }
   ],
   "source": [
    "n=100\n",
    "if n < 0:\n",
    "    print(-1)\n",
    "else:\n",
    "    # Initialize result\n",
    "    count = 0\n",
    "    # Keep dividing n by\n",
    "    # 5 & update Count\n",
    "    while n >= 5:\n",
    "        n //= 5\n",
    "        count += n\n",
    "\n",
    "    print(count)"
   ],
   "metadata": {
    "collapsed": false,
    "pycharm": {
     "name": "#%%\n"
    }
   }
  },
  {
   "cell_type": "markdown",
   "source": [
    "**5.-** Calcular el ángulo entre las manecillas de las horas y los minutos.\n",
    "\n",
    "Note: There can be two angles between hands, we need to print minimum of two. Also, we need to print floor of final result angle. For example, if the final angle is 10.61, we need to print 10.\n",
    "```\n",
    "\n",
    "Example 1:\n",
    "\n",
    "Input:\n",
    "H = 9 , M = 0\n",
    "Output:\n",
    "45\n",
    "Explanation:\n",
    "The minimum angle between hour and minute\n",
    "hand when the time is 9 is 45 degress.\n",
    "```"
   ],
   "metadata": {
    "collapsed": false
   }
  },
  {
   "cell_type": "code",
   "execution_count": 5,
   "outputs": [
    {
     "name": "stdout",
     "output_type": "stream",
     "text": [
      "Ángulo  90.0\n"
     ]
    }
   ],
   "source": [
    "def calc_angle(horas, minutos):\n",
    "        if horas < 0 or minutos < 0 or horas > 12 or minutos > 60:\n",
    "            print('Mala entrada')\n",
    "\n",
    "        if horas == 12:\n",
    "            horas = 0\n",
    "        if minutos == 60:\n",
    "            minutos = 0\n",
    "            horas += 1\n",
    "            if horas>12:\n",
    "                   horas = horas-12\n",
    "\n",
    "        hour_angle = 0.5 * (horas * 60 + minutos)\n",
    "        minute_angle = 6 * minutos  # 6 grados por minuto\n",
    "\n",
    "        angle = abs(hour_angle - minute_angle)\n",
    "\n",
    "        angle = min(360 - angle, angle)\n",
    "\n",
    "        return angle\n",
    "\n",
    "h = 9\n",
    "m = 0\n",
    "print('Ángulo ', calc_angle(h,m))"
   ],
   "metadata": {
    "collapsed": false,
    "pycharm": {
     "name": "#%%\n"
    }
   }
  },
  {
   "cell_type": "markdown",
   "source": [],
   "metadata": {
    "collapsed": false
   }
  }
 ],
 "metadata": {
  "kernelspec": {
   "display_name": "Python 3",
   "language": "python",
   "name": "python3"
  },
  "language_info": {
   "codemirror_mode": {
    "name": "ipython",
    "version": 2
   },
   "file_extension": ".py",
   "mimetype": "text/x-python",
   "name": "python",
   "nbconvert_exporter": "python",
   "pygments_lexer": "ipython2",
   "version": "2.7.6"
  }
 },
 "nbformat": 4,
 "nbformat_minor": 0
}