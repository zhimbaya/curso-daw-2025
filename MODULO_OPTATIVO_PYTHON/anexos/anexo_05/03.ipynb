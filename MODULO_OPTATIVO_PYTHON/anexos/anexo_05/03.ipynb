{
 "cells": [
  {
   "cell_type": "markdown",
   "source": [
    "# Ejercicios\n",
    "[Enlace en la web: Ejercicios](https://www.geeksforgeeks.org/practice-for-cracking-any-coding-interview/)"
   ],
   "metadata": {
    "collapsed": false,
    "pycharm": {
     "name": "#%% md\n"
    }
   }
  },
  {
   "cell_type": "markdown",
   "source": [
    "## Strings"
   ],
   "metadata": {
    "collapsed": false,
    "pycharm": {
     "name": "#%% md\n"
    }
   }
  },
  {
   "cell_type": "markdown",
   "source": [
    "**1.-** Ver si una frase es palíndroma\n",
    "```\n",
    "Example 1:\n",
    "\n",
    "Input: S = \"abba\"\n",
    "Output: 1\n",
    "Explanation: S is a palindrome\n",
    "```"
   ],
   "metadata": {
    "collapsed": false
   }
  },
  {
   "cell_type": "code",
   "execution_count": 1,
   "outputs": [
    {
     "name": "stdout",
     "output_type": "stream",
     "text": [
      "True\n"
     ]
    }
   ],
   "source": [
    "import math\n",
    "\n",
    "S = \"abba\"\n",
    "print(S==S[::-1])"
   ],
   "metadata": {
    "collapsed": false,
    "pycharm": {
     "name": "#%%\n"
    }
   }
  },
  {
   "cell_type": "markdown",
   "source": [
    "**2.-** Ver si una frase es anagrama de otra. Una palabra es anagrama de otra si contienen las mismas letras aunque en distinto orden\n",
    "```\n",
    "Example 1:\n",
    "Input:a = geeksforgeeks, b = forgeeksgeeks\n",
    "Output: YES\n",
    "Explanation: Both the string have samecharacters with same frequency. So, both are anagrams.\n",
    "```"
   ],
   "metadata": {
    "collapsed": false
   }
  },
  {
   "cell_type": "code",
   "execution_count": 2,
   "outputs": [
    {
     "name": "stdout",
     "output_type": "stream",
     "text": [
      "True\n"
     ]
    }
   ],
   "source": [
    "from collections import Counter\n",
    "\n",
    "a = \"geeksforgeeks\"\n",
    "b = \"forgeeksgeeks\"\n",
    "print(Counter(a) == Counter(b))"
   ],
   "metadata": {
    "collapsed": false,
    "pycharm": {
     "name": "#%%\n"
    }
   }
  },
  {
   "cell_type": "markdown",
   "source": [
    "**3.-** Ver si una palabra se puede pasar a palíndromo\n",
    "```\n",
    "Example 1:\n",
    "Input:\n",
    "S = \"geeksogeeks\"\n",
    "Output: Yes\n",
    "Explanation: The string can be converted\n",
    "into a palindrome: geeksoskeeg\n",
    "```"
   ],
   "metadata": {
    "collapsed": false
   }
  },
  {
   "cell_type": "code",
   "execution_count": 3,
   "outputs": [
    {
     "name": "stdout",
     "output_type": "stream",
     "text": [
      "Se puede\n"
     ]
    }
   ],
   "source": [
    "from collections import Counter\n",
    "S = \"geeksogeeks\"\n",
    "impares = 0\n",
    "contar = Counter(S)\n",
    "for numero_de_letras in contar.values():\n",
    "    if numero_de_letras % 2 == 1:\n",
    "        impares += 1\n",
    "if impares > 1 :\n",
    "    print(\"No se puede\")\n",
    "else:\n",
    "    print(\"Se puede\")"
   ],
   "metadata": {
    "collapsed": false,
    "pycharm": {
     "name": "#%%\n"
    }
   }
  },
  {
   "cell_type": "markdown",
   "source": [
    "**4.-** Ordenar una frase de forma inversa\n",
    "```\n",
    "Example 1:\n",
    "Input: str = \"geeks\"\n",
    "Output: \"skgee\"\n",
    "Explanation: It's the lexicographically-\n",
    "descending order.\n",
    "```"
   ],
   "metadata": {
    "collapsed": false
   }
  },
  {
   "cell_type": "code",
   "execution_count": 4,
   "outputs": [
    {
     "name": "stdout",
     "output_type": "stream",
     "text": [
      "skgee\n"
     ]
    }
   ],
   "source": [
    "str = \"geeks\"\n",
    "str = \"\".join(sorted(str, reverse=True))\n",
    "print(str)"
   ],
   "metadata": {
    "collapsed": false,
    "pycharm": {
     "name": "#%%\n"
    }
   }
  },
  {
   "cell_type": "markdown",
   "source": [
    "**5.-** Mezclar dos cadenas\n",
    "```\n",
    "Example 1:\n",
    "Input:\n",
    "S1 = \"Hello\" S2 = \"Bye\"\n",
    "Output: HBeylelo\n",
    "Explanation: The characters of both the\n",
    "given strings are arranged alternatlively.\n",
    "```"
   ],
   "metadata": {
    "collapsed": false
   }
  },
  {
   "cell_type": "code",
   "execution_count": 5,
   "outputs": [
    {
     "name": "stdout",
     "output_type": "stream",
     "text": [
      "HBeylelo\n"
     ]
    }
   ],
   "source": [
    "s1 = \"Hello\"\n",
    "s2 = \"Bye\"\n",
    "result = \"\"\n",
    "\n",
    "# For every index in the strings\n",
    "i = 0\n",
    "while (i < len(s1)) or (i < len(s2)):\n",
    "    if i < len(s1):\n",
    "        result += s1[i]\n",
    "    if i < len(s2):\n",
    "        result += s2[i]\n",
    "    i += 1\n",
    "\n",
    "print(result)"
   ],
   "metadata": {
    "collapsed": false,
    "pycharm": {
     "name": "#%%\n"
    }
   }
  },
  {
   "cell_type": "markdown",
   "source": [
    "**6.-** Ver si unacadena es palíndormo ingorando cualquier carácter no ascii\n",
    "```\n",
    "Example 1:\n",
    "\n",
    "Input : S = \"I am :IronnorI Ma, i\"\n",
    "Output : YES\n",
    "Explanation:\n",
    "Ignore all the symbol and whitespaces S = \"IamIronnorIMai\".\n",
    "Now, Check for pallandrome ignoring uppercase and lowercase\n",
    "english letter.\n",
    "```"
   ],
   "metadata": {
    "collapsed": false
   }
  },
  {
   "cell_type": "code",
   "execution_count": 6,
   "outputs": [
    {
     "name": "stdout",
     "output_type": "stream",
     "text": [
      "True\n"
     ]
    }
   ],
   "source": [
    "S = \"I am :IronnorI Ma, i\"\n",
    "S_alfa = \"\"\n",
    "for caracter in S:\n",
    "    if caracter.isalpha():\n",
    "        S_alfa += caracter.lower()\n",
    "print(S_alfa == S_alfa[::-1])"
   ],
   "metadata": {
    "collapsed": false,
    "pycharm": {
     "name": "#%%\n"
    }
   }
  },
  {
   "cell_type": "markdown",
   "source": [
    "**6.-** Determinar si una cadena es mala o buena segúna la siguiente reglas: Si hay más de tres consonantes seguidas o cinco vocales seguidas\n",
    "sin el cararácter ? se considera mala, en otro caso buena.\n",
    "```\n",
    "Example 1:\n",
    "Input:\n",
    "S = aeioup??\n",
    "Output:\n",
    "1\n",
    "Explanation: The String doesn't contain more\n",
    "than 3 consonants or more than 5 vowels together.\n",
    "So, it's a GOOD string.\n",
    "\n",
    "```"
   ],
   "metadata": {
    "collapsed": false
   }
  },
  {
   "cell_type": "code",
   "execution_count": 7,
   "outputs": [
    {
     "name": "stdout",
     "output_type": "stream",
     "text": [
      "GOOD\n"
     ]
    }
   ],
   "source": [
    "S = \"aeioup??\"\n",
    "vocales = consonantes = 0\n",
    "indice = 0\n",
    "while indice < len(S) and vocales < 6 and consonantes < 4:\n",
    "    if S[indice] == \"?\":\n",
    "        vocales = consonantes = 0\n",
    "    elif S[indice] in \"aeiou\":\n",
    "        vocales += 1\n",
    "    else:\n",
    "        consonantes += 1\n",
    "    indice += 1\n",
    "if indice >= len(S) and vocales < 6 and consonantes < 4:\n",
    "    print(\"GOOD\")\n",
    "else:\n",
    "    print(\"BAD\")"
   ],
   "metadata": {
    "collapsed": false,
    "pycharm": {
     "name": "#%%\n"
    }
   }
  },
  {
   "cell_type": "markdown",
   "source": [
    "**7.-** Dada una cadena alfanumérica sacar el mayor número posible\n",
    "\n",
    "```\n",
    "Input:\n",
    "S = 100klh564abc365bg\n",
    "Output: 564\n",
    "Explanation: Maximum numeric value\n",
    "among 100, 564 and 365 is 564.\n",
    "```"
   ],
   "metadata": {
    "collapsed": false
   }
  },
  {
   "cell_type": "code",
   "execution_count": 8,
   "outputs": [
    {
     "name": "stdout",
     "output_type": "stream",
     "text": [
      "564\n"
     ]
    }
   ],
   "source": [
    "S = \"100klh564abc365bg\"\n",
    "numeros = []\n",
    "numero = \"\"\n",
    "for caracter in S:\n",
    "    if not caracter.isdigit():\n",
    "        if len(numero):\n",
    "            numeros.append(int(numero))\n",
    "            numero=\"\"\n",
    "    else:\n",
    "        numero += caracter\n",
    "\n",
    "print(max(numeros))"
   ],
   "metadata": {
    "collapsed": false,
    "pycharm": {
     "name": "#%%\n"
    }
   }
  },
  {
   "cell_type": "markdown",
   "source": [
    "**8.-** Dada una cadena S, dar la vuelta a cada palabra individual.\n",
    "```\n",
    "Input:\n",
    "S = i.like.this.program.very.much\n",
    "Output: much.very.program.this.like.i\n",
    "Explanation: After reversing the whole\n",
    "string(not individual words), the input\n",
    "string becomes\n",
    "much.very.program.this.like.i\n",
    "```"
   ],
   "metadata": {
    "collapsed": false
   }
  },
  {
   "cell_type": "code",
   "execution_count": 9,
   "outputs": [
    {
     "name": "stdout",
     "output_type": "stream",
     "text": [
      "much.very.program.this.like.i\n"
     ]
    }
   ],
   "source": [
    "S = \"i.like.this.program.very.much\"\n",
    "palabra = []\n",
    "for caracter in S[::-1]:\n",
    "    if caracter != \".\":\n",
    "        palabra.insert(0, caracter)\n",
    "    else:\n",
    "        print(\"\".join(palabra) + \".\", end=\"\")\n",
    "        palabra=[]\n",
    "print(\"\".join(palabra))"
   ],
   "metadata": {
    "collapsed": false,
    "pycharm": {
     "name": "#%%\n"
    }
   }
  },
  {
   "cell_type": "markdown",
   "source": [
    "**9.-** Dada dos cadenas, ver si s2 es s1 rotada.\n",
    "```\n",
    "Input:\n",
    "geeksforgeeks\n",
    "forgeeksgeeks\n",
    "Output:\n",
    "1\n",
    "Explanation: s1 is geeksforgeeks, s2 is\n",
    "forgeeksgeeks. Clearly, s2 is a rotated\n",
    "version of s1 as s2 can be obtained by\n",
    "left-rotating s1 by 5 units.\n",
    "```"
   ],
   "metadata": {
    "collapsed": false
   }
  },
  {
   "cell_type": "code",
   "execution_count": 10,
   "outputs": [
    {
     "name": "stdout",
     "output_type": "stream",
     "text": [
      "No\n"
     ]
    }
   ],
   "source": [
    "s1 = 'geeksforgeekr'\n",
    "s2 = 'forgeeksgeeks'\n",
    "if len(s1) != len(s2):  # Si no son de la misma logintud es imposible\n",
    "    print(\"No\")\n",
    "else:\n",
    "    for _ in s1:  # damos tantas vueltas como caracteres para probar todas las posibilidades\n",
    "        if  s1 == s2:\n",
    "            print(\"Si\")\n",
    "            break\n",
    "        s1 = s1[1:] + s1[0]  # rotamos\n",
    "    else:\n",
    "        print(\"No\")"
   ],
   "metadata": {
    "collapsed": false,
    "pycharm": {
     "name": "#%%\n"
    }
   }
  },
  {
   "cell_type": "markdown",
   "source": [
    "**10.-** Dada dos cadenas, determinar cuantas letras distintas hay\n",
    "```\n",
    "Example 1:\n",
    "\n",
    "Input:\n",
    "S1 = bcadeh\n",
    "S2 = hea\n",
    "Output: 3\n",
    "Explanation: We need to remove b, c,\n",
    "and d from S1.\n",
    "```"
   ],
   "metadata": {
    "collapsed": false
   }
  },
  {
   "cell_type": "code",
   "execution_count": 11,
   "outputs": [
    {
     "name": "stdout",
     "output_type": "stream",
     "text": [
      "3\n"
     ]
    }
   ],
   "source": [
    "S1 = \"bcadeh\"\n",
    "S2 = \"hea\"\n",
    "\n",
    "print(len(set(S1) - set(S2)))"
   ],
   "metadata": {
    "collapsed": false,
    "pycharm": {
     "name": "#%%\n"
    }
   }
  },
  {
   "cell_type": "markdown",
   "source": [
    "**11.-** Buscar la subcadena con caracteres distintos más larga\n",
    "```\n",
    "Example 1:\n",
    "\n",
    "Input:\n",
    "S = \"geeksforgeeks\"\n",
    "Output: 7\n",
    "Explanation: \"eksforg\" is the longest\n",
    "substring with all distinct characters.\n",
    "```"
   ],
   "metadata": {
    "collapsed": false
   }
  },
  {
   "cell_type": "code",
   "execution_count": 12,
   "outputs": [
    {
     "name": "stdout",
     "output_type": "stream",
     "text": [
      "7\n"
     ]
    }
   ],
   "source": [
    "S = \"geeksforgeeks\"\n",
    "subcadenas = set()  # para evitar repetidos\n",
    "cadena = \"\"\n",
    "for caracter in S:\n",
    "    if caracter in cadena:\n",
    "        subcadenas.add(len(cadena))\n",
    "        cadena = caracter\n",
    "    else:\n",
    "        cadena += caracter\n",
    "print(max(subcadenas))"
   ],
   "metadata": {
    "collapsed": false,
    "pycharm": {
     "name": "#%%\n"
    }
   }
  },
  {
   "cell_type": "markdown",
   "source": [
    "**12.-** Dado una cadena convertirla a número binario y aplicar n vueltas de tal manera que en cada vuelta se hará:\n",
    "los 0 se convertirán en 01 y los 1 en 10. Una vez terminadas las vueltas encontrar el carácter k.\n",
    "```\n",
    "Example 1:\n",
    "\n",
    "Input: m = 5, n = 2, k = 5\n",
    "output: 0\n",
    "Explanation: Binary represntation of m\n",
    "is \"101\", after one iteration binary\n",
    "reprentation will be \"100110\", and after\n",
    "second iteration binary repreentation\n",
    "will be \"100101101001\".\n",
    "```"
   ],
   "metadata": {
    "collapsed": false
   }
  },
  {
   "cell_type": "code",
   "execution_count": 13,
   "outputs": [
    {
     "name": "stdout",
     "output_type": "stream",
     "text": [
      "100101101001 1\n"
     ]
    }
   ],
   "source": [
    "m = 5\n",
    "n = 2\n",
    "k = 5\n",
    "binario = bin(m).removeprefix(\"0b\")   # quitamos el 0b inicial de la conversión a cadena\n",
    "for _ in range(n):\n",
    "    binario_aux =\"\"\n",
    "    for digito in binario:\n",
    "        if digito == \"1\":\n",
    "            binario_aux += \"10\"\n",
    "        else:\n",
    "            binario_aux += \"01\"\n",
    "    binario = binario_aux\n",
    "print(binario, binario[k])"
   ],
   "metadata": {
    "collapsed": false,
    "pycharm": {
     "name": "#%%\n"
    }
   }
  },
  {
   "cell_type": "markdown",
   "source": [
    "**13.-** Convertir al múltiplo de 10 más cercano\n",
    "```\n",
    "Input : N = 15\n",
    "Output : 10\n",
    "Explanation:\n",
    "Here N is 15. So, the number which is\n",
    "multiple of 10 are 10, 20, 30. We can\n",
    "see 10 and 20 are equally distant\n",
    "from 20. So, we will choose the\n",
    "smallest element among them i.e., 10.\n",
    "```"
   ],
   "metadata": {
    "collapsed": false
   }
  },
  {
   "cell_type": "code",
   "execution_count": 14,
   "outputs": [
    {
     "name": "stdout",
     "output_type": "stream",
     "text": [
      "10\n"
     ]
    }
   ],
   "source": [
    "import math\n",
    "N = int(\"15\")\n",
    "# print(round(N,-1))  # no funciona para 15, para lo demás sí\n",
    "if N % 10 <= 5:\n",
    "    print(round(N // 10.0) * 10)\n",
    "else:\n",
    "    print((round(N // 10.0) * 10) + 10)"
   ],
   "metadata": {
    "collapsed": false,
    "pycharm": {
     "name": "#%%\n"
    }
   }
  }
 ],
 "metadata": {
  "kernelspec": {
   "display_name": "Python 3",
   "language": "python",
   "name": "python3"
  },
  "language_info": {
   "codemirror_mode": {
    "name": "ipython",
    "version": 2
   },
   "file_extension": ".py",
   "mimetype": "text/x-python",
   "name": "python",
   "nbconvert_exporter": "python",
   "pygments_lexer": "ipython2",
   "version": "2.7.6"
  }
 },
 "nbformat": 4,
 "nbformat_minor": 0
}