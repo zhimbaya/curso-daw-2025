{
 "cells": [
  {
   "cell_type": "markdown",
   "source": [
    "# Ejercicios\n",
    "[Enlace en la web: Ejercicios](https://www.geeksforgeeks.org/practice-for-cracking-any-coding-interview/)"
   ],
   "metadata": {
    "collapsed": false,
    "pycharm": {
     "name": "#%% md\n"
    }
   }
  },
  {
   "cell_type": "markdown",
   "source": [
    "## Ejercicios de listas"
   ],
   "metadata": {
    "collapsed": false
   }
  },
  {
   "cell_type": "markdown",
   "source": [
    "**1.-** Supongamos que hay un círculo. Hay n surtidores de gasolina en ese círculo. Se le dan dos conjuntos de datos.\n",
    "\n",
    "La cantidad de gasolina que tiene cada surtidor de gasolina.\n",
    "Distancia desde ese surtidor de gasolina hasta el siguiente surtidor de gasolina.\n",
    "Calcular el primer punto desde donde un camión podrá completar el círculo (El camión se detendrá en cada surtidor de gasolina y tiene capacidad infinita)"
   ],
   "metadata": {
    "collapsed": false,
    "pycharm": {
     "name": "#%% md\n"
    }
   }
  },
  {
   "cell_type": "code",
   "execution_count": 1,
   "outputs": [
    {
     "name": "stdout",
     "output_type": "stream",
     "text": [
      "start = 2\n"
     ]
    }
   ],
   "source": [
    "def print_tour(arr,n):\n",
    "    start = 0\n",
    "    s = 0          # petrol available the truck till now\n",
    "    d = 0        # deficit of petrol till visiting this petrol pump\n",
    "\n",
    "    for i in range(n):\n",
    "      s += arr[i][0] - arr[i][1]\n",
    "      if s < 0:\n",
    "        start = i+1\n",
    "        d += s\n",
    "        s = 0\n",
    "\n",
    "    return start if (s+d)>=0 else -1\n",
    "\n",
    "\n",
    "arr = [[6,4], [3,6], [7,3]]\n",
    "start = print_tour(arr,3)\n",
    "if start == -1:\n",
    "  print(\"No Solution Possible !!!\")\n",
    "else:\n",
    "  print(\"start = {}\".format(start))"
   ],
   "metadata": {
    "collapsed": false,
    "pycharm": {
     "name": "#%%\n"
    }
   }
  },
  {
   "cell_type": "markdown",
   "source": [
    "**2.-** Dada una secuencia de caracteres, encuentre el primer carácter que no se repite de la secuencia."
   ],
   "metadata": {
    "collapsed": false
   }
  },
  {
   "cell_type": "code",
   "execution_count": 2,
   "outputs": [
    {
     "name": "stdout",
     "output_type": "stream",
     "text": [
      "Reading g from stream\n",
      "First non-repeating character so far is \n",
      "g\n",
      "Reading e from stream\n",
      "First non-repeating character so far is \n",
      "g\n",
      "Reading e from stream\n",
      "First non-repeating character so far is \n",
      "g\n",
      "Reading k from stream\n",
      "First non-repeating character so far is \n",
      "g\n",
      "Reading f from stream\n",
      "First non-repeating character so far is \n",
      "g\n",
      "Reading o from stream\n",
      "First non-repeating character so far is \n",
      "g\n",
      "Reading r from stream\n",
      "First non-repeating character so far is \n",
      "g\n",
      "Reading g from stream\n",
      "First non-repeating character so far is \n",
      "k\n",
      "Reading e from stream\n",
      "First non-repeating character so far is \n",
      "k\n",
      "Reading e from stream\n",
      "First non-repeating character so far is \n",
      "k\n",
      "Reading k from stream\n",
      "First non-repeating character so far is \n",
      "f\n",
      "Reading a from stream\n",
      "First non-repeating character so far is \n",
      "f\n",
      "Reading n from stream\n",
      "First non-repeating character so far is \n",
      "f\n",
      "Reading d from stream\n",
      "First non-repeating character so far is \n",
      "f\n",
      "Reading g from stream\n",
      "First non-repeating character so far is \n",
      "f\n",
      "Reading e from stream\n",
      "First non-repeating character so far is \n",
      "f\n",
      "Reading e from stream\n",
      "First non-repeating character so far is \n",
      "f\n",
      "Reading k from stream\n",
      "First non-repeating character so far is \n",
      "f\n",
      "Reading s from stream\n",
      "First non-repeating character so far is \n",
      "f\n",
      "Reading a from stream\n",
      "First non-repeating character so far is \n",
      "f\n",
      "Reading n from stream\n",
      "First non-repeating character so far is \n",
      "f\n",
      "Reading d from stream\n",
      "First non-repeating character so far is \n",
      "f\n",
      "Reading q from stream\n",
      "First non-repeating character so far is \n",
      "f\n",
      "Reading u from stream\n",
      "First non-repeating character so far is \n",
      "f\n",
      "Reading i from stream\n",
      "First non-repeating character so far is \n",
      "f\n",
      "Reading z from stream\n",
      "First non-repeating character so far is \n",
      "f\n",
      "Reading f from stream\n",
      "First non-repeating character so far is \n",
      "o\n",
      "Reading o from stream\n",
      "First non-repeating character so far is \n",
      "r\n",
      "Reading r from stream\n",
      "First non-repeating character so far is \n",
      "s\n"
     ]
    }
   ],
   "source": [
    "MAX_CHAR = 256\n",
    "\n",
    "def find_first_non_repeating():\n",
    "    inDLL = [] * MAX_CHAR\n",
    "    repeated = [False] * MAX_CHAR\n",
    "    stream = \"geekforgeekandgeeksandquizfor\"\n",
    "    for i in range(len(stream)):\n",
    "        x = stream[i]\n",
    "        print (\"Reading \" + x + \" from stream\")\n",
    "        if not repeated[ord(x)]:\n",
    "            if not x in inDLL:\n",
    "                inDLL.append(x)\n",
    "            else:\n",
    "                inDLL.remove(x)\n",
    "                repeated[ord(x)] = True\n",
    "\n",
    "        if len(inDLL) != 0:\n",
    "            print (\"First non-repeating character so far is \")\n",
    "            print (str(inDLL[0]))\n",
    "\n",
    "find_first_non_repeating()"
   ],
   "metadata": {
    "collapsed": false,
    "pycharm": {
     "name": "#%%\n"
    }
   }
  },
  {
   "cell_type": "markdown",
   "source": [
    "\n",
    "**3.-** Dada una matriz A de n números positivos. La tarea es encontrar el primer punto de equilibrio en la matriz.\n",
    "El punto de equilibrio en una matriz es una posición tal que la suma de los elementos anteriores es igual a la suma de los elementos posteriores."
   ],
   "metadata": {
    "collapsed": false
   }
  },
  {
   "cell_type": "code",
   "execution_count": 3,
   "outputs": [
    {
     "name": "stdout",
     "output_type": "stream",
     "text": [
      "3\n"
     ]
    }
   ],
   "source": [
    "def equilibrio(arr):\n",
    "    total_sum = sum(arr)\n",
    "    leftsum = 0\n",
    "    for i, num in enumerate(arr):\n",
    "        total_sum -= num\n",
    "\n",
    "        if leftsum == total_sum:\n",
    "            return i\n",
    "        leftsum += num\n",
    "    return -1\n",
    "\n",
    "\n",
    "arr = [-7, 1, 5, 2, -4, 3, 0]\n",
    "print (equilibrio(arr))"
   ],
   "metadata": {
    "collapsed": false,
    "pycharm": {
     "name": "#%%\n"
    }
   }
  },
  {
   "cell_type": "markdown",
   "source": [
    "**4.-** Dada una matriz de números positivos y negativos. Encontrar la longitud, si hay, de un subarray (de tamaño al menos uno) con suma 0."
   ],
   "metadata": {
    "collapsed": false
   }
  },
  {
   "cell_type": "code",
   "execution_count": 4,
   "outputs": [
    {
     "name": "stdout",
     "output_type": "stream",
     "text": [
      "5\n"
     ]
    }
   ],
   "source": [
    "def max_cero_len(arr):\n",
    "    max_len = 0\n",
    "    for i in range(len(arr)):\n",
    "        curr_sum = 0\n",
    "        for j in range(i, len(arr)):\n",
    "            curr_sum += arr[j]\n",
    "            if curr_sum == 0:\n",
    "                max_len = max(max_len, j-i + 1)\n",
    "\n",
    "    return max_len\n",
    "\n",
    "\n",
    "arr = [15, -2, 2, -8, 1, 7, 10, 13]\n",
    "\n",
    "print(max_cero_len(arr))"
   ],
   "metadata": {
    "collapsed": false,
    "pycharm": {
     "name": "#%%\n"
    }
   }
  },
  {
   "cell_type": "markdown",
   "source": [
    "**5-** Dado un array de 0s y 1s. Encontrar la longitud del subarrayu más grande con el mismo número de 0 y 1."
   ],
   "metadata": {
    "collapsed": false
   }
  },
  {
   "cell_type": "code",
   "execution_count": 5,
   "outputs": [
    {
     "name": "stdout",
     "output_type": "stream",
     "text": [
      "0 a 5\n",
      "6\n"
     ]
    }
   ],
   "source": [
    "def find_sub_array(arr, n):\n",
    "    sum = 0\n",
    "    maxsize = -1\n",
    "    for i in range(0, n-1):\n",
    "        sum = -1 if(arr[i] == 0) else 1\n",
    "        for j in range(i + 1, n):\n",
    "            sum = sum + (-1) if (arr[j] == 0) else sum + 1\n",
    "            if sum == 0 and maxsize < j-i + 1:\n",
    "                maxsize = j - i + 1\n",
    "                startindex = i\n",
    "\n",
    "    if maxsize == -1:\n",
    "        print(\"No ha array\");\n",
    "    else:\n",
    "        print(startindex, \"a\", startindex + maxsize-1);\n",
    "\n",
    "    return maxsize\n",
    "\n",
    "arr = [1, 0, 0, 1, 0, 1, 1]\n",
    "size = len(arr)\n",
    "print(find_sub_array(arr, size))"
   ],
   "metadata": {
    "collapsed": false,
    "pycharm": {
     "name": "#%%\n"
    }
   }
  },
  {
   "cell_type": "markdown",
   "source": [
    "**6-** Dada una matriz de números enteros Arr de tamaño N y un número K. Devuelve la suma máxima de un subarray de tamaño K."
   ],
   "metadata": {
    "collapsed": false
   }
  },
  {
   "cell_type": "code",
   "execution_count": 6,
   "outputs": [
    {
     "name": "stdout",
     "output_type": "stream",
     "text": [
      "24\n"
     ]
    }
   ],
   "source": [
    "def max_sum(arr, n, k):\n",
    "    if n < k:\n",
    "        print(\"Inválido\")\n",
    "        return -1\n",
    "    res = 0\n",
    "    for i in range(k):\n",
    "        res += arr[i]\n",
    "\n",
    "    curr_sum = res\n",
    "    for i in range(k, n):\n",
    "        curr_sum += arr[i] - arr[i-k]\n",
    "        res = max(res, curr_sum)\n",
    "\n",
    "    return res\n",
    "\n",
    "arr = [1, 4, 2, 10, 2, 3, 1, 0, 20]\n",
    "k = 4\n",
    "n = len(arr)\n",
    "print(max_sum(arr, n, k))"
   ],
   "metadata": {
    "collapsed": false,
    "pycharm": {
     "name": "#%%\n"
    }
   }
  },
  {
   "cell_type": "markdown",
   "source": [
    "**7-** Dada una matriz de enteros y un número K. Encuentre el recuento de elementos distintos en cada ventana de tamaño K en la matriz."
   ],
   "metadata": {
    "collapsed": false
   }
  },
  {
   "cell_type": "code",
   "execution_count": 7,
   "outputs": [
    {
     "name": "stdout",
     "output_type": "stream",
     "text": [
      "3\n",
      "4\n",
      "4\n",
      "3\n"
     ]
    }
   ],
   "source": [
    "import math as mt\n",
    "\n",
    "# Counts distinct elements in window\n",
    "# of size k\n",
    "def count_window_distinct(win, k):\n",
    "    dist_count = 0\n",
    "    for i in range(k):\n",
    "        j = 0\n",
    "        while j < i:\n",
    "            if win[i] == win[j]:\n",
    "                break\n",
    "            else:\n",
    "                j += 1\n",
    "        if j == i:\n",
    "            dist_count += 1\n",
    "\n",
    "    return dist_count\n",
    "\n",
    "\n",
    "# Counts distinct elements in all\n",
    "# windows of size k\n",
    "def count_distinct(arr, n, k):\n",
    "    for i in range(n - k + 1):\n",
    "        print(count_window_distinct(arr[i:k + i], k))\n",
    "\n",
    "\n",
    "arr = [1, 2, 1, 3, 4, 2, 3]\n",
    "k = 4\n",
    "n = len(arr)\n",
    "count_distinct(arr, n, k)"
   ],
   "metadata": {
    "collapsed": false,
    "pycharm": {
     "name": "#%%\n"
    }
   }
  },
  {
   "cell_type": "markdown",
   "source": [
    "**8-** Dada una matriz A desordenada de tamaño N que contiene solo números enteros no negativos, encuentre una sub-matriz continua que se suma a un número S dado."
   ],
   "metadata": {
    "collapsed": false
   }
  },
  {
   "cell_type": "code",
   "execution_count": 8,
   "outputs": [
    {
     "name": "stdout",
     "output_type": "stream",
     "text": [
      "Suma encontrada entre los índices 1  and 4\n"
     ]
    }
   ],
   "source": [
    "def sub_array_sum(arr, n, sum_):\n",
    "    for i in range(n):\n",
    "        curr_sum = arr[i]\n",
    "\n",
    "        j = i + 1\n",
    "        while j <= n:\n",
    "            if curr_sum == sum_:\n",
    "                print (\"Suma encontrada entre \", end='')\n",
    "                print(f\"los índices {i}  and {j-1}\")\n",
    "                return\n",
    "            if curr_sum > sum_ or j == n:\n",
    "                break\n",
    "\n",
    "            curr_sum = curr_sum + arr[j]\n",
    "            j += 1\n",
    "\n",
    "    print (\"Nada encontrado\")\n",
    "\n",
    "# Driver program\n",
    "arr = [15, 2, 4, 8, 9, 5, 10, 23]\n",
    "n = len(arr)\n",
    "sum_ = 23\n",
    "\n",
    "sub_array_sum(arr, n, sum_)\n"
   ],
   "metadata": {
    "collapsed": false,
    "pycharm": {
     "name": "#%%\n"
    }
   }
  }
 ],
 "metadata": {
  "kernelspec": {
   "display_name": "Python 3",
   "language": "python",
   "name": "python3"
  },
  "language_info": {
   "codemirror_mode": {
    "name": "ipython",
    "version": 2
   },
   "file_extension": ".py",
   "mimetype": "text/x-python",
   "name": "python",
   "nbconvert_exporter": "python",
   "pygments_lexer": "ipython2",
   "version": "2.7.6"
  }
 },
 "nbformat": 4,
 "nbformat_minor": 0
}