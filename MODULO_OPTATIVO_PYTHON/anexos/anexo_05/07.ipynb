{
 "cells": [
  {
   "cell_type": "markdown",
   "source": [
    "# Ejercicios\n",
    "[Enlace en la web: Ejercicios](https://www.geeksforgeeks.org/practice-for-cracking-any-coding-interview/)"
   ],
   "metadata": {
    "collapsed": false,
    "pycharm": {
     "name": "#%% md\n"
    }
   }
  },
  {
   "cell_type": "markdown",
   "source": [
    "## Matrices"
   ],
   "metadata": {
    "collapsed": false,
    "pycharm": {
     "name": "#%% md\n"
    }
   }
  },
  {
   "cell_type": "markdown",
   "source": [
    "**1.-** Escribir un programa para encontrar la transpuesta de una matriz cuadrada de tamaño N * N.\n",
    "La transposición de una matriz se obtiene cambiando filas a columnas y columnas a filas.\n",
    "```\n",
    "Example 1:\n",
    "Input:\n",
    "N = 4\n",
    "mat[][] = {{1, 1, 1, 1},\n",
    "           {2, 2, 2, 2}\n",
    "           {3, 3, 3, 3}\n",
    "           {4, 4, 4, 4}}\n",
    "Output:\n",
    "{{1, 2, 3, 4},\n",
    " {1, 2, 3, 4}\n",
    " {1, 2, 3, 4}\n",
    " {1, 2, 3, 4}}\n",
    "```"
   ],
   "metadata": {
    "collapsed": false,
    "pycharm": {
     "name": "#%% md\n"
    }
   }
  },
  {
   "cell_type": "code",
   "execution_count": 1,
   "outputs": [
    {
     "name": "stdout",
     "output_type": "stream",
     "text": [
      "[(1, 2, 3, 4), (1, 2, 3, 4), (1, 2, 3, 4), (1, 2, 3, 4)]\n"
     ]
    }
   ],
   "source": [
    "Arr = [[1, 1, 1, 1],\n",
    "       [2, 2, 2, 2],\n",
    "       [3, 3, 3, 3],\n",
    "       [4, 4, 4, 4]]\n",
    "\n",
    "lst = list(zip(*Arr))\n",
    "print(lst)"
   ],
   "metadata": {
    "collapsed": false,
    "pycharm": {
     "name": "#%%\n"
    }
   }
  },
  {
   "cell_type": "markdown",
   "source": [
    "**2.-** Dada una matriz de NxN, hacerla de manera que las filas impares se imprimen de izq -> der, las pares al revés\n",
    "```\n",
    "Example 1:\n",
    "Input:\n",
    "N = 3\n",
    "matrix[][] = {{45, 48, 54},\n",
    "             {21, 89, 87}\n",
    "             {70, 78, 15}}\n",
    "Output: 45 48 54 87 89 21 70 78 15\n",
    "Explanation:\n",
    "Matrix is as below:\n",
    "45 48 54\n",
    "21 89 87\n",
    "70 78 15\n",
    "Printing it in snake pattern will lead to\n",
    "the output as 45 48 54 87 89 21 70 78 15.\n",
    "```"
   ],
   "metadata": {
    "collapsed": false
   }
  },
  {
   "cell_type": "code",
   "execution_count": 2,
   "outputs": [
    {
     "name": "stdout",
     "output_type": "stream",
     "text": [
      "[[45, 48, 54], [87, 89, 21], [70, 78, 15]]\n"
     ]
    }
   ],
   "source": [
    "Arr = [[45, 48, 54],\n",
    "       [21, 89, 87],\n",
    "       [70, 78, 15]]\n",
    "\n",
    "for index,row in enumerate(Arr):\n",
    "    if index % 2 == 1:\n",
    "        row.reverse()\n",
    "print(Arr)"
   ],
   "metadata": {
    "collapsed": false,
    "pycharm": {
     "name": "#%%\n"
    }
   }
  },
  {
   "cell_type": "markdown",
   "source": [
    "**3.-** Dada una matriz de NxN, imprimirla en espiral\n",
    "```\n",
    "Example 1:\n",
    "\n",
    "Input:\n",
    "r = 4, c = 4\n",
    "matrix[][] = {{1, 2, 3, 4},\n",
    "           {5, 6, 7, 8},\n",
    "           {9, 10, 11, 12},\n",
    "           {13, 14, 15,16}}\n",
    "Output:\n",
    "1 2 3 4 8 12 16 15 14 13 9 5 6 7 11 10\n",
    "Example 2:\n",
    "\n",
    "Input:\n",
    "r = 3, c = 4\n",
    "matrix[][] = {{1, 2, 3, 4},\n",
    "           {5, 6, 7, 8},\n",
    "           {9, 10, 11, 12}}\n",
    "Output:\n",
    "1 2 3 4 8 12 11 10 9 5 6 7\n",
    "Explanation:\n",
    "Applying same technique as shown above,\n",
    "output for the 2nd testcase will be\n",
    "1 2 3 4 8 12 11 10 9 5 6 7.\n",
    "```"
   ],
   "metadata": {
    "collapsed": false
   }
  },
  {
   "cell_type": "code",
   "execution_count": 3,
   "outputs": [
    {
     "name": "stdout",
     "output_type": "stream",
     "text": [
      "1 2 3 4 5 6 12 18 17 16 15 14 13 7 8 9 10 11 "
     ]
    }
   ],
   "source": [
    "def spiral_print(m, n, a):\n",
    "    k = 0\n",
    "    l = 0\n",
    "\n",
    "    while k < m and l < n:\n",
    "        for i in range(l, n):\n",
    "            print(a[k][i], end=\" \")\n",
    "\n",
    "        k += 1\n",
    "        for i in range(k, m):\n",
    "            print(a[i][n - 1], end=\" \")\n",
    "\n",
    "        n -= 1\n",
    "        if k < m:\n",
    "            for i in range(n - 1, (l - 1), -1):\n",
    "                print(a[m - 1][i], end=\" \")\n",
    "            m -= 1\n",
    "        if l < n:\n",
    "            for i in range(m - 1, k - 1, -1):\n",
    "                print(a[i][l], end=\" \")\n",
    "            l += 1\n",
    "\n",
    "\n",
    "a = [[1, 2, 3, 4, 5, 6],\n",
    "     [7, 8, 9, 10, 11, 12],\n",
    "     [13, 14, 15, 16, 17, 18]]\n",
    "\n",
    "R = 3\n",
    "C = 6\n",
    "\n",
    "spiral_print(R, C, a)"
   ],
   "metadata": {
    "collapsed": false,
    "pycharm": {
     "name": "#%%\n"
    }
   }
  },
  {
   "cell_type": "markdown",
   "source": [
    "**4.-** Dado un sudoku incompleto en una matriz de 9x9 ver si se puede completar.\n",
    "```\n",
    "Example 1:\n",
    "\n",
    "Input: mat[][] = [\n",
    "[3, 0, 6, 5, 0, 8, 4, 0, 0]\n",
    "[5, 2, 0, 0, 0, 0, 0, 0, 0]\n",
    "[0, 8, 7, 0, 0, 0, 0, 3, 1]\n",
    "[0, 0, 3, 0, 1, 0, 0, 8, 0]\n",
    "[9, 0, 0, 8, 6, 3, 0, 0, 5]\n",
    "[0, 5, 0, 0, 9, 0, 6, 0, 0]\n",
    "[1, 3, 0, 0, 0, 0, 2, 5, 0]\n",
    "[0, 0, 0, 0, 0, 0, 0, 7, 4]\n",
    "[0, 0, 5, 2, 0, 6, 3, 0, 0]\n",
    "]\n",
    "Output: 1\n",
    "Explaination: It is possible to have a\n",
    "proper sudoku.\n",
    "```"
   ],
   "metadata": {
    "collapsed": false
   }
  },
  {
   "cell_type": "code",
   "execution_count": 4,
   "outputs": [
    {
     "name": "stdout",
     "output_type": "stream",
     "text": [
      "YES\n"
     ]
    }
   ],
   "source": [
    "# Python3 program to check whether given sudoku board is valid or not\n",
    "\n",
    "# Checks whether there is any duplicate in current row or not\n",
    "def notInRow(arr, row):\n",
    "\t# Set to store characters seen so far.\n",
    "\tst = set()\n",
    "\n",
    "\tfor i in range(0, 9):\n",
    "\t\t# If already encountered before, return false\n",
    "\t\tif arr[row][i] in st:\n",
    "\t\t\treturn False\n",
    "\n",
    "\t\t# If it is not an empty cell, insert value at the current cell in the set\n",
    "\t\tif arr[row][i] != '.':\n",
    "\t\t\tst.add(arr[row][i])\n",
    "\n",
    "\treturn True\n",
    "\n",
    "# Checks whether there is any duplicate in current column or not.\n",
    "def notInCol(arr, col):\n",
    "\tst = set()\n",
    "\n",
    "\tfor i in range(0, 9):\n",
    "\t\t# If already encountered before, return false\n",
    "\t\tif arr[i][col] in st:\n",
    "\t\t\treturn False\n",
    "\n",
    "\t\t# If it is not an empty cell, insert value at the current cell in the set\n",
    "\t\tif arr[i][col] != '.':\n",
    "\t\t\tst.add(arr[i][col])\n",
    "\n",
    "\treturn True\n",
    "\n",
    "# Checks whether there is any duplicate in current 3x3 box or not.\n",
    "def notInBox(arr, startRow, startCol):\n",
    "\tst = set()\n",
    "\tfor row in range(0, 3):\n",
    "\t\tfor col in range(0, 3):\n",
    "\t\t\tcurr = arr[row + startRow][col + startCol]\n",
    "\n",
    "\t\t\t# If already encountered before, return false\n",
    "\t\t\tif curr in st:\n",
    "\t\t\t\treturn False\n",
    "\n",
    "\t\t\t# If it is not an empty cell, insert value at current cell in set\n",
    "\t\t\tif curr != '.':\n",
    "\t\t\t\tst.add(curr)\n",
    "\n",
    "\treturn True\n",
    "\n",
    "# Checks whether current row and current column and current 3x3 box is valid or not\n",
    "def isValid(arr, row, col):\n",
    "\treturn (notInRow(arr, row) and notInCol(arr, col) and\n",
    "\t\t\tnotInBox(arr, row - row % 3, col - col % 3))\n",
    "\n",
    "def isValidConfig(arr, n):\n",
    "\tfor i in range(0, n):\n",
    "\t\tfor j in range(0, n):\n",
    "\t\t\t# If current row or current column or current 3x3 box is not valid, return false\n",
    "\t\t\tif not isValid(arr, i, j):\n",
    "\t\t\t\treturn False\n",
    "\n",
    "\treturn True\n",
    "\n",
    "\n",
    "board = [\n",
    "        [ '5', '3', '.', '.', '7', '.', '.', '.', '.' ],\n",
    "        [ '6', '.', '.', '1', '9', '5', '.', '.', '.' ],\n",
    "        [ '.', '9', '8', '.', '.', '.', '.', '6', '.' ],\n",
    "        [ '8', '.', '.', '.', '6', '.', '.', '.', '3' ],\n",
    "        [ '4', '.', '.', '8', '.', '3', '.', '.', '1' ],\n",
    "        [ '7', '.', '.', '.', '2', '.', '.', '.', '6' ],\n",
    "        [ '.', '6', '.', '.', '.', '.', '2', '8', '.' ],\n",
    "        [ '.', '.', '.', '4', '1', '9', '.', '.', '5' ],\n",
    "        [ '.', '.', '.', '.', '8', '.', '.', '7', '9' ]\n",
    "        ]\n",
    "\n",
    "if isValidConfig(board, 9):\n",
    "    print(\"YES\")\n",
    "else:\n",
    "    print(\"NO\")"
   ],
   "metadata": {
    "collapsed": false,
    "pycharm": {
     "name": "#%%\n"
    }
   }
  },
  {
   "cell_type": "markdown",
   "source": [
    "**5.-** Dada una alfombra de matriz [] [] de tamaño N x M, donde cada fila y columna se ordena en orden creciente, y se da un número X. La\n",
    "tarea es encontrar si el elemento X está presente en la matriz o no.\n",
    "```\n",
    "Example 1:\n",
    "\n",
    "Input:\n",
    "N = 3, M = 3\n",
    "mat[][] = 3 30 38\n",
    "         44 52 54\n",
    "         57 60 69\n",
    "X = 62\n",
    "Output:\n",
    "0\n",
    "Explanation:\n",
    "62 is not present in the\n",
    "matrix, so output is 0\n",
    "```"
   ],
   "metadata": {
    "collapsed": false
   }
  },
  {
   "cell_type": "code",
   "execution_count": 5,
   "outputs": [
    {
     "name": "stdout",
     "output_type": "stream",
     "text": [
      "Encontrado en  2 ,  1\n"
     ]
    },
    {
     "data": {
      "text/plain": "1"
     },
     "execution_count": 5,
     "metadata": {},
     "output_type": "execute_result"
    }
   ],
   "source": [
    "def search(mat, n, x):\n",
    "    # Empezamos en la esquina derecha de la primera fila\n",
    "    i = 0\n",
    "    j = n - 1\n",
    "    while i < n and j >= 0:\n",
    "        if mat[i][j] == x:\n",
    "            print(\"Encontrado en \", i, \", \", j)\n",
    "            return 1\n",
    "        # si el elemento es menor quitamos la comumna\n",
    "        if mat[i][j] > x:\n",
    "            j -= 1\n",
    "        else: # quitamos la fila en caso contrario\n",
    "            i += 1\n",
    "\n",
    "    print(\"Elemento encontrado\")\n",
    "    return 0 # if (i == n || j == -1 )\n",
    "\n",
    "mat = [ [10, 20, 30, 40],\n",
    "        [15, 25, 35, 45],\n",
    "        [27, 29, 37, 48],\n",
    "        [32, 33, 39, 50] ]\n",
    "search(mat, 4, 29)"
   ],
   "metadata": {
    "collapsed": false,
    "pycharm": {
     "name": "#%%\n"
    }
   }
  },
  {
   "cell_type": "markdown",
   "source": [
    "**6.-** Dada una matriz 2D booleana de n x m dimensiones donde está ordena cada fila. Encuentre el índice de la fila\n",
    "que tiene el número máximo de unos.\n",
    "```\n",
    "Example 1:\n",
    "\n",
    "Input:\n",
    "N = 4 , M = 4\n",
    "Arr[][] = {{0, 1, 1, 1},\n",
    "           {0, 0, 1, 1},\n",
    "           {1, 1, 1, 1},\n",
    "           {0, 0, 0, 0}}\n",
    "Output: 2\n",
    "Explanation: Row 2 contains 4 1's (0-based\n",
    "indexing).\n",
    "```"
   ],
   "metadata": {
    "collapsed": false
   }
  },
  {
   "cell_type": "code",
   "execution_count": 6,
   "outputs": [
    {
     "name": "stdout",
     "output_type": "stream",
     "text": [
      "2\n"
     ]
    }
   ],
   "source": [
    "from collections import  Counter\n",
    "\n",
    "Arr= [[0, 1, 1, 1],\n",
    "      [0, 0, 1, 1],\n",
    "      [1, 1, 1, 1],\n",
    "      [0, 0, 0, 0]]\n",
    "index_actual = -1\n",
    "suma_unos_actual = 0\n",
    "\n",
    "for index,row in enumerate(Arr):\n",
    "    suma = sum(row)\n",
    "    if  suma > suma_unos_actual:\n",
    "        suma_unos_actual = suma\n",
    "        index_actual = index\n",
    "print(index_actual)"
   ],
   "metadata": {
    "collapsed": false,
    "pycharm": {
     "name": "#%%\n"
    }
   }
  },
  {
   "cell_type": "markdown",
   "source": [
    "**7.-** Dadas dos matrices mat1 y mat2 de tamaño N x N de elementos. Dado un valor x. El problema es contar todos los pares de\n",
    "ambas matrices cuya suma sea igual a x.\n",
    "```\n",
    "Example 1:\n",
    "\n",
    "Input:\n",
    "N = 3, x = 21\n",
    "mat1 = { {1 5 6}\n",
    "         {8 10 11}\n",
    "         {15 16 18} }\n",
    "mat2 = { {2 4 7}\n",
    "         {9 10 12}\n",
    "         {13 16 20} }\n",
    "OUTPUT: 4\n",
    "Explanation: The pairs are (1, 20),\n",
    "            (5, 16), (8, 13), (11, 10).\n",
    "```"
   ],
   "metadata": {
    "collapsed": false
   }
  },
  {
   "cell_type": "code",
   "execution_count": 7,
   "outputs": [
    {
     "name": "stdout",
     "output_type": "stream",
     "text": [
      "[(1, 20), (5, 16), (8, 13), (11, 10)]\n"
     ]
    }
   ],
   "source": [
    "def ret_pairs(mat_1, mat_2, suma):\n",
    "    lista_1 = []\n",
    "    lista_2 = []\n",
    "    ret = []\n",
    "    for row in mat_1:\n",
    "        lista_1.extend(row)\n",
    "    for row in mat_2:\n",
    "        lista_2.extend(row)\n",
    "    for ele_1 in lista_1:\n",
    "        for ele_2 in lista_2:\n",
    "            if ele_1 + ele_2 == suma:\n",
    "                ret.append((ele_1, ele_2))\n",
    "    return ret\n",
    "\n",
    "mat1 = [ [1, 5, 6],\n",
    "         [8, 10, 11],\n",
    "         [15, 16, 18] ]\n",
    "mat2 = [ [2, 4, 7],\n",
    "         [9, 10, 12],\n",
    "         [13, 16, 20] ]\n",
    "X = 21\n",
    "print(ret_pairs(mat1, mat2, X))"
   ],
   "metadata": {
    "collapsed": false,
    "pycharm": {
     "name": "#%%\n"
    }
   }
  },
  {
   "cell_type": "markdown",
   "source": [
    "**8.-** Dada una matriz ordenada por filas de tamaño RxC donde R y C son siempre impares, encuentre la mediana de la matriz.\n",
    "```\n",
    "Example 1:\n",
    "\n",
    "Input:\n",
    "R = 3, C = 3\n",
    "M = [[1, 3, 5],\n",
    "     [2, 6, 9],\n",
    "     [3, 6, 9]]\n",
    "\n",
    "Output: 5\n",
    "\n",
    "Explanation:\n",
    "Sorting matrix elements gives us\n",
    "{1,2,3,3,5,6,6,9,9}. Hence, 5 is median.\n",
    "```"
   ],
   "metadata": {
    "collapsed": false
   }
  },
  {
   "cell_type": "code",
   "execution_count": 8,
   "outputs": [
    {
     "name": "stdout",
     "output_type": "stream",
     "text": [
      "5\n"
     ]
    }
   ],
   "source": [
    "ret = []\n",
    "M = [[1, 3, 5],\n",
    "     [2, 6, 9],\n",
    "     [3, 6, 9]]\n",
    "for row in M:\n",
    "    ret.extend(row)\n",
    "ret.sort()\n",
    "print(ret[len(ret) // 2])"
   ],
   "metadata": {
    "collapsed": false,
    "pycharm": {
     "name": "#%%\n"
    }
   }
  }
 ],
 "metadata": {
  "kernelspec": {
   "display_name": "Python 3",
   "language": "python",
   "name": "python3"
  },
  "language_info": {
   "codemirror_mode": {
    "name": "ipython",
    "version": 2
   },
   "file_extension": ".py",
   "mimetype": "text/x-python",
   "name": "python",
   "nbconvert_exporter": "python",
   "pygments_lexer": "ipython2",
   "version": "2.7.6"
  }
 },
 "nbformat": 4,
 "nbformat_minor": 0
}