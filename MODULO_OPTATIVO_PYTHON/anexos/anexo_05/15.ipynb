{
 "cells": [
  {
   "cell_type": "markdown",
   "source": [
    "# Ejercicios\n",
    "[Enlace en la web: Ejercicios](https://www.geeksforgeeks.org/practice-for-cracking-any-coding-interview/)"
   ],
   "metadata": {
    "collapsed": false,
    "pycharm": {
     "name": "#%% md\n"
    }
   }
  },
  {
   "cell_type": "markdown",
   "source": [
    "## Árboles"
   ],
   "metadata": {
    "collapsed": false
   }
  },
  {
   "cell_type": "markdown",
   "source": [
    "**1.-** Crea una estructura de datos para un arbol binario. Creación, longitud, búsqueda de un elemento,\n",
    "insercción ordenada, recorredo inorden, preorden, postorden.\n",
    "- En preorden, la raíz se recorre antes que los recorridos de los subárboles izquierdo y derecho\n",
    "- En inorden, la raíz se recorre entre los recorridos de los árboles izquierdo y derecho, y\n",
    "- En postorden, la raíz se recorre después de los recorridos por el subárbol izquierdo y el derecho\n",
    "\n",
    "[Teoría sobre árboles](https://www.geeksforgeeks.org/binary-tree-data-structure/)"
   ],
   "metadata": {
    "collapsed": false,
    "pycharm": {
     "name": "#%% md\n"
    }
   }
  },
  {
   "cell_type": "code",
   "execution_count": 2,
   "outputs": [],
   "source": [
    "class Nodo:\n",
    "    def __init__(self, value, izq=None, der=None):\n",
    "        self.value = value\n",
    "        self.izq = izq\n",
    "        self.der = der\n",
    "\n",
    "    def __str__(self):\n",
    "        return f\"Nodo:{self.value}\"\n",
    "\n",
    "\n",
    "class Arbol:\n",
    "    def __init__(self, value=0):\n",
    "        self.head = Nodo(value)\n",
    "\n",
    "    def __str__(self):\n",
    "        return \" \".join([str(x) for x in Arbol.inorden(self.head)])\n",
    "\n",
    "    def __len__(self):\n",
    "        return len(Arbol.inorden(self.head))\n",
    "\n",
    "    @staticmethod\n",
    "    def add_ordenado(nodo, value):\n",
    "        if nodo is None:\n",
    "            return Nodo(value)\n",
    "\n",
    "        if value < nodo.value:\n",
    "            nodo.izq = Arbol.add_ordenado(nodo.izq, value)\n",
    "        elif value > nodo.value:\n",
    "            nodo.der = Arbol.add_ordenado(nodo.der, value)\n",
    "        elif nodo.value == value:\n",
    "            return nodo\n",
    "\n",
    "        return nodo\n",
    "\n",
    "    @staticmethod\n",
    "    def inorden(nodo):\n",
    "        ret = []\n",
    "\n",
    "        if nodo.izq:\n",
    "            ret.extend(Arbol.inorden(nodo.izq))\n",
    "        ret.append(nodo.value)  # raíz\n",
    "        if nodo.der:\n",
    "            ret.extend(Arbol.inorden(nodo.der))\n",
    "\n",
    "        return ret\n",
    "\n",
    "    @staticmethod\n",
    "    def preorden(nodo):\n",
    "        ret = [nodo.value]  # raíz\n",
    "        if nodo.izq:\n",
    "            ret.extend(Arbol.inorden(nodo.izq))\n",
    "        if nodo.der:\n",
    "            ret.extend(Arbol.inorden(nodo.der))\n",
    "\n",
    "        return ret\n",
    "\n",
    "    @staticmethod\n",
    "    def postorden(nodo):\n",
    "        ret = []\n",
    "\n",
    "        if nodo.izq:\n",
    "            ret.extend(Arbol.inorden(nodo.izq))\n",
    "        if nodo.der:\n",
    "            ret.extend(Arbol.inorden(nodo.der))\n",
    "        ret.append(nodo.value)  # raíz\n",
    "\n",
    "        return ret\n",
    "\n",
    "    @staticmethod\n",
    "    def buscar(nodo, value):\n",
    "        if value == nodo.value:\n",
    "            return nodo\n",
    "        elif value < nodo.value and nodo.izq:\n",
    "            return Arbol.buscar(nodo.izq, value)\n",
    "        elif value > nodo.value and nodo.der:\n",
    "            return Arbol.buscar(nodo.der, value)\n",
    "        else:\n",
    "            return None"
   ],
   "metadata": {
    "collapsed": false,
    "pycharm": {
     "name": "#%%\n"
    }
   }
  },
  {
   "cell_type": "code",
   "execution_count": 4,
   "outputs": [
    {
     "name": "stdout",
     "output_type": "stream",
     "text": [
      "2 3 4 7 9 11\n",
      "[2, 3, 4, 7, 9, 11]\n",
      "[9, 2, 3, 4, 7, 11]\n",
      "[2, 3, 4, 7, 11, 9]\n",
      "6\n",
      "Nodo:7\n"
     ]
    }
   ],
   "source": [
    "a = Arbol(9)\n",
    "Arbol.add_ordenado(a.head, 7)\n",
    "Arbol.add_ordenado(a.head, 3)\n",
    "Arbol.add_ordenado(a.head, 4)\n",
    "Arbol.add_ordenado(a.head, 2)\n",
    "Arbol.add_ordenado(a.head, 11)\n",
    "\n",
    "print(a)\n",
    "print(a.inorden(a.head))\n",
    "print(a.preorden(a.head))\n",
    "print(a.postorden(a.head))\n",
    "print(len(a))\n",
    "print(Arbol.buscar(a.head, 7))"
   ],
   "metadata": {
    "collapsed": false,
    "pycharm": {
     "name": "#%%\n"
    }
   }
  }
 ],
 "metadata": {
  "kernelspec": {
   "display_name": "Python 3",
   "language": "python",
   "name": "python3"
  },
  "language_info": {
   "codemirror_mode": {
    "name": "ipython",
    "version": 2
   },
   "file_extension": ".py",
   "mimetype": "text/x-python",
   "name": "python",
   "nbconvert_exporter": "python",
   "pygments_lexer": "ipython2",
   "version": "2.7.6"
  }
 },
 "nbformat": 4,
 "nbformat_minor": 0
}