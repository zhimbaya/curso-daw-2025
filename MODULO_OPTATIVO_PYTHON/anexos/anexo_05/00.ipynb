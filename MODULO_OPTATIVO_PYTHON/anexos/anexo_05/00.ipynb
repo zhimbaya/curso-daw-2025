{
 "cells": [
  {
   "cell_type": "markdown",
   "metadata": {
    "collapsed": false,
    "pycharm": {
     "name": "#%% md\n"
    }
   },
   "source": [
    "# Ejercicios\n",
    "[Enlace en la web: Ejercicios](https://www.geeksforgeeks.org/practice-for-cracking-any-coding-interview/)"
   ]
  },
  {
   "cell_type": "markdown",
   "metadata": {
    "collapsed": false
   },
   "source": [
    "## Matemáticos"
   ]
  },
  {
   "cell_type": "markdown",
   "metadata": {
    "collapsed": false,
    "pycharm": {
     "name": "#%% md\n"
    }
   },
   "source": [
    "**1.-** Para un número N. Hay que esciribr el siguiente patrón.\n",
    "para N = 2 El patrón será\n",
    "```\n",
    "2 2 1 1\n",
    "2 1\n",
    "```\n",
    "para N = 3 el patrón será\n",
    "```\n",
    "3 3 3 2 2 2 1 1 1\n",
    "3 3 2 2 1 1\n",
    "3 2 1\n",
    "```"
   ]
  },
  {
   "cell_type": "code",
   "execution_count": 1,
   "metadata": {
    "collapsed": false,
    "pycharm": {
     "name": "#%%\n"
    }
   },
   "outputs": [
    {
     "name": "stdout",
     "output_type": "stream",
     "text": [
      "333222111$332211$321$"
     ]
    }
   ],
   "source": [
    "N = 3\n",
    "contador = 0\n",
    "while contador < N:\n",
    "    for linea in range(N, 0, -1):\n",
    "        print(str(linea) * (N - contador), end='')\n",
    "    print('$', end='')\n",
    "    contador += 1"
   ]
  },
  {
   "cell_type": "markdown",
   "metadata": {
    "collapsed": false,
    "pycharm": {
     "name": "#%% md\n"
    }
   },
   "source": [
    "**2.-** Dados los dos primeros términos de una serie aritmética A1 y A2. Encontrar el término N-ésimo.```\n",
    "```\n",
    "Input:\n",
    "A1=2\n",
    "A2=3\n",
    "N=4\n",
    "Output:\n",
    "5\n",
    "Explanation:\n",
    "The series is 2,3,4,5,6....\n",
    "Thus,4th term is 5.\n",
    "```"
   ]
  },
  {
   "cell_type": "code",
   "execution_count": 2,
   "metadata": {
    "collapsed": false,
    "pycharm": {
     "name": "#%%\n"
    }
   },
   "outputs": [
    {
     "name": "stdout",
     "output_type": "stream",
     "text": [
      "5\n"
     ]
    }
   ],
   "source": [
    "a_1, a_2 = input(\"Introduce los dos primeros términos de la serie separados por espacios:\").split()\n",
    "n = int(input(\"Introduce el número a encontrar:\"))\n",
    "print(int(a_1)+(n-1)*(int(a_2) - int(a_1)))"
   ]
  },
  {
   "cell_type": "markdown",
   "metadata": {
    "collapsed": false
   },
   "source": [
    "**3.-** Dados el coeficiente y la razón de una serie geométrica A1 y A2. Encontrar el término N-ésimo.```\n",
    "```\n",
    "Input: A = 2, R = 2, N = 4\n",
    "Output: 16\n",
    "Explanation: The GP series is\n",
    "2, 4, 8, 16, 32,... in which 16\n",
    "is th 4th term.\n",
    "```"
   ]
  },
  {
   "cell_type": "code",
   "execution_count": 3,
   "metadata": {
    "collapsed": false,
    "pycharm": {
     "name": "#%%\n"
    }
   },
   "outputs": [
    {
     "name": "stdout",
     "output_type": "stream",
     "text": [
      "162\n"
     ]
    }
   ],
   "source": [
    "c, r = input(\"Introduce el coeficiente y la razón de la serie separados por espacios:\").split()\n",
    "n = int(input(\"Introduce el número a encontrar:\"))\n",
    "print(int(c)*pow(int(r),n-1))"
   ]
  },
  {
   "cell_type": "markdown",
   "metadata": {
    "collapsed": false
   },
   "source": [
    "**4.-** Dados dos enteros N y M encontrar el número más cercano a N divisible por M. En caso que haya más de uno se devolverá el valor absoluto\n",
    "máximo\n",
    "```\n",
    "Input:\n",
    "N = 13 , M = 4\n",
    "Output:\n",
    "12\n",
    "Explanation:\n",
    "12 is the Closest Number to\n",
    "13 which is divisible by 4.\n",
    "\n",
    "Input:\n",
    "N = -15 , M = 6\n",
    "Output:\n",
    "-18\n",
    "Explanation:\n",
    "-12 and -18 are both similarly close to\n",
    "-15 and divisible by 6. but -18 has\n",
    "the maximum absolute value.\n",
    "So, Output is -18\n",
    "```"
   ]
  },
  {
   "cell_type": "code",
   "execution_count": 5,
   "metadata": {
    "collapsed": false,
    "pycharm": {
     "name": "#%%\n"
    }
   },
   "outputs": [
    {
     "name": "stdout",
     "output_type": "stream",
     "text": [
      "51\n"
     ]
    }
   ],
   "source": [
    "n, m =input(\"Dame los dos valores separados por espacios en blanco:\").split()\n",
    "n = int(n)\n",
    "m = int(m)\n",
    "quot = int(n/m)\n",
    "a1 = quot*m\n",
    "\n",
    "if n*m > 0:\n",
    "    a2 = (quot+1)*m\n",
    "else:\n",
    "    a2 = (quot-1)*m\n",
    "\n",
    "if abs(n-a1) < abs(n-a2):\n",
    "    print(a1)\n",
    "else:\n",
    "    print(a2)"
   ]
  },
  {
   "cell_type": "markdown",
   "metadata": {
    "collapsed": false
   },
   "source": [
    "**5.-** Dado un número encontrar la suma de sus dígitos y mostrar si dicha suma es palíndorma o no.\n",
    "```\n",
    "Example 1:\n",
    "\n",
    "Input:\n",
    "N=56\n",
    "Output:\n",
    "1\n",
    "Explanation:\n",
    "The digit sum of 56 is 5+6=11.\n",
    "Since, 11 is a palindrome number.Thus,\n",
    "answer is 1.\n",
    "\n",
    "Input:\n",
    "N=98\n",
    "Output:\n",
    "0\n",
    "Explanation:\n",
    "The digit sum of 98 is 9+8=17.\n",
    "Since 17 is not a palindrome,thus, answer\n",
    "is 0.\n",
    "```"
   ]
  },
  {
   "cell_type": "code",
   "execution_count": 6,
   "metadata": {
    "collapsed": false,
    "pycharm": {
     "name": "#%%\n"
    }
   },
   "outputs": [
    {
     "name": "stdout",
     "output_type": "stream",
     "text": [
      "0\n"
     ]
    }
   ],
   "source": [
    "numero = input(\"Número\")\n",
    "suma = str(sum([int(x) for x in numero]))\n",
    "if len(suma) > 1 and suma == suma[::-1]:\n",
    "    print(\"1\")\n",
    "else:\n",
    "    print(\"0\")"
   ]
  },
  {
   "cell_type": "markdown",
   "metadata": {
    "collapsed": false,
    "pycharm": {
     "name": "#%% md\n"
    }
   },
   "source": [
    "**6.-** Dado dos números A y B encontrar el dígito N-ésimo de A elevado a B contando desde la derecha\n",
    "```\n",
    "Input:\n",
    "A = 3\n",
    "B = 3\n",
    "K = 1\n",
    "Output:\n",
    "7\n",
    "Explanation:\n",
    "3^3 = 27 and 1st\n",
    "digit from right is\n",
    "7\n",
    "Example 2:\n",
    "\n",
    "Input:\n",
    "A = 5\n",
    "B = 2\n",
    "K = 2\n",
    "Output:\n",
    "2\n",
    "Explanation:\n",
    "5^2 = 25 and second\n",
    "digit from right is\n",
    "2.\n",
    "```"
   ]
  },
  {
   "cell_type": "code",
   "execution_count": 7,
   "metadata": {
    "collapsed": false,
    "pycharm": {
     "name": "#%%\n"
    }
   },
   "outputs": [
    {
     "name": "stdout",
     "output_type": "stream",
     "text": [
      "8\n"
     ]
    }
   ],
   "source": [
    "a, b = input(\"Dame los dos números separados por espacios:\").split()\n",
    "n = int(input(\"Caracter Valor:\"))\n",
    "a = int(a)\n",
    "b = int(b)\n",
    "print(str(a**b)[-n])"
   ]
  },
  {
   "cell_type": "markdown",
   "metadata": {
    "collapsed": false
   },
   "source": [
    "**7.-** Dado un número positivo X, encontrar el mayor o igual número que cumpla que: la distancia entre sus dígitos contiguos no es mayor de uno.\n",
    "Por ejemplo 7, 8987 y 4343456 cumplen el requisito, 796 y 89098 no.\n",
    "```\n",
    "Input:\n",
    "X = 10\n",
    "Output:\n",
    "10\n",
    "Explanation:\n",
    "10 is the largest Jumping Number\n",
    "possible for X = 10.\n",
    "\n",
    "Input:\n",
    "X = 50\n",
    "Output:\n",
    "45\n",
    "Explanation:\n",
    "45 is the largest Jumping Number\n",
    "possible for X = 50.\n",
    "```"
   ]
  },
  {
   "cell_type": "code",
   "execution_count": 8,
   "metadata": {
    "collapsed": false,
    "pycharm": {
     "name": "#%%\n"
    }
   },
   "outputs": [
    {
     "name": "stdout",
     "output_type": "stream",
     "text": [
      "45\n"
     ]
    }
   ],
   "source": [
    "numero = int(input(\"Número:\"))\n",
    "for n in range(numero, 0, -1):\n",
    "    num_aux = str(n)\n",
    "    encontrado = True\n",
    "    for index_digito in range(len(num_aux) - 1):\n",
    "        if abs(int(num_aux[index_digito]) - int(num_aux[index_digito + 1])) > 1:\n",
    "            encontrado = False\n",
    "            break\n",
    "    if encontrado:\n",
    "        print(num_aux)\n",
    "        break"
   ]
  },
  {
   "cell_type": "markdown",
   "metadata": {
    "collapsed": false
   },
   "source": [
    "**8.-** Dadas dos fracciones encontrar la suma de ambas"
   ]
  },
  {
   "cell_type": "code",
   "execution_count": 9,
   "metadata": {
    "collapsed": false,
    "pycharm": {
     "name": "#%%\n"
    }
   },
   "outputs": [
    {
     "name": "stdout",
     "output_type": "stream",
     "text": [
      "7/5\n"
     ]
    }
   ],
   "source": [
    "from fractions import Fraction\n",
    "n_1, d_1 = input(\"Introduce la fracción en formato a/b\").split(\"/\")\n",
    "n_2, d_2 = input(\"Introduce la fracción en formato a/b\").split(\"/\")\n",
    "print(Fraction(int(n_1), int(d_1)) + Fraction(int(n_2), int(d_2)))"
   ]
  },
  {
   "cell_type": "markdown",
   "metadata": {
    "collapsed": false
   },
   "source": [
    "**9.-** Dado un número positivo X, encontrar el mayor divisor de este"
   ]
  },
  {
   "cell_type": "code",
   "execution_count": 10,
   "metadata": {
    "collapsed": false,
    "pycharm": {
     "name": "#%%\n"
    }
   },
   "outputs": [
    {
     "name": "stdout",
     "output_type": "stream",
     "text": [
      "5\n"
     ]
    }
   ],
   "source": [
    "n = int(input(\"Número:\"))\n",
    "ans = 0\n",
    "i = 2\n",
    "while i*i <= n:\n",
    "    while n % i == 0:\n",
    "        n //= i\n",
    "    ans = max(ans,i)\n",
    "    i+=1\n",
    "ans = max(ans,n)\n",
    "print(ans)"
   ]
  },
  {
   "cell_type": "markdown",
   "metadata": {
    "collapsed": false
   },
   "source": [
    "**10.-** Encontrar si un número es primo o no"
   ]
  },
  {
   "cell_type": "code",
   "execution_count": 11,
   "metadata": {
    "collapsed": false,
    "pycharm": {
     "name": "#%%\n"
    }
   },
   "outputs": [
    {
     "name": "stdout",
     "output_type": "stream",
     "text": [
      "True\n"
     ]
    }
   ],
   "source": [
    "from math import sqrt\n",
    "\n",
    "def isPrime(n):\n",
    "    if n < 2: return False\n",
    "    if n == 2: return True\n",
    "    if n % 2 == 0: return False\n",
    "\n",
    "    for i in range(3, int(sqrt(n))+1, 2):\n",
    "        if n % i == 0:\n",
    "            return False\n",
    "    return True\n",
    "print(isPrime(5))"
   ]
  }
 ],
 "metadata": {
  "kernelspec": {
   "display_name": "Python 3",
   "language": "python",
   "name": "python3"
  },
  "language_info": {
   "codemirror_mode": {
    "name": "ipython",
    "version": 3
   },
   "file_extension": ".py",
   "mimetype": "text/x-python",
   "name": "python",
   "nbconvert_exporter": "python",
   "pygments_lexer": "ipython3",
   "version": "3.13.0"
  }
 },
 "nbformat": 4,
 "nbformat_minor": 0
}
