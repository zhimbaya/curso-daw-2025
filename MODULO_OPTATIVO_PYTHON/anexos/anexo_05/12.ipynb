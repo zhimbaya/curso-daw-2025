{
 "cells": [
  {
   "cell_type": "markdown",
   "source": [
    "# Ejercicios\n",
    "[Enlace en la web: Ejercicios](https://www.geeksforgeeks.org/practice-for-cracking-any-coding-interview/)"
   ],
   "metadata": {
    "collapsed": false,
    "pycharm": {
     "name": "#%% md\n"
    }
   }
  },
  {
   "cell_type": "markdown",
   "source": [
    "## Colas"
   ],
   "metadata": {
    "collapsed": false
   }
  },
  {
   "cell_type": "markdown",
   "source": [
    "**1.-** Crea una estructura de datos para gestionar una cola de objetos con un array gestionado de forma circular\n",
    "[Teoría sobre Colas](https://www.geeksforgeeks.org/queue-data-structure/)"
   ],
   "metadata": {
    "collapsed": false,
    "pycharm": {
     "name": "#%% md\n"
    }
   }
  },
  {
   "cell_type": "code",
   "execution_count": 1,
   "outputs": [],
   "source": [
    "import numpy as np\n",
    "\n",
    "\n",
    "class Cola:\n",
    "    def __init__(self, max_elements=10):\n",
    "        self.datos = np.empty(max_elements, dtype=object)\n",
    "        self.inicio = 0\n",
    "        self.fin = 0\n",
    "        self.count = 0\n",
    "        self.MAX_LEN = max_elements\n",
    "\n",
    "    def __str__(self):\n",
    "        str_ret = \"\"\n",
    "        if self.count > 0:\n",
    "            str_ret = str(self.datos[self.inicio]) + \" \"\n",
    "            index = self.siguiente(self.inicio)\n",
    "            while index != self.fin:\n",
    "                str_ret += str(self.datos[index]) + \" \"\n",
    "                index = self.siguiente(index)\n",
    "        else:\n",
    "            str_ret = \"Cola vacía\"\n",
    "        return str_ret\n",
    "\n",
    "    def __len__(self):\n",
    "        return self.count\n",
    "\n",
    "    def clear(self):\n",
    "        self.inicio = self.fin = self.count = 0\n",
    "\n",
    "    def es_vacia(self):\n",
    "        return self.count == 0\n",
    "\n",
    "    def es_llena(self):\n",
    "        return self.inicio == self.fin and self.count != 0\n",
    "\n",
    "    def siguiente(self, valor):\n",
    "        return (valor + 1) % self.MAX_LEN\n",
    "\n",
    "    def encolar(self, value):\n",
    "        if not self.es_llena():\n",
    "            self.datos[self.fin] = value\n",
    "            self.fin = self.siguiente(self.fin)\n",
    "            self.count += 1\n",
    "\n",
    "    def desencolar(self):\n",
    "        ret = None\n",
    "        if not self.es_vacia():\n",
    "            ret = self.datos[self.inicio]\n",
    "            self.datos[self.inicio] = None\n",
    "            self.inicio = self.siguiente(self.inicio)\n",
    "            self.count -= 1\n",
    "        return ret"
   ],
   "metadata": {
    "collapsed": false,
    "pycharm": {
     "name": "#%%\n"
    }
   }
  },
  {
   "cell_type": "code",
   "execution_count": 2,
   "outputs": [
    {
     "name": "stdout",
     "output_type": "stream",
     "text": [
      "Cola vacía\n",
      "1 \n",
      "1 2 \n",
      "1 2 3 \n",
      "1 2 3 \n",
      "2 3 \n",
      "3 \n",
      "Cola vacía\n",
      "A B \n",
      "B C D \n",
      "D \n"
     ]
    }
   ],
   "source": [
    "c = Cola(3)\n",
    "print(c)\n",
    "c.encolar(1)\n",
    "print(c)\n",
    "c.encolar(2)\n",
    "print(c)\n",
    "c.encolar(3)\n",
    "print(c)\n",
    "c.encolar(6)\n",
    "print(c)\n",
    "c.desencolar()\n",
    "print(c)\n",
    "c.desencolar()\n",
    "print(c)\n",
    "c.desencolar()\n",
    "print(c)\n",
    "\n",
    "c.encolar(\"A\")\n",
    "c.encolar(\"B\")\n",
    "print(c)\n",
    "c.desencolar()\n",
    "c.encolar(\"C\")\n",
    "c.encolar(\"D\")\n",
    "print(c)\n",
    "c.desencolar()\n",
    "c.desencolar()\n",
    "print(c)"
   ],
   "metadata": {
    "collapsed": false,
    "pycharm": {
     "name": "#%%\n"
    }
   }
  },
  {
   "cell_type": "markdown",
   "source": [
    "**2.-** Crea una función que de la vuelta a una cola"
   ],
   "metadata": {
    "collapsed": false
   }
  },
  {
   "cell_type": "code",
   "execution_count": 3,
   "outputs": [],
   "source": [
    "def reversed(self):\n",
    "    lista_aux = []\n",
    "    cola_aux = Cola(len(self))\n",
    "    while ele := self.desencolar():\n",
    "        lista_aux.append(ele)\n",
    "\n",
    "    for ele in lista_aux[::-1]:\n",
    "        cola_aux.encolar(ele)\n",
    "    return cola_aux"
   ],
   "metadata": {
    "collapsed": false,
    "pycharm": {
     "name": "#%%\n"
    }
   }
  },
  {
   "cell_type": "code",
   "execution_count": 5,
   "outputs": [
    {
     "name": "stdout",
     "output_type": "stream",
     "text": [
      "1 2 \n",
      "2 1 \n"
     ]
    }
   ],
   "source": [
    "c = Cola(3)\n",
    "c.encolar(1)\n",
    "c.encolar(2)\n",
    "print(c)\n",
    "print(reversed(c))"
   ],
   "metadata": {
    "collapsed": false,
    "pycharm": {
     "name": "#%%\n"
    }
   }
  }
 ],
 "metadata": {
  "kernelspec": {
   "display_name": "Python 3",
   "language": "python",
   "name": "python3"
  },
  "language_info": {
   "codemirror_mode": {
    "name": "ipython",
    "version": 2
   },
   "file_extension": ".py",
   "mimetype": "text/x-python",
   "name": "python",
   "nbconvert_exporter": "python",
   "pygments_lexer": "ipython2",
   "version": "2.7.6"
  }
 },
 "nbformat": 4,
 "nbformat_minor": 0
}