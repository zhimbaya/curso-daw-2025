{
 "cells": [
  {
   "cell_type": "markdown",
   "source": [
    "# Ejercicios\n",
    "[Enlace en la web: Ejercicios](https://www.geeksforgeeks.org/practice-for-cracking-any-coding-interview/)"
   ],
   "metadata": {
    "collapsed": false,
    "pycharm": {
     "name": "#%% md\n"
    }
   }
  },
  {
   "cell_type": "markdown",
   "source": [
    " ## Hashing"
   ],
   "metadata": {
    "collapsed": false,
    "pycharm": {
     "name": "#%% md\n"
    }
   }
  },
  {
   "cell_type": "markdown",
   "source": [
    "**1.-** Dada una matríz de NxN determinar los números comunes en todas las filas\n",
    "```\n",
    "Example 1:\n",
    "\n",
    "Input:\n",
    "N = 4\n",
    "M = {{2, 1, 4, 3},\n",
    "     {1, 2, 3, 2},\n",
    "     {3, 6, 2, 3},\n",
    "     {5, 2, 5, 3}}\n",
    "Output:\n",
    "2, 3\n",
    "Explaination: Only 2 and 3 are common in all rows.\n",
    "```"
   ],
   "metadata": {
    "collapsed": false
   }
  },
  {
   "cell_type": "code",
   "execution_count": 1,
   "outputs": [
    {
     "name": "stdout",
     "output_type": "stream",
     "text": [
      "{2, 3}\n"
     ]
    }
   ],
   "source": [
    "Arr = [[2, 1, 4, 3],\n",
    "       [1, 2, 3, 2],\n",
    "       [3, 6, 2, 3],\n",
    "       [5, 2, 5, 3]]\n",
    "\n",
    "elementos = []\n",
    "for row in Arr:\n",
    "    elementos.append(set(row))\n",
    "\n",
    "rest = set()\n",
    "for index,row in enumerate(elementos):\n",
    "    if index == 0:\n",
    "        rest = row\n",
    "    else:\n",
    "        rest &= row\n",
    "print(rest)"
   ],
   "metadata": {
    "collapsed": false,
    "pycharm": {
     "name": "#%%\n"
    }
   }
  },
  {
   "cell_type": "markdown",
   "source": [
    "**2.-** Dados dos arrays sin elementos repetidos, uno de tamaño menor, comprobar si el menor es un subconjunto del mayor\n",
    "```\n",
    "Example 1:\n",
    "\n",
    "Input:\n",
    "a1[] = {11, 1, 13, 21, 3, 7}\n",
    "a2[] = {11, 3, 7, 1}\n",
    "Output:\n",
    "Yes\n",
    "Explanation:\n",
    "a2[] is a subset of a1[]\n",
    "```"
   ],
   "metadata": {
    "collapsed": false
   }
  },
  {
   "cell_type": "code",
   "execution_count": 2,
   "outputs": [
    {
     "name": "stdout",
     "output_type": "stream",
     "text": [
      "True\n"
     ]
    }
   ],
   "source": [
    "a1 = [11, 1, 13, 21, 3, 7]\n",
    "a2 = [11, 3, 7, 1]\n",
    "\n",
    "print(len(set(a1) & set(a2)) == len(a2))"
   ],
   "metadata": {
    "collapsed": false,
    "pycharm": {
     "name": "#%%\n"
    }
   }
  },
  {
   "cell_type": "markdown",
   "source": [
    "**3.-** Dado un array de N positivos que se pueden repetir, contar la frecuencia.\n",
    "```\n",
    "Example 1:\n",
    "\n",
    "Input:\n",
    "N = 5\n",
    "arr[] = {2, 3, 2, 3, 5}\n",
    "P = 5\n",
    "Output:\n",
    "0 2 2 0 1\n",
    "Explanation:\n",
    "Counting frequencies of each array element\n",
    "We have:\n",
    "1 occurring 0 times.\n",
    "2 occurring 2 times.\n",
    "3 occurring 2 times.\n",
    "4 occurring 0 times.\n",
    "5 occurring 1 time.\n",
    "```"
   ],
   "metadata": {
    "collapsed": false
   }
  },
  {
   "cell_type": "code",
   "execution_count": 3,
   "outputs": [
    {
     "name": "stdout",
     "output_type": "stream",
     "text": [
      "El 0 no se repite \n",
      "El 1 no se repite \n",
      "El 2 se repite 2 veces\n",
      "El 3 se repite 2 veces\n",
      "El 4 no se repite \n",
      "El 5 se repite 1 veces\n"
     ]
    }
   ],
   "source": [
    "from collections import  Counter\n",
    "\n",
    "Arr = [2, 3, 2, 3, 5]\n",
    "frecuencias = Counter(Arr)\n",
    "for indice in range(max(Arr) + 1):\n",
    "    if indice in frecuencias.keys():\n",
    "        texto = f\"El {indice} se repite {frecuencias[indice]} veces\"\n",
    "    else:\n",
    "        texto = f\"El {indice} no se repite \"\n",
    "    print(texto)"
   ],
   "metadata": {
    "collapsed": false,
    "pycharm": {
     "name": "#%%\n"
    }
   }
  },
  {
   "cell_type": "markdown",
   "source": [
    "**4.-** Dados dos arrays ver si son iguales\n",
    "```\n",
    "Example 1:\n",
    "\n",
    "Input:\n",
    "N = 5\n",
    "A[] = {1,2,5,4,0}\n",
    "B[] = {2,4,5,0,1}\n",
    "Output: 1\n",
    "Explanation: Both the array can be\n",
    "rearranged to {0,1,2,4,5}\n",
    "\n",
    "```"
   ],
   "metadata": {
    "collapsed": false
   }
  },
  {
   "cell_type": "code",
   "execution_count": 4,
   "outputs": [
    {
     "name": "stdout",
     "output_type": "stream",
     "text": [
      "True\n"
     ]
    }
   ],
   "source": [
    "a1 = [1,2,5,4,0]\n",
    "a2 = [2,4,5,0,1]\n",
    "print(sorted(a1) == sorted(a2))"
   ],
   "metadata": {
    "collapsed": false,
    "pycharm": {
     "name": "#%%\n"
    }
   }
  },
  {
   "cell_type": "markdown",
   "source": [
    "**5.-** Dado un array de enteors, encontrar los elementos que se reptian K veces.\n",
    "```\n",
    "Example 1:\n",
    "\n",
    "Input :\n",
    "N = 7, K = 2\n",
    "A[] = {1, 7, 4, 3, 4, 8, 7}\n",
    "Output :\n",
    "7\n",
    "Explanation:\n",
    "Both 7 and 4 occur 2 times\n",
    "```"
   ],
   "metadata": {
    "collapsed": false
   }
  },
  {
   "cell_type": "code",
   "execution_count": 5,
   "outputs": [
    {
     "name": "stdout",
     "output_type": "stream",
     "text": [
      "7\n",
      "4\n"
     ]
    }
   ],
   "source": [
    "from collections import Counter\n",
    "K = 2\n",
    "Arr = [1, 7, 4, 3, 4, 8, 7]\n",
    "\n",
    "frecuencias = Counter(Arr)\n",
    "\n",
    "for indice, frecuencia in frecuencias.items():\n",
    "    if frecuencia == K:\n",
    "        print(indice)"
   ],
   "metadata": {
    "collapsed": false,
    "pycharm": {
     "name": "#%%\n"
    }
   }
  },
  {
   "cell_type": "markdown",
   "source": [
    "**6.-** Dados dos arrays con enteros de tamaños diferentes encontrar los que están en el primero pero no en el segundo\n",
    "\n",
    "```\n",
    "Example 1:\n",
    "\n",
    "Input: N = 6, M = 5\n",
    "A[] = {1, 2, 3, 4, 5, 10}\n",
    "B[] = {2, 3, 1, 0, 5}\n",
    "Output: 4 10\n",
    "Explanation: 4 and 10 are present in\n",
    "first array, but not in second array.\n",
    "```"
   ],
   "metadata": {
    "collapsed": false
   }
  },
  {
   "cell_type": "code",
   "execution_count": 6,
   "outputs": [
    {
     "name": "stdout",
     "output_type": "stream",
     "text": [
      "[4, 10]\n"
     ]
    }
   ],
   "source": [
    "A = [1, 2, 3, 4, 5, 10]\n",
    "B = [2, 3, 1, 0, 5]\n",
    "\n",
    "print(sorted(set(A) - set(B)))"
   ],
   "metadata": {
    "collapsed": false,
    "pycharm": {
     "name": "#%%\n"
    }
   }
  },
  {
   "cell_type": "markdown",
   "source": [
    "**7.-** Encontrar el primer elemento que no se repita\n",
    "```\n",
    "Example 1:\n",
    "\n",
    "Input : arr[] = {-1, 2, -1, 3, 2}\n",
    "Output : 3\n",
    "Explanation:\n",
    "-1 and 2 are repeating whereas 3 is\n",
    "the only number occuring once.\n",
    "Hence, the output is 3.\n",
    "```"
   ],
   "metadata": {
    "collapsed": false
   }
  },
  {
   "cell_type": "code",
   "execution_count": 7,
   "outputs": [
    {
     "name": "stdout",
     "output_type": "stream",
     "text": [
      "3\n"
     ]
    }
   ],
   "source": [
    "from collections import Counter\n",
    "K = 2\n",
    "Arr = [-1, 2, -1, 3, 2]\n",
    "\n",
    "frecuencias = Counter(Arr)\n",
    "\n",
    "for indice, frecuencia in frecuencias.items():\n",
    "    if frecuencia == 1:\n",
    "        print(indice)\n",
    "        break"
   ],
   "metadata": {
    "collapsed": false,
    "pycharm": {
     "name": "#%%\n"
    }
   }
  },
  {
   "cell_type": "markdown",
   "source": [
    "**8.-** Dada una matriz de cadenas, devuelve todos los grupos de cadenas que son anagramas. Los grupos deben crearse en orden de aparición en la matriz original.\n",
    "```\n",
    "Example 1:\n",
    "\n",
    "Input:\n",
    "N = 5\n",
    "words[] = {act,god,cat,dog,tac}\n",
    "Output:\n",
    "act cat tac\n",
    "god dog\n",
    "Explanation:\n",
    "There are 2 groups of\n",
    "anagrams \"god\", \"dog\" make group 1.\n",
    "\"act\", \"cat\", \"tac\" make group 2.\n",
    "```"
   ],
   "metadata": {
    "collapsed": false
   }
  },
  {
   "cell_type": "code",
   "execution_count": 8,
   "outputs": [
    {
     "name": "stdout",
     "output_type": "stream",
     "text": [
      "cat tac act\n",
      "dog god\n"
     ]
    }
   ],
   "source": [
    "from collections import defaultdict\n",
    "\n",
    "Arr =  [\"cat\", \"dog\", \"tac\", \"god\", \"act\"]\n",
    "\n",
    "groupedWords = defaultdict(list)\n",
    "\n",
    "for word in Arr:\n",
    "    groupedWords[\"\".join(sorted(word))].append(word)\n",
    "\n",
    "for group in groupedWords.values():\n",
    "    print(\" \".join(group))"
   ],
   "metadata": {
    "collapsed": false,
    "pycharm": {
     "name": "#%%\n"
    }
   }
  },
  {
   "cell_type": "markdown",
   "source": [
    "**9.-** Dada una serie de nombres (que consta de caracteres en minúscula) de candidatos en una elección. Un nombre de candidato en una matriz\n",
    "representa un voto emitido al candidato. Escriba el nombre del candidato que recibió el máximo de votos. Si hay empate, escriba el nombre\n",
    "lexicográficamente más pequeño.\n",
    "```\n",
    "Example 1:\n",
    "\n",
    "Input:\n",
    "n = 13\n",
    "Votes[] = {john,johnny,jackie,johnny,john\n",
    "jackie,jamie,jamie,john,johnny,jamie,\n",
    "johnny,john}\n",
    "Output: john 4\n",
    "Explanation: john has 4 votes casted for\n",
    "him, but so does johny. john is\n",
    "lexicographically smaller, so we print\n",
    "john and the votes he received.\n",
    "```"
   ],
   "metadata": {
    "collapsed": false
   }
  },
  {
   "cell_type": "code",
   "execution_count": 9,
   "outputs": [
    {
     "name": "stdout",
     "output_type": "stream",
     "text": [
      "john\n"
     ]
    }
   ],
   "source": [
    "from collections import defaultdict\n",
    "\n",
    "Arr = ['john','johnny','jackie','johnny','john', 'jackie','jamie','jamie','john','johnny','jamie', 'johnny','john']\n",
    "\n",
    "votos = defaultdict(int)\n",
    "for voto in Arr:\n",
    "    votos[voto] += 1\n",
    "\n",
    "max_valor = 0\n",
    "ganador = \"\"\n",
    "for key, val in votos.items():\n",
    "        if val > max_valor:\n",
    "            max_valor = val\n",
    "            ganador = key\n",
    "        elif val == max_valor and ganador > key:\n",
    "            ganador = key\n",
    "\n",
    "print(ganador)"
   ],
   "metadata": {
    "collapsed": false,
    "pycharm": {
     "name": "#%%\n"
    }
   }
  },
  {
   "cell_type": "markdown",
   "source": [
    "**10.-** Dada una matriz Arr de N enteros positivos y otro número X. Determine si existen o no dos elementos en Arr cuya suma es exactamente X.\n",
    "```\n",
    "Example 1:\n",
    "\n",
    "Input:\n",
    "N = 6, X = 16\n",
    "Arr[] = {1, 4, 45, 6, 10, 8}\n",
    "Output: Yes\n",
    "Explanation: Arr[3] + Arr[4] = 6 + 10 = 16\n",
    "```"
   ],
   "metadata": {
    "collapsed": false
   }
  },
  {
   "cell_type": "code",
   "execution_count": 10,
   "outputs": [
    {
     "name": "stdout",
     "output_type": "stream",
     "text": [
      "(6, 10)\n"
     ]
    }
   ],
   "source": [
    "from itertools import combinations\n",
    "from collections import defaultdict\n",
    "\n",
    "Arr = [1, 4, 45, 6, 10, 8]\n",
    "X = 16\n",
    "\n",
    "combinaciones = combinations(Arr, 2)\n",
    "sumas = defaultdict(list)\n",
    "for value in combinaciones:\n",
    "    sumas[value[0]+value[1]].append(value)\n",
    "\n",
    "if X in sumas.keys():\n",
    "    print(*sumas[X])"
   ],
   "metadata": {
    "collapsed": false,
    "pycharm": {
     "name": "#%%\n"
    }
   }
  },
  {
   "cell_type": "markdown",
   "source": [
    "**11.-** Dada una matriz de enteros y un entero no negativo k, cuente todos los pares distintos con una diferencia igual a k,\n",
    "es decir, A [i] - A [j] = k\n",
    "```\n",
    "Example 1:\n",
    "\n",
    "Input: array = {1, 5, 4, 1, 2}, k = 0\n",
    "Output: 1\n",
    "Explanation: There is only one pair (1, 1)\n",
    "whose difference equal to 0.\n",
    "Example 2;\n",
    "\n",
    "Input: array = {1, 5, 3}, k = 2\n",
    "Output: 2\n",
    "Explanation: There are two pairs (5, 3) and\n",
    "(1, 3) whose difference equal to 2.\n",
    "```"
   ],
   "metadata": {
    "collapsed": false
   }
  },
  {
   "cell_type": "code",
   "execution_count": 11,
   "outputs": [
    {
     "name": "stdout",
     "output_type": "stream",
     "text": [
      "(1, 3) (5, 3)\n"
     ]
    }
   ],
   "source": [
    "from itertools import combinations\n",
    "from collections import defaultdict\n",
    "\n",
    "Arr = [1, 5, 3]\n",
    "X = 2\n",
    "\n",
    "combinaciones = combinations(Arr, 2)\n",
    "sumas = defaultdict(list)\n",
    "for value in combinaciones:\n",
    "    sumas[abs(value[0]-value[1])].append(value)\n",
    "\n",
    "if X in sumas.keys():\n",
    "    print(*sumas[X])"
   ],
   "metadata": {
    "collapsed": false,
    "pycharm": {
     "name": "#%%\n"
    }
   }
  },
  {
   "cell_type": "markdown",
   "source": [
    "**12.-** Dada una fracción. Conviértelo en decimal. Si la parte fraccionaria se repite, encierre la parte repetida entre paréntesis.\n",
    "```\n",
    "Example 1:\n",
    "\n",
    "Input: numerator = 1, denominator = 3\n",
    "Output: \"0.(3)\"\n",
    "Explanation: 1/3 = 0.3333... So here 3 is\n",
    "recurring.\n",
    "Example 2:\n",
    "\n",
    "Input: numerator = 5, denominator = 2\n",
    "Output: \"2.5\"\n",
    "Explanation: 5/2 = 2.5\n",
    "```"
   ],
   "metadata": {
    "collapsed": false
   }
  },
  {
   "cell_type": "code",
   "execution_count": 12,
   "outputs": [
    {
     "name": "stdout",
     "output_type": "stream",
     "text": [
      "2.(27)\n",
      "-0.5\n"
     ]
    }
   ],
   "source": [
    "def calculate_fraction(num, den) :\n",
    "    if num == 0:\n",
    "        return \"0\"\n",
    "\n",
    "    sign = -1 if (num < 0) ^ (den < 0) else 1\n",
    "    num = abs(num)\n",
    "    den = abs(den)\n",
    "    initial = num // den\n",
    "    res = \"\"\n",
    "\n",
    "    if sign == -1:\n",
    "        res += \"-\"\n",
    "    res += str(initial)\n",
    "    if num % den == 0:\n",
    "        return res\n",
    "    res += \".\"\n",
    "\n",
    "    rem = num % den\n",
    "    mp = {}\n",
    "\n",
    "    index = 0\n",
    "    repeating = False\n",
    "    while rem > 0 and not repeating:\n",
    "        if rem in mp:\n",
    "            index = mp[rem]\n",
    "            repeating = True\n",
    "            break\n",
    "\n",
    "        else:\n",
    "            mp[rem] = len(res)\n",
    "        rem = rem * 10\n",
    "\n",
    "        temp = rem // den\n",
    "        res += str(temp )\n",
    "        rem = rem % den\n",
    "\n",
    "    if repeating:\n",
    "        res += \")\"\n",
    "        x = res[:index]\n",
    "        x += \"(\"\n",
    "        x += res[index:]\n",
    "        res = x\n",
    "\n",
    "    return res\n",
    "\n",
    "num = 50\n",
    "den = 22\n",
    "print(calculate_fraction(num, den))\n",
    "num = -1\n",
    "den = 2\n",
    "print(calculate_fraction(num, den))"
   ],
   "metadata": {
    "collapsed": false,
    "pycharm": {
     "name": "#%%\n"
    }
   }
  },
  {
   "cell_type": "markdown",
   "source": [
    "**13.-** Dada una matriz con números enteros positivos, la tarea es encontrar la subsecuencia más grande de la matriz que contiene solo números\n",
    " de Fibonacci.\n",
    "```\n",
    "Example 1:\n",
    "\n",
    "Input : arr[] = {1, 4, 3, 9, 10, 13, 7}\n",
    "Output : subset[] = {1, 3, 13}\n",
    "The output three numbers are Fibonacci\n",
    "numbers.\n",
    "\n",
    "Example 2:\n",
    "Input  : arr[] = {0, 2, 8, 5, 2, 1, 4, 13, 23}\n",
    "Output : subset[] = {0, 2, 8, 5, 2, 1, 13}\n",
    "```"
   ],
   "metadata": {
    "collapsed": false
   }
  },
  {
   "cell_type": "code",
   "execution_count": 13,
   "outputs": [
    {
     "name": "stdout",
     "output_type": "stream",
     "text": [
      "2 8 5 1 13 "
     ]
    }
   ],
   "source": [
    "def find_fib_subset(arr, n):\n",
    "    m= max(arr) # creamos la serie de fibonnaci solo hasta el máximo del array por eficiencia\n",
    "    a = 0\n",
    "    b = 1\n",
    "    fib = [a, b]\n",
    "    while b < m:\n",
    "        c = a + b\n",
    "        a = b\n",
    "        b = c\n",
    "        fib.append(b)\n",
    "\n",
    "    # ver los elementos que están en el array y la serie\n",
    "    for i in range (n):\n",
    "        if arr[i] in fib :\n",
    "            print(arr[i],end=\" \")\n",
    "\n",
    "arr = [4, 2, 8, 5, 20, 1, 40, 13, 23]\n",
    "n = len(arr)\n",
    "find_fib_subset(arr, n)\n",
    "\n"
   ],
   "metadata": {
    "collapsed": false,
    "pycharm": {
     "name": "#%%\n"
    }
   }
  }
 ],
 "metadata": {
  "kernelspec": {
   "display_name": "Python 3",
   "language": "python",
   "name": "python3"
  },
  "language_info": {
   "codemirror_mode": {
    "name": "ipython",
    "version": 2
   },
   "file_extension": ".py",
   "mimetype": "text/x-python",
   "name": "python",
   "nbconvert_exporter": "python",
   "pygments_lexer": "ipython2",
   "version": "2.7.6"
  }
 },
 "nbformat": 4,
 "nbformat_minor": 0
}