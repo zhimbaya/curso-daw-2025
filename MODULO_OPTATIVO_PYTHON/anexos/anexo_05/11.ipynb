{
 "cells": [
  {
   "cell_type": "markdown",
   "source": [
    "# Ejercicios\n",
    "[Enlace en la web: Ejercicios](https://www.geeksforgeeks.org/practice-for-cracking-any-coding-interview/)\n"
   ],
   "metadata": {
    "collapsed": false,
    "pycharm": {
     "name": "#%% md\n"
    }
   }
  },
  {
   "cell_type": "markdown",
   "source": [
    "## Pilas"
   ],
   "metadata": {
    "collapsed": false
   }
  },
  {
   "cell_type": "markdown",
   "source": [
    "**1.-** Crea una estructura de datos para gestionar una pila de objetos con un array\n",
    "[Teoría sobre Pilas](https://www.geeksforgeeks.org/stack-data-structure/)"
   ],
   "metadata": {
    "collapsed": false,
    "pycharm": {
     "name": "#%% md\n"
    }
   }
  },
  {
   "cell_type": "code",
   "execution_count": 1,
   "outputs": [],
   "source": [
    "import numpy as np\n",
    "\n",
    "\n",
    "class Pila:\n",
    "    def __init__(self, max_elements=10):\n",
    "        self.datos = np.empty(max_elements, dtype=object)\n",
    "        self.cabeza = 0\n",
    "        self.MAX_LEN = max_elements\n",
    "\n",
    "    def __str__(self):\n",
    "        str_ret = \"\"\n",
    "        if self.cabeza > 0:\n",
    "            index = 0\n",
    "            while index < self.cabeza:\n",
    "                str_ret += str(self.datos[index])\n",
    "                index += 1\n",
    "        else:\n",
    "            str_ret = \"Pila vacía\"\n",
    "        return str_ret\n",
    "\n",
    "    def __len__(self):\n",
    "        return self.cabeza\n",
    "\n",
    "    def clear(self):\n",
    "        self.cabeza = 0\n",
    "\n",
    "    def es_vacia(self):\n",
    "        return self.cabeza == 0\n",
    "\n",
    "    def push(self, value):\n",
    "        if self.cabeza < self.MAX_LEN:\n",
    "            self.datos[self.cabeza] = value\n",
    "            self.cabeza += 1\n",
    "\n",
    "    def pop(self):\n",
    "        ret = None\n",
    "        if self.cabeza > 0:\n",
    "            self.cabeza -= 1\n",
    "            ret = self.datos[self.cabeza]\n",
    "        return ret"
   ],
   "metadata": {
    "collapsed": false,
    "pycharm": {
     "name": "#%%\n"
    }
   }
  },
  {
   "cell_type": "code",
   "execution_count": 2,
   "outputs": [
    {
     "name": "stdout",
     "output_type": "stream",
     "text": [
      "Pila vacía\n",
      "(2, 3)\n",
      "(2, 3)(5, 3)\n",
      "(2, 3)(5, 3)(7, 3)\n",
      "(2, 3)(5, 3)(7, 3)\n",
      "(2, 3)(5, 3)\n",
      "(2, 3)\n",
      "Pila vacía\n"
     ]
    }
   ],
   "source": [
    "pila = Pila(3)\n",
    "print(pila)\n",
    "pila.push((2, 3))\n",
    "print(pila)\n",
    "pila.push((5, 3))\n",
    "print(pila)\n",
    "pila.push((7, 3))\n",
    "print(pila)\n",
    "pila.push((9, 9))  # No entra\n",
    "print(pila)\n",
    "pila.pop()\n",
    "print(pila)\n",
    "pila.pop()\n",
    "print(pila)\n",
    "pila.pop()\n",
    "print(pila)"
   ],
   "metadata": {
    "collapsed": false,
    "pycharm": {
     "name": "#%%\n"
    }
   }
  },
  {
   "cell_type": "markdown",
   "source": [
    "**2.-** Determinar si una expresión de paréntesis está balanceada, solo se admiten como entrada {[()]}."
   ],
   "metadata": {
    "collapsed": false
   }
  },
  {
   "cell_type": "code",
   "execution_count": 3,
   "outputs": [
    {
     "name": "stdout",
     "output_type": "stream",
     "text": [
      "True\n",
      "False\n"
     ]
    }
   ],
   "source": [
    "def balanceada(expr):\n",
    "    def match(a, b):\n",
    "        return (a == '(' and b == ')') or (a == '[' and b == ']') or (a == '{' and b == '}')\n",
    "\n",
    "    APERTURA = ('(', '[', '{')\n",
    "    CIERRE = (')', ']', '}')\n",
    "    pila = Pila(len(expr))\n",
    "    for car in expr:\n",
    "        if car in APERTURA:\n",
    "            pila.push(car)\n",
    "        elif car in CIERRE:\n",
    "            if not match(pila.pop(), car):\n",
    "                return False\n",
    "    return True\n",
    "\n",
    "\n",
    "print(balanceada(\"{()()[()]}\"))\n",
    "print(balanceada(\"{()()[(})]}\"))"
   ],
   "metadata": {
    "collapsed": false,
    "pycharm": {
     "name": "#%%\n"
    }
   }
  },
  {
   "cell_type": "markdown",
   "source": [
    "**3.-** Hacer una función que devuelva la pila la revés"
   ],
   "metadata": {
    "collapsed": false,
    "pycharm": {
     "name": "#%% md\n"
    }
   }
  },
  {
   "cell_type": "code",
   "execution_count": 5,
   "outputs": [
    {
     "name": "stdout",
     "output_type": "stream",
     "text": [
      "abc\n",
      "cba\n",
      "5\n"
     ]
    }
   ],
   "source": [
    "def reversed(pila):\n",
    "    pila_aux = Pila(pila.MAX_LEN)\n",
    "    while ele:= pila.pop():\n",
    "        pila_aux.push(ele)\n",
    "    return pila_aux\n",
    "\n",
    "p = Pila(5)\n",
    "p.push(\"a\")\n",
    "p.push(\"b\")\n",
    "p.push(\"c\")\n",
    "print(p)\n",
    "p = reversed(p)\n",
    "print(p)\n",
    "print(p.MAX_LEN)"
   ],
   "metadata": {
    "collapsed": false,
    "pycharm": {
     "name": "#%%\n"
    }
   }
  },
  {
   "cell_type": "markdown",
   "source": [
    "**4.-** Hacer una función que devuelva el mínimo de una pila"
   ],
   "metadata": {
    "collapsed": false
   }
  },
  {
   "cell_type": "code",
   "execution_count": 9,
   "outputs": [
    {
     "name": "stdout",
     "output_type": "stream",
     "text": [
      "2\n"
     ]
    }
   ],
   "source": [
    "def get_minimo(self):\n",
    "    minimo = None\n",
    "    if not self.es_vacia():\n",
    "        index = 0\n",
    "        minimo = self.datos[index]\n",
    "        index += 1\n",
    "        while index < self.cabeza:\n",
    "            if self.datos[index] < minimo:\n",
    "                minimo = self.datos[index]\n",
    "            index += 1\n",
    "    return minimo\n",
    "p = Pila(3)\n",
    "p.push(11)\n",
    "p.push(2)\n",
    "p.push(3)\n",
    "print(get_minimo(p))"
   ],
   "metadata": {
    "collapsed": false,
    "pycharm": {
     "name": "#%%\n"
    }
   }
  },
  {
   "cell_type": "markdown",
   "source": [
    "**5.-** Hacer una función que devuelva de un elento del array el mayor de los siguientes, si no hay se devolverá -1"
   ],
   "metadata": {
    "collapsed": false
   }
  },
  {
   "cell_type": "code",
   "execution_count": 12,
   "outputs": [
    {
     "name": "stdout",
     "output_type": "stream",
     "text": [
      "1 -- 3\n",
      "2 -- 4\n",
      "3 -- 4\n",
      "4 -- -1\n"
     ]
    }
   ],
   "source": [
    "def print_siguiente_mayor(arr):\n",
    "    p = Pila()\n",
    "    elemento = 0\n",
    "    siguiente = 0\n",
    "\n",
    "    p.push(arr[0])\n",
    "    for i in range(1, len(arr)):\n",
    "        siguiente = arr[i]\n",
    "        if not p.es_vacia():\n",
    "            elemento = p.pop()\n",
    "            while elemento < siguiente:\n",
    "                print(str(elemento) + \" -- \" + str(siguiente))\n",
    "                if p.es_vacia():\n",
    "                    break\n",
    "                elemento = p.pop()\n",
    "\n",
    "            if elemento > siguiente:\n",
    "                p.push(elemento)\n",
    "        p.push(siguiente)\n",
    "\n",
    "    while not p.es_vacia():\n",
    "        element = p.pop()\n",
    "        siguiente = -1\n",
    "        print(str(element) + \" -- \" + str(siguiente))\n",
    "\n",
    "\n",
    "arr = [1, 3, 2, 4]\n",
    "print_siguiente_mayor(arr)"
   ],
   "metadata": {
    "collapsed": false,
    "pycharm": {
     "name": "#%%\n"
    }
   }
  }
 ],
 "metadata": {
  "kernelspec": {
   "display_name": "Python 3",
   "language": "python",
   "name": "python3"
  },
  "language_info": {
   "codemirror_mode": {
    "name": "ipython",
    "version": 2
   },
   "file_extension": ".py",
   "mimetype": "text/x-python",
   "name": "python",
   "nbconvert_exporter": "python",
   "pygments_lexer": "ipython2",
   "version": "2.7.6"
  }
 },
 "nbformat": 4,
 "nbformat_minor": 0
}