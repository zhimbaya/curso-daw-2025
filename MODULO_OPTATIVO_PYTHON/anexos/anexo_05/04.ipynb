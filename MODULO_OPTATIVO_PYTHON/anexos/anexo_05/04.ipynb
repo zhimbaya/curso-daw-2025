{
 "cells": [
  {
   "cell_type": "markdown",
   "source": [
    "# Ejercicios\n",
    "[Enlace en la web: Ejercicios](https://www.geeksforgeeks.org/practice-for-cracking-any-coding-interview/)"
   ],
   "metadata": {
    "collapsed": false,
    "pycharm": {
     "name": "#%% md\n"
    }
   }
  },
  {
   "cell_type": "markdown",
   "source": [
    "## Búsquedas"
   ],
   "metadata": {
    "collapsed": false,
    "pycharm": {
     "name": "#%% md\n"
    }
   }
  },
  {
   "cell_type": "markdown",
   "source": [
    "**1.-** Buscar la primera ocurrencia de un valor en un array desordenado, -1 si no existe sin usar las funciones del lenguaje.\n",
    "```\n",
    "Example 1:\n",
    "\n",
    "Input:\n",
    "N = 5, K = 16\n",
    "Arr[] = {9, 7, 2, 16, 4}\n",
    "Output: 4\n",
    "Explanation: K = 16 is found in the\n",
    "given array at position 4.\n",
    "```"
   ],
   "metadata": {
    "collapsed": false
   }
  },
  {
   "cell_type": "code",
   "execution_count": 1,
   "outputs": [
    {
     "name": "stdout",
     "output_type": "stream",
     "text": [
      "3\n"
     ]
    }
   ],
   "source": [
    "import math\n",
    "\n",
    "K = 16\n",
    "Arr = [9, 7, 2, 16, 4]\n",
    "for indice, elemento in enumerate(Arr):\n",
    "    if elemento == K:\n",
    "        print(indice)\n",
    "        break\n",
    "else:\n",
    "    print(-1)\n",
    "# print(Arr.index(K))"
   ],
   "metadata": {
    "collapsed": false,
    "pycharm": {
     "name": "#%%\n"
    }
   }
  },
  {
   "cell_type": "markdown",
   "source": [
    "**2.-** Dado un array buscar los mayores o iguales que el primer elemento\n",
    "```\n",
    "Example 1:\n",
    "N = 5\n",
    "H[] = {7, 4, 8, 2, 9}\n",
    "Output: [7, 8, 9]\n",
    "```"
   ],
   "metadata": {
    "collapsed": false
   }
  },
  {
   "cell_type": "code",
   "execution_count": 2,
   "outputs": [
    {
     "name": "stdout",
     "output_type": "stream",
     "text": [
      "[7, 8, 9]\n"
     ]
    }
   ],
   "source": [
    "Arr = [7, 4, 8, 2, 9]\n",
    "print([x for x in Arr if x >= Arr[0]])"
   ],
   "metadata": {
    "collapsed": false,
    "pycharm": {
     "name": "#%%\n"
    }
   }
  },
  {
   "cell_type": "markdown",
   "source": [
    "**3.-** Dado N Imanes que se colocan linealmente, cada imán es considerado como un objeto puntual. Cada imán sufre la fuerza de sus\n",
    " imanes del lado izquierdo de modo que lo repelen hacia la derecha y viceversa. Todas las fuerzas son repulsivas. La fuerza es igual a la\n",
    "  distancia (1 / d, siendo d la distancia). Ahora, dadas las posiciones de los imanes, la tarea es encontrar todos los puntos a lo largo de la\n",
    "  línea donde la fuerza neta es CERO.\n",
    "```\n",
    "Example 2:\n",
    "\n",
    "Input:\n",
    "N = 4\n",
    "M[] = {0, 10, 20, 30}\n",
    "Output:\n",
    "3.82, 15.00, 26.18\n",
    "```"
   ],
   "metadata": {
    "collapsed": false
   }
  },
  {
   "cell_type": "code",
   "execution_count": 3,
   "outputs": [
    {
     "name": "stdout",
     "output_type": "stream",
     "text": [
      "3.82 15.00 26.18 \n"
     ]
    }
   ],
   "source": [
    "def binary_search(arr,l,r,n):\n",
    "    num= 0.0000000000001\n",
    "    if l<r:\n",
    "        mid = (l+r)/2\n",
    "        force = 0\n",
    "        for x in arr:\n",
    "            force += 1/(mid-x)\n",
    "        if abs(force)<num:\n",
    "            return mid\n",
    "        if force>0:\n",
    "            return binary_search(arr, mid, r, n)\n",
    "        else:\n",
    "            return binary_search(arr, l, mid, n)\n",
    "\n",
    "\n",
    "\n",
    "Arr = [0, 10, 20, 30]\n",
    "n = len(Arr)\n",
    "\n",
    "for i in range(n-1):\n",
    "    val = binary_search(Arr,Arr[i],Arr[i+1],i)\n",
    "    print(\"%0.2f\"%val,end=' ')\n",
    "print()"
   ],
   "metadata": {
    "collapsed": false,
    "pycharm": {
     "name": "#%%\n"
    }
   }
  },
  {
   "cell_type": "markdown",
   "source": [
    "**4.-** Dado un array ordenado encontrar la posición en la que un valor está sin usar funciones.\n",
    "```\n",
    "Example 3:\n",
    "Input:\n",
    "N = 5\n",
    "arr[] = {1 2 3 4 5}\n",
    "K = 4\n",
    "Output: 3\n",
    "Explanation: 4 appears at index 3\n",
    "```"
   ],
   "metadata": {
    "collapsed": false
   }
  },
  {
   "cell_type": "code",
   "execution_count": 4,
   "outputs": [
    {
     "name": "stdout",
     "output_type": "stream",
     "text": [
      "2\n"
     ]
    }
   ],
   "source": [
    "Arr= [1, 2, 3, 4, 5]\n",
    "K = 3\n",
    "# print(Arr.index(K))\n",
    "encontrado = False\n",
    "izq = 0\n",
    "der = len(Arr) - 1\n",
    "while izq <= der and not encontrado:\n",
    "    mid = int((izq + der) / 2)\n",
    "    if Arr[mid] == K:\n",
    "        encontrado = True\n",
    "    elif Arr[mid] < K:\n",
    "        izq = mid + 1\n",
    "    else:\n",
    "        der = mid - 1\n",
    "if encontrado:\n",
    "    print(mid)\n",
    "else:\n",
    "    print(-1)"
   ],
   "metadata": {
    "collapsed": false,
    "pycharm": {
     "name": "#%%\n"
    }
   }
  },
  {
   "cell_type": "markdown",
   "source": [
    "**5.-** Dado un array ordenado sin duplicados encontrar la posición en la que un valor es el menor más cercano a otro dado.\n",
    "```\n",
    "Example 2:\n",
    "\n",
    "Input:\n",
    "N = 7, x = 5\n",
    "arr[] = {1,2,8,10,11,12,19}\n",
    "Output: 1\n",
    "Explanation: Largest Number less than 5 is\n",
    "2 (i.e K = 2), whose index is 1(0-based\n",
    "indexing).\n",
    "```"
   ],
   "metadata": {
    "collapsed": false
   }
  },
  {
   "cell_type": "code",
   "execution_count": 5,
   "outputs": [
    {
     "name": "stdout",
     "output_type": "stream",
     "text": [
      "1\n"
     ]
    }
   ],
   "source": [
    "Arr= [1,2,8,10,11,12,19]\n",
    "K = 4\n",
    "# Se debería hacer con búsquedas binarias pero por ver el método lineal\n",
    "\n",
    "for index, elemento in enumerate(Arr):\n",
    "    if elemento >= K:\n",
    "        print(index - 1)\n",
    "        break\n",
    "else:\n",
    "    print(index)"
   ],
   "metadata": {
    "collapsed": false,
    "pycharm": {
     "name": "#%%\n"
    }
   }
  },
  {
   "cell_type": "markdown",
   "source": [
    "**6.-** Dado un array ordenado, contar el número de veces que aparece un valor dado\n",
    "```\n",
    "Example 2:\n",
    "\n",
    "Input:\n",
    "N = 7, x = 5\n",
    "Input: arr[] = {1, 1, 2, 2, 2, 2, 3,},   x = 2\n",
    "Output: 4 // x (or 2) occurs 4 times in arr[]\n",
    "```"
   ],
   "metadata": {
    "collapsed": false
   }
  },
  {
   "cell_type": "code",
   "execution_count": 6,
   "outputs": [
    {
     "name": "stdout",
     "output_type": "stream",
     "text": [
      "4\n"
     ]
    }
   ],
   "source": [
    "def binary_search(arr, l, r, x):\n",
    "    \"\"\"\n",
    "    Hace una búsqueda binaria\n",
    "    :param arr: Lista ordenada en la que buscar\n",
    "    :param l: valor izquierdo\n",
    "    :param r: valor derecho\n",
    "    :param x: valor a buscar\n",
    "    :return: posición del índice o o -1 si no eocntrado\n",
    "    \"\"\"\n",
    "    if r < l:\n",
    "        return -1\n",
    "    mid = int( l + (r - l) / 2)\n",
    "    if arr[mid] == x:\n",
    "        return mid\n",
    "    if arr[mid] > x:\n",
    "        return binary_search(arr, l, mid - 1, x)\n",
    "    return binary_search(arr, mid + 1, r, x)\n",
    "\n",
    "def count_occurrences(arr, n, x):\n",
    "    ind = binary_search(arr, 0, n - 1, x)\n",
    "\n",
    "    if ind == -1:\n",
    "        return 0\n",
    "    count = 1\n",
    "    left = ind - 1\n",
    "    while left >= 0 and  arr[left] == x:\n",
    "        count += 1\n",
    "        left -= 1\n",
    "    right = ind + 1\n",
    "    while right < n and arr[right] == x:\n",
    "        count += 1\n",
    "        right += 1\n",
    "    return count\n",
    "\n",
    "\n",
    "arr = [ 1, 2, 2, 2, 2, 3, 4, 7, 8, 8 ]\n",
    "n = len(arr)\n",
    "x = 2\n",
    "print(count_occurrences(arr, n, x))"
   ],
   "metadata": {
    "collapsed": false,
    "pycharm": {
     "name": "#%%\n"
    }
   }
  },
  {
   "cell_type": "markdown",
   "source": [
    "**7.-** Dado un array ordenado, pero rotado, encontrar la posición en la que está un valor\n",
    "```\n",
    "Example 2:\n",
    "Input:\n",
    "N = 9\n",
    "A[] = {5, 6, 7, 8, 9, 10, 1, 2, 3}\n",
    "key = 10\n",
    "Output:\n",
    "5\n",
    "Explanation: 10 is found at index 5.\n",
    "```"
   ],
   "metadata": {
    "collapsed": false
   }
  },
  {
   "cell_type": "code",
   "execution_count": 7,
   "outputs": [
    {
     "name": "stdout",
     "output_type": "stream",
     "text": [
      "5\n"
     ]
    }
   ],
   "source": [
    "def binary_search(arr, l, r, x):\n",
    "    \"\"\"\n",
    "    Hace una búsqueda binaria\n",
    "    :param arr: Lista ordenada en la que buscar\n",
    "    :param l: valor izquierdo\n",
    "    :param r: valor derecho\n",
    "    :param x: valor a buscar\n",
    "    :return: posición del índice o o -1 si no eocntrado\n",
    "    \"\"\"\n",
    "    if r < l:\n",
    "        return -1\n",
    "    mid = int( l + (r - l) / 2)\n",
    "    if arr[mid] == x:\n",
    "        return mid\n",
    "    if arr[mid] > x:\n",
    "        return binary_search(arr, l, mid - 1, x)\n",
    "    return binary_search(arr, mid + 1, r, x)\n",
    "\n",
    "\n",
    "\n",
    "Arr = [5, 6, 7, 8, 9, 10, 1, 2, 3]\n",
    "K = 10 # valor a buscar\n",
    "h = 6 # punto de pivotaje\n",
    "der_piv = Arr[:h]\n",
    "izq_piv = Arr[h:]\n",
    "index = binary_search(izq_piv + der_piv, 0, len(Arr) -1, K)\n",
    "print((index + h) % len(Arr))"
   ],
   "metadata": {
    "collapsed": false,
    "pycharm": {
     "name": "#%%\n"
    }
   }
  },
  {
   "cell_type": "markdown",
   "source": [
    "**8.-** A Vaibhav le gusta jugar con números y tiene N números. Un día estaba colocando los números en el tablero de juego solo para contar cuántos números tiene. Estaba colocando los números en orden creciente, es decir, de 1 a N. Pero cuando estaba volviendo a poner los números en su bolso, algunos números cayeron al suelo. Recogió todos los números menos uno que no pudo encontrar. Ahora tiene que ir a algún lugar con urgencia, por lo que te pide que encuentres el número que falta.\n",
    "```\n",
    "Example 1:\n",
    "Input:\n",
    "N = 4\n",
    "A[] = {1, 4, 3}\n",
    "Output:\n",
    "2\n",
    "Explanation:\n",
    "Vaibhav placed 4 integers but he picked\n",
    "up only 3 numbers. So missing number\n",
    "will be 2 as it will become 1,2,3,4.\n",
    "```"
   ],
   "metadata": {
    "collapsed": false
   }
  },
  {
   "cell_type": "code",
   "execution_count": 8,
   "outputs": [
    {
     "name": "stdout",
     "output_type": "stream",
     "text": [
      "4\n"
     ]
    }
   ],
   "source": [
    "N = 5\n",
    "A = [2, 5, 3, 1]\n",
    "\n",
    "for elemento in range(1, N+1):\n",
    "    if elemento not in A:\n",
    "        print(elemento)"
   ],
   "metadata": {
    "collapsed": false,
    "pycharm": {
     "name": "#%%\n"
    }
   }
  },
  {
   "cell_type": "markdown",
   "source": [
    "**9.-** Encuentra el elemento que falta de una razón aritmética presente en una array.\n",
    "```\n",
    "Example 1:\n",
    "Input:\n",
    "N = 6\n",
    "Arr[] = {2, 4, 8, 10, 12, 14}\n",
    "Output: 6\n",
    "Explanation: Actual AP should be\n",
    "2, 4, 6, 8, 10, 12, 14.\n",
    "```"
   ],
   "metadata": {
    "collapsed": false
   }
  },
  {
   "cell_type": "code",
   "execution_count": 9,
   "outputs": [
    {
     "name": "stdout",
     "output_type": "stream",
     "text": [
      "{26}\n"
     ]
    }
   ],
   "source": [
    "Arr = [1, 6, 11, 16, 21, 31]\n",
    "if len(Arr) > 2:\n",
    "    razon = min(Arr[1]-Arr[0], Arr[2]-Arr[1])\n",
    "    # El término n-esimo de la serie es An = a_1 +(n-1)*razon\n",
    "    set_1 = set(range(Arr[0], Arr[0]+(len(Arr)+1)*razon, razon))\n",
    "    print(set_1 - set(Arr))"
   ],
   "metadata": {
    "collapsed": false,
    "pycharm": {
     "name": "#%%\n"
    }
   }
  },
  {
   "cell_type": "markdown",
   "source": [
    "**10.-** Encontrar el punto de transación entre 0 y 1, en un array de 0 y 1 ordenados.\n",
    "\n",
    "```\n",
    "Example 1:\n",
    "\n",
    "Input:\n",
    "N = 5\n",
    "arr[] = {0,0,0,1,1}\n",
    "Output: 3\n",
    "Explanation: index 3 is the transition\n",
    "point where 1 begins.\n",
    "```"
   ],
   "metadata": {
    "collapsed": false
   }
  },
  {
   "cell_type": "code",
   "execution_count": 10,
   "outputs": [
    {
     "name": "stdout",
     "output_type": "stream",
     "text": [
      "4\n"
     ]
    }
   ],
   "source": [
    "arr = [0, 0, 0, 0, 1, 1]\n",
    "n = len(arr)\n",
    "lb = 0\n",
    "ub = n - 1\n",
    "\n",
    "while lb <= ub:\n",
    "    mid = int((lb + ub) / 2)\n",
    "    if arr[mid] == 0:\n",
    "        lb = mid + 1\n",
    "    elif arr[mid] == 1:\n",
    "        if mid == 0  or (mid > 0 and arr[mid - 1] == 0):\n",
    "            print(mid)\n",
    "            break\n",
    "        ub = mid-1\n",
    "else:\n",
    "    print(\"No hay\")"
   ],
   "metadata": {
    "collapsed": false,
    "pycharm": {
     "name": "#%%\n"
    }
   }
  },
  {
   "cell_type": "markdown",
   "source": [
    "**11.-** Dado una cadena de ceros y unos encontrar la última aparición de un 1.\n",
    "\n",
    "```\n",
    "Example 1:\n",
    "\n",
    "Input:\n",
    "S = 00001\n",
    "Output:\n",
    "4\n",
    "Explanation:\n",
    "Last index of  1 in given string is 4.\n",
    "```"
   ],
   "metadata": {
    "collapsed": false
   }
  },
  {
   "cell_type": "code",
   "execution_count": 11,
   "outputs": [
    {
     "name": "stdout",
     "output_type": "stream",
     "text": [
      "4\n"
     ]
    }
   ],
   "source": [
    "S = \"00001\"\n",
    "for indice in range(len(S) - 1, -1, -1):\n",
    "    if S[indice] == \"1\":\n",
    "        print(indice)\n",
    "        break"
   ],
   "metadata": {
    "collapsed": false,
    "pycharm": {
     "name": "#%%\n"
    }
   }
  },
  {
   "cell_type": "markdown",
   "source": [
    "**12.-** Encontrar todos los elementos comunes en dos listas\n",
    "\n",
    "```\n",
    "Example:\n",
    "\n",
    "Input:\n",
    "n = 5\n",
    "v1[] = {3, 4, 2, 2, 4}\n",
    "m = 4\n",
    "v2[] = {3, 2, 2, 7}\n",
    "Output:\n",
    "2 2 3\n",
    "Explanation:\n",
    "The common elements in sorted order are {2 2 3}\n",
    "```"
   ],
   "metadata": {
    "collapsed": false
   }
  },
  {
   "cell_type": "code",
   "execution_count": 12,
   "outputs": [
    {
     "name": "stdout",
     "output_type": "stream",
     "text": [
      "2 2 3 "
     ]
    }
   ],
   "source": [
    "from collections import Counter\n",
    "\n",
    "v1 = [3, 4, 2, 2, 4]\n",
    "v2 = [3, 2, 2, 7, 5]\n",
    "cnt_v1 = Counter(v1)\n",
    "cnt_v1 = dict(sorted(cnt_v1.items(), key=lambda item: item[0]))\n",
    "cnt_v2 = Counter(v2)\n",
    "cnt_v2 = dict(sorted(cnt_v2.items(), key=lambda item: item[0]))\n",
    "\n",
    "len_min = cnt_v2 if len(cnt_v2) <= len(cnt_v1) else cnt_v1\n",
    "len_max = cnt_v2 if len(cnt_v2) > len(cnt_v1) else cnt_v1\n",
    "for index in len_min.keys():\n",
    "    if index in len_max.keys():\n",
    "        print((str(index)+\" \") * min(len_min[index], len_max[index]), end='')"
   ],
   "metadata": {
    "collapsed": false,
    "pycharm": {
     "name": "#%%\n"
    }
   }
  },
  {
   "cell_type": "markdown",
   "source": [
    "**13.-** Para una matriz arr de N enteros incluyendo 0. La tarea es encontrar el número positivo más pequeño que falta en la matriz.\n",
    "\n",
    "```\n",
    "Example 1:\n",
    "\n",
    "Input:\n",
    "N = 5\n",
    "arr[] = {1,2,3,4,5}\n",
    "Output: 6\n",
    "Explanation: Smallest positive missing\n",
    "number is 6.\n",
    "Example 2:\n",
    "\n",
    "Input:\n",
    "N = 5\n",
    "arr[] = {0,-10,1,3,-20}\n",
    "Output: 2\n",
    "Explanation: Smallest positive missing\n",
    "number is 2.\n",
    "```"
   ],
   "metadata": {
    "collapsed": false
   }
  },
  {
   "cell_type": "code",
   "execution_count": 13,
   "outputs": [
    {
     "name": "stdout",
     "output_type": "stream",
     "text": [
      "2\n"
     ]
    }
   ],
   "source": [
    "\n",
    "Arr = [0,-10,1,3,-20]\n",
    "Arr.sort()\n",
    "ans=1;\n",
    "for i in range(len(Arr)):\n",
    "    if Arr[i] == ans:\n",
    "        ans+=1;\n",
    "\n",
    "print(ans)"
   ],
   "metadata": {
    "collapsed": false,
    "pycharm": {
     "name": "#%%\n"
    }
   }
  }
 ],
 "metadata": {
  "kernelspec": {
   "display_name": "Python 3",
   "language": "python",
   "name": "python3"
  },
  "language_info": {
   "codemirror_mode": {
    "name": "ipython",
    "version": 2
   },
   "file_extension": ".py",
   "mimetype": "text/x-python",
   "name": "python",
   "nbconvert_exporter": "python",
   "pygments_lexer": "ipython2",
   "version": "2.7.6"
  }
 },
 "nbformat": 4,
 "nbformat_minor": 0
}