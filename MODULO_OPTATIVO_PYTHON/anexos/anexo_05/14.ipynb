{
 "cells": [
  {
   "cell_type": "markdown",
   "source": [
    "# Ejercicios\n",
    "[Enlace en la web: Ejercicios](https://www.geeksforgeeks.org/practice-for-cracking-any-coding-interview/)"
   ],
   "metadata": {
    "collapsed": false,
    "pycharm": {
     "name": "#%% md\n"
    }
   }
  },
  {
   "cell_type": "markdown",
   "source": [
    "## Idea Feliz"
   ],
   "metadata": {
    "collapsed": false
   }
  },
  {
   "cell_type": "markdown",
   "source": [
    "**1.-** Dada una cadena S de caracteres en minúscula, averigüe si la suma de X e Y es par o impar, donde X es el número de caracteres que ocupan posiciones pares en los alfabetos ingleses y tienen una frecuencia par positiva, e Y es el conteo de caracteres que ocupan posiciones impares en los alfabetos ingleses y tienen una frecuencia impar positiva.\n",
    "\n",
    "Input: S = \"abbbcc\"\n",
    "a --> letra impar número de a's = 1\n",
    "b --> segunda letra, par, número de b's 3, no se cuenta\n",
    "c --> tercera letra, impar, número de c's 2, no se cuenta\n",
    "\n",
    "Suma de impares 1 más pares 0 total 1 es impar\n",
    "\n",
    "Input: S = \"nobitaa\"\n",
    "n --> primera letra, impar, total 1\n",
    "o --> segunda letra, par, total 0, no se suma\n",
    "b --> tercera letra, impar, total 1, no se suma\n",
    "i --> cuarta letra, par, total 1, no se suma\n",
    "t --> quinta letra, impar, total 1, se suma\n",
    "a --> sexta letra, par, total 2, se suma\n",
    "impares suma 2 + pares suman 2 = 4\n",
    "la suma es par"
   ],
   "metadata": {
    "collapsed": false,
    "pycharm": {
     "name": "#%% md\n"
    }
   }
  },
  {
   "cell_type": "code",
   "execution_count": 1,
   "outputs": [
    {
     "name": "stdout",
     "output_type": "stream",
     "text": [
      "Es impar\n",
      "Es impar\n",
      "Es par\n"
     ]
    }
   ],
   "source": [
    "import math\n",
    "from collections import OrderedDict\n",
    "\n",
    "\n",
    "def suma(cadena):\n",
    "    caracteres = OrderedDict()\n",
    "    for caracter in cadena:\n",
    "        if caracter not in caracteres.keys():\n",
    "            caracteres[caracter] = 1\n",
    "        else:\n",
    "            caracteres[caracter] += 1\n",
    "    suma_par = suma_impar = 0\n",
    "\n",
    "    contador = 1\n",
    "    for value in caracteres.values():\n",
    "        if contador % 2 == 0 and value % 2 == 2:  # par\n",
    "            suma_par += value\n",
    "        elif contador % 2 == 1 and value % 2 ==1:\n",
    "            suma_impar += value\n",
    "        contador += 1\n",
    "\n",
    "    if suma_par + suma_impar % 2 == 0:\n",
    "        ret = \"Es par\"\n",
    "    else:\n",
    "        ret = \"Es impar\"\n",
    "    return  ret\n",
    "\n",
    "\n",
    "print(suma(\"abbbcc\"))\n",
    "print(suma(\"nobitaa\"))\n",
    "print(suma(\"abbcdd\"))"
   ],
   "metadata": {
    "collapsed": false,
    "pycharm": {
     "name": "#%%\n"
    }
   }
  },
  {
   "cell_type": "markdown",
   "source": [
    "**2.-** Dada una matriz A[] que consta de 0 y 1. Hacer una operación de volteo, es aquella en la que conviertes 1 en 0 y 0 en 1. Se tiene que hacer como máximo una operación de \"volteo\" de cualquier subarray"
   ],
   "metadata": {
    "collapsed": false
   }
  },
  {
   "cell_type": "code",
   "execution_count": 2,
   "outputs": [
    {
     "name": "stdout",
     "output_type": "stream",
     "text": [
      "Original: [0, 1, 1, 0, 1]\n",
      "Voltaear entero: [1, 0, 0, 1, 0]\n",
      "Voltear desde 2 hasta final [0, 1, 0, 1, 0]\n",
      "Error de límites al final [0, 1, 1, 0, 1]\n",
      "Error de límites al principio [0, 1, 1, 0, 1]\n",
      "Voltear en medio sin incluir el final: [0, 1, 0, 1, 1]\n"
     ]
    }
   ],
   "source": [
    "def voltear(arr, inicio=0, fin=0):\n",
    "    arr_aux = arr.copy()\n",
    "    while 0 <= inicio < fin <= len(arr_aux):\n",
    "        arr_aux[inicio] = 1 if arr_aux[inicio] == 0 else 0\n",
    "        inicio += 1\n",
    "    return arr_aux\n",
    "\n",
    "\n",
    "arr = [0, 1, 1, 0, 1]\n",
    "print(\"Original:\", arr)\n",
    "print(\"Voltaear entero:\", voltear(arr, fin=len(arr)))\n",
    "print(\"Voltear desde 2 hasta final\", voltear(arr, 2, fin=len(arr)))\n",
    "print(\"Error de límites al final\", voltear(arr, 2, fin=8))\n",
    "print(\"Error de límites al principio\", voltear(arr, -1, fin=4))\n",
    "print(\"Voltear en medio sin incluir el final:\", voltear(arr, 2, 4))"
   ],
   "metadata": {
    "collapsed": false,
    "pycharm": {
     "name": "#%%\n"
    }
   }
  },
  {
   "cell_type": "markdown",
   "source": [
    "**3.-** Dada una matriz A[] de tamaño N. El valor de una matriz se denota por el XOR bit a bit de todos los elementos que contiene. Encuentre el XOR bit a bit de los valores de todos los elementos de A[].\n",
    "Input: N = 3, A[] = {1,2,3}\n",
    "Output: 2\n",
    "Explanation:\n",
    "xor[1] = 1,\n",
    "xor[1, 2] = 3\n",
    "xor[2, 3] = 1\n",
    "xor[1, 2, 3] = 0\n",
    "xor[2] = 2\n",
    "xor[3] = 3\n",
    "Result : 1 ^ 3 ^ 1 ^ 0 ^ 2 ^ 3 = 2"
   ],
   "metadata": {
    "collapsed": false
   }
  },
  {
   "cell_type": "code",
   "execution_count": 3,
   "outputs": [
    {
     "name": "stdout",
     "output_type": "stream",
     "text": [
      "2\n"
     ]
    }
   ],
   "source": [
    "def xor_game(arr):\n",
    "    N = len(arr)\n",
    "    if N % 2 == 0:\n",
    "        return 0\n",
    "    res = 0\n",
    "    for i in range(0, N, 2):\n",
    "        res = res ^ arr[i]\n",
    "    return res\n",
    "\n",
    "\n",
    "arr = [1, 2, 3]\n",
    "print(xor_game(arr))"
   ],
   "metadata": {
    "collapsed": false,
    "pycharm": {
     "name": "#%%\n"
    }
   }
  },
  {
   "cell_type": "markdown",
   "source": [
    "**4.-** Dado un número N que tiene solo un '1' y todos los demás '0' en su representación binaria, encuentre la posición del único bit establecido. Si hay 0 o más de 1 bit establecido, la respuesta debe ser -1."
   ],
   "metadata": {
    "collapsed": false
   }
  },
  {
   "cell_type": "code",
   "execution_count": 4,
   "outputs": [
    {
     "name": "stdout",
     "output_type": "stream",
     "text": [
      "2\n",
      "-1\n"
     ]
    }
   ],
   "source": [
    "import math\n",
    "\n",
    "def find_position(n):\n",
    "        return -1 if (n == 0 or (n & (n - 1)) != 0) else int(math.log2(n) + 1)\n",
    "\n",
    "print(find_position(2))\n",
    "print(find_position(5))"
   ],
   "metadata": {
    "collapsed": false,
    "pycharm": {
     "name": "#%%\n"
    }
   }
  },
  {
   "cell_type": "markdown",
   "source": [
    "**5.-** Dado un número entero sin signo N. La tarea es intercambiar todos los bits impares con bits pares. Por ejemplo, si el número dado es 23 (00010111), debe convertirse a 43 (00101011)"
   ],
   "metadata": {
    "collapsed": false,
    "pycharm": {
     "name": "#%% md\n"
    }
   }
  },
  {
   "cell_type": "code",
   "execution_count": 5,
   "outputs": [
    {
     "name": "stdout",
     "output_type": "stream",
     "text": [
      "43\n"
     ]
    }
   ],
   "source": [
    "def swap_bits(number) :\n",
    "    even_bits = number & 0xAAAAAAAA\n",
    "    odd_bits = number & 0x55555555\n",
    "    even_bits >>= 1\n",
    "    odd_bits <<= 1\n",
    "    return even_bits | odd_bits\n",
    "\n",
    "\n",
    "print(swap_bits(23))"
   ],
   "metadata": {
    "collapsed": false,
    "pycharm": {
     "name": "#%%\n"
    }
   }
  },
  {
   "cell_type": "markdown",
   "source": [
    "**6.-** Dado un número entero no negativo N. La tarea es verificar si N es una potencia de 2."
   ],
   "metadata": {
    "collapsed": false
   }
  },
  {
   "cell_type": "code",
   "execution_count": 6,
   "outputs": [
    {
     "name": "stdout",
     "output_type": "stream",
     "text": [
      "False\n",
      "True\n"
     ]
    }
   ],
   "source": [
    "def es_potencia_dos(numero):\n",
    "    ret = False\n",
    "    if numero != 0:\n",
    "        ret = numero & (numero - 1) == 0\n",
    "    return ret\n",
    "\n",
    "print(es_potencia_dos(5))\n",
    "print(es_potencia_dos(256))"
   ],
   "metadata": {
    "collapsed": false,
    "pycharm": {
     "name": "#%%\n"
    }
   }
  },
  {
   "cell_type": "markdown",
   "source": [
    "**7.-** Dada una matriz de N enteros positivos donde todos los números ocurren un número par de veces excepto un número que ocurre un número impar de veces. Encuentre el número excepcional.\n",
    "\n",
    "Ejemplo 1:\n",
    "\n",
    "Arr[] = {1, 2, 3, 2, 3, 1, 3}\n",
    "Salida: 3"
   ],
   "metadata": {
    "collapsed": false
   }
  },
  {
   "cell_type": "code",
   "execution_count": 7,
   "outputs": [
    {
     "name": "stdout",
     "output_type": "stream",
     "text": [
      "3\n"
     ]
    }
   ],
   "source": [
    "# Simplemente aplicamos XOR a todos los valores de la matriz en el orden que sea. Todos los elementos que\n",
    "# ocurren dos veces se cancelan y nos quedamos con el que ocurre una vez.\n",
    "def get_impar(arr):\n",
    "    res = 0\n",
    "    for index in range(len(arr)):\n",
    "        res ^= arr[index]\n",
    "    return res\n",
    "\n",
    "print(get_impar([1, 2, 3, 2, 3, 1, 3]))"
   ],
   "metadata": {
    "collapsed": false,
    "pycharm": {
     "name": "#%%\n"
    }
   }
  },
  {
   "cell_type": "markdown",
   "source": [
    "**8.-** Dada una matriz de tamaño N-1 tal que solo contiene enteros distintos en el rango de 1 a N. Encuentra el elemento que falta."
   ],
   "metadata": {
    "collapsed": false
   }
  },
  {
   "cell_type": "code",
   "execution_count": 8,
   "outputs": [
    {
     "name": "stdout",
     "output_type": "stream",
     "text": [
      "3\n"
     ]
    }
   ],
   "source": [
    "def get_numero_que_falta(arr):\n",
    "    n = len(arr)\n",
    "    total = (n + 1)*(n + 2)/2\n",
    "    suma = sum(arr)\n",
    "    return int(total - suma)\n",
    "\n",
    "\n",
    "print(get_numero_que_falta([1, 2, 4, 5, 6]))"
   ],
   "metadata": {
    "collapsed": false,
    "pycharm": {
     "name": "#%%\n"
    }
   }
  },
  {
   "cell_type": "markdown",
   "source": [
    "**9.-** Dadas dos matrices desordenadas arr1[] y arr2[]. Pueden contener duplicados. Para cada elemento en arr1[] cuente los elementos menores o iguales que él en la matriz arr2[]."
   ],
   "metadata": {
    "collapsed": false
   }
  },
  {
   "cell_type": "code",
   "execution_count": 9,
   "outputs": [
    {
     "name": "stdout",
     "output_type": "stream",
     "text": [
      "1 -> 4| 2 -> 5| 3 -> 5| 4 -> 6| 7 -> 6| 9 -> 6| "
     ]
    }
   ],
   "source": [
    "def count_elementos_menor_o_iguales(arr1, arr2):\n",
    "    \"\"\"\n",
    "    Se puede mejorar usando la búsqueda binaria y ordenando los arrays antes\n",
    "    \"\"\"\n",
    "    for i in range(len(arr1)):\n",
    "        count = 0\n",
    "        for j in range(len(arr2)):\n",
    "            if arr2[j] <= arr1[i]:\n",
    "                count+= 1\n",
    "\n",
    "        print(arr1[i],\"->\", count, end =\"| \")\n",
    "\n",
    "arr1 = [1, 2, 3, 4, 7, 9]\n",
    "arr2 = [0, 1, 2, 1, 1, 4]\n",
    "count_elementos_menor_o_iguales(arr1, arr2)"
   ],
   "metadata": {
    "collapsed": false,
    "pycharm": {
     "name": "#%%\n"
    }
   }
  },
  {
   "cell_type": "markdown",
   "source": [
    "**10.-** Dado un número X de 32 bits, invierta su forma binaria e imprima la respuesta en decimal."
   ],
   "metadata": {
    "collapsed": false
   }
  },
  {
   "cell_type": "code",
   "execution_count": 10,
   "outputs": [
    {
     "name": "stdout",
     "output_type": "stream",
     "text": [
      "2147483648\n",
      "2684354560\n",
      "5\n"
     ]
    }
   ],
   "source": [
    "def invertir(numero):\n",
    "    b = bin(numero)[2:]\n",
    "    if len(b) < 32:\n",
    "        x = 32 - len(b)\n",
    "        b = (\"0\"*x)+b\n",
    "        b = b[::-1]\n",
    "    else:\n",
    "        b = b[::-1]\n",
    "\n",
    "    return int(b,2)\n",
    "\n",
    "print(invertir(1))\n",
    "print(invertir(5))\n",
    "print(invertir(2684354560))"
   ],
   "metadata": {
    "collapsed": false,
    "pycharm": {
     "name": "#%%\n"
    }
   }
  },
  {
   "cell_type": "markdown",
   "source": [
    "**11.-** Dado un entero positivo N, imprima el recuento de bits establecidos en él."
   ],
   "metadata": {
    "collapsed": false
   }
  },
  {
   "cell_type": "code",
   "execution_count": 11,
   "outputs": [
    {
     "name": "stdout",
     "output_type": "stream",
     "text": [
      "2\n",
      "8\n"
     ]
    }
   ],
   "source": [
    "def ver_numero_bits(numero):\n",
    "    numero_binario = str(bin(numero))\n",
    "    numero_bits = numero_binario.count('1')\n",
    "\n",
    "    return numero_bits\n",
    "\n",
    "print(ver_numero_bits(5))\n",
    "print(ver_numero_bits(255))"
   ],
   "metadata": {
    "collapsed": false,
    "pycharm": {
     "name": "#%%\n"
    }
   }
  },
  {
   "cell_type": "markdown",
   "source": [
    "**12.-** Dada una cadena S, encuentre todas las subsecuencias posibles de la cadena ordenadas lexicográficamente."
   ],
   "metadata": {
    "collapsed": false
   }
  },
  {
   "cell_type": "code",
   "execution_count": 12,
   "outputs": [
    {
     "name": "stdout",
     "output_type": "stream",
     "text": [
      "\n",
      "a\n",
      "b\n",
      "c\n",
      "ab\n",
      "ac\n",
      "bc\n",
      "abc\n"
     ]
    }
   ],
   "source": [
    "from itertools import combinations\n",
    "def print_powerset(cadena):\n",
    "    for i in range(0,len(cadena)+1):\n",
    "        for elemento in combinations(cadena,i):\n",
    "            print(''.join(elemento))\n",
    "\n",
    "print_powerset(['a','b','c'])"
   ],
   "metadata": {
    "collapsed": false,
    "pycharm": {
     "name": "#%%\n"
    }
   }
  }
 ],
 "metadata": {
  "kernelspec": {
   "display_name": "Python 3",
   "language": "python",
   "name": "python3"
  },
  "language_info": {
   "codemirror_mode": {
    "name": "ipython",
    "version": 2
   },
   "file_extension": ".py",
   "mimetype": "text/x-python",
   "name": "python",
   "nbconvert_exporter": "python",
   "pygments_lexer": "ipython2",
   "version": "2.7.6"
  }
 },
 "nbformat": 4,
 "nbformat_minor": 0
}