{
 "cells": [
  {
   "cell_type": "markdown",
   "source": [
    "# Ejercicios\n",
    "[Enlace en la web: Ejercicios](https://www.geeksforgeeks.org/practice-for-cracking-any-coding-interview/)"
   ],
   "metadata": {
    "collapsed": false,
    "pycharm": {
     "name": "#%% md\n"
    }
   }
  },
  {
   "cell_type": "markdown",
   "source": [
    "## Ordenaciones"
   ],
   "metadata": {
    "collapsed": false,
    "pycharm": {
     "name": "#%% md\n"
    }
   }
  },
  {
   "cell_type": "markdown",
   "source": [
    "**1.-** Saber si un array está ordenado de forma ascendente\n",
    "```\n",
    "Example 1:\n",
    "Input:\n",
    "N = 5\n",
    "arr[] = {10, 20, 30, 40, 50}\n",
    "Output: 1\n",
    "Explanation: The given array is sorted.\n",
    "```"
   ],
   "metadata": {
    "collapsed": false
   }
  },
  {
   "cell_type": "code",
   "execution_count": 1,
   "outputs": [
    {
     "name": "stdout",
     "output_type": "stream",
     "text": [
      "Ordenado\n"
     ]
    }
   ],
   "source": [
    "import math\n",
    "\n",
    "Arr = [10, 20, 30, 40, 50]\n",
    "for indice in range(len(Arr) - 1):\n",
    "    if Arr[indice] > Arr[indice+1]:\n",
    "        print(\"No ordenado\")\n",
    "        break\n",
    "else:\n",
    "    print(\"Ordenado\")"
   ],
   "metadata": {
    "collapsed": false,
    "pycharm": {
     "name": "#%%\n"
    }
   }
  },
  {
   "cell_type": "markdown",
   "source": [
    "**2.-** Dado un array binario ordenarlo.\n",
    "\n",
    "```\n",
    "Example 1:\n",
    "\n",
    "Input:\n",
    "5\n",
    "1 0 1 1 0\n",
    "\n",
    "Output:\n",
    "0 0 1 1 1\n",
    "\n",
    "Explanation:\n",
    "After arranging the elements in\n",
    "increasing order, elements will be as\n",
    "0 0 1 1 1.\n",
    "```"
   ],
   "metadata": {
    "collapsed": false
   }
  },
  {
   "cell_type": "code",
   "execution_count": 2,
   "outputs": [
    {
     "name": "stdout",
     "output_type": "stream",
     "text": [
      "[0, 0, 1, 1, 1]\n"
     ]
    }
   ],
   "source": [
    "Arr = [1, 0, 1, 1, 0]\n",
    "temp=0\n",
    "for i in range(len(Arr)):\n",
    "    if Arr[i]==0:\n",
    "        Arr[i], Arr[temp] = Arr[temp], Arr[i]\n",
    "        temp += 1\n",
    "print(Arr)"
   ],
   "metadata": {
    "collapsed": false,
    "pycharm": {
     "name": "#%%\n"
    }
   }
  },
  {
   "cell_type": "markdown",
   "source": [
    "**3.-** Ordenar un array\n",
    "\n",
    "```\n",
    "Example 1:\n",
    "Input:\n",
    "N = 5\n",
    "arr[]= {0 2 1 2 0}\n",
    "Output:\n",
    "0 0 1 2 2\n",
    "Explanation:\n",
    "0s 1s and 2s are segregated\n",
    "into ascending order.\n",
    "```"
   ],
   "metadata": {
    "collapsed": false
   }
  },
  {
   "cell_type": "code",
   "execution_count": 3,
   "outputs": [
    {
     "name": "stdout",
     "output_type": "stream",
     "text": [
      "[0, 0, 1, 2, 2]\n"
     ]
    }
   ],
   "source": [
    "Arr = [0, 2, 1, 2, 0]\n",
    "print(sorted(Arr))"
   ],
   "metadata": {
    "collapsed": false,
    "pycharm": {
     "name": "#%%\n"
    }
   }
  },
  {
   "cell_type": "markdown",
   "source": [
    "**4.-** Ordenar un array por el método de la burbuja\n",
    "\n",
    "```\n",
    "```"
   ],
   "metadata": {
    "collapsed": false
   }
  },
  {
   "cell_type": "code",
   "execution_count": 4,
   "outputs": [
    {
     "name": "stdout",
     "output_type": "stream",
     "text": [
      "[11, 12, 22, 25, 34, 64, 90]\n"
     ]
    }
   ],
   "source": [
    "def bubble_sort(arr):\n",
    "    n = len(arr)\n",
    "\n",
    "    for i in range(n):\n",
    "        for j in range(0, n-i-1):\n",
    "            if arr[j] > arr[j+1] :\n",
    "                arr[j], arr[j+1] = arr[j+1], arr[j]\n",
    "\n",
    "Arr = [64, 34, 25, 12, 22, 11, 90]\n",
    "\n",
    "bubble_sort(Arr)\n",
    "print(Arr)"
   ],
   "metadata": {
    "collapsed": false,
    "pycharm": {
     "name": "#%%\n"
    }
   }
  },
  {
   "cell_type": "markdown",
   "source": [
    "**5.-** Ordenar un array por el método de la insercción\n",
    "\n",
    "```\n",
    "```"
   ],
   "metadata": {
    "collapsed": false
   }
  },
  {
   "cell_type": "code",
   "execution_count": 5,
   "outputs": [
    {
     "name": "stdout",
     "output_type": "stream",
     "text": [
      "[5, 6, 11, 12, 13]\n"
     ]
    }
   ],
   "source": [
    "def insertion_sort(arr):\n",
    "    for i in range(1, len(arr)):\n",
    "        key = arr[i]\n",
    "        j = i-1\n",
    "        while j >= 0 and key < arr[j] :\n",
    "                arr[j + 1] = arr[j]\n",
    "                j -= 1\n",
    "        arr[j + 1] = key\n",
    "\n",
    "Arr = [12, 11, 13, 5, 6]\n",
    "insertion_sort(Arr)\n",
    "print(Arr)"
   ],
   "metadata": {
    "collapsed": false,
    "pycharm": {
     "name": "#%%\n"
    }
   }
  },
  {
   "cell_type": "markdown",
   "source": [
    "**6.-** Ordenar un array por el método de la selección\n",
    "\n",
    "```\n",
    "```"
   ],
   "metadata": {
    "collapsed": false
   }
  },
  {
   "cell_type": "code",
   "execution_count": 6,
   "outputs": [
    {
     "name": "stdout",
     "output_type": "stream",
     "text": [
      "[11, 12, 22, 25, 64]\n"
     ]
    }
   ],
   "source": [
    "def seleccition_sort(arr):\n",
    "    for i in range(len(arr)):\n",
    "        min_idx = i\n",
    "        for j in range(i+1, len(arr)):\n",
    "            if arr[min_idx] > arr[j]:\n",
    "                min_idx = j\n",
    "        arr[i], arr[min_idx] = arr[min_idx], arr[i]\n",
    "\n",
    "Arr = [64, 25, 12, 22, 11]\n",
    "seleccition_sort(Arr)\n",
    "print(Arr)"
   ],
   "metadata": {
    "collapsed": false,
    "pycharm": {
     "name": "#%%\n"
    }
   }
  },
  {
   "cell_type": "markdown",
   "source": [
    "**7.-** Ordenar un array por el método de quicksort\n",
    "\n",
    "```\n",
    "```"
   ],
   "metadata": {
    "collapsed": false
   }
  },
  {
   "cell_type": "code",
   "execution_count": 7,
   "outputs": [
    {
     "name": "stdout",
     "output_type": "stream",
     "text": [
      "[1, 5, 7, 8, 9, 10]\n"
     ]
    }
   ],
   "source": [
    "def partition(start, end, arr):\n",
    "    pivot_index = start\n",
    "    pivot = arr[pivot_index]\n",
    "    while start < end:\n",
    "        while start < len(arr) and arr[start] <= pivot:\n",
    "            start += 1\n",
    "        while arr[end] > pivot:\n",
    "            end -= 1\n",
    "        if start < end:\n",
    "            arr[start], arr[end] = arr[end], arr[start]\n",
    "    arr[end], arr[pivot_index] = arr[pivot_index], arr[end]\n",
    "    return end\n",
    "\n",
    "def quick_sort(start, end, arr):\n",
    "    if start < end:\n",
    "        p = partition(start, end, arr)\n",
    "        quick_sort(start, p - 1, arr)\n",
    "        quick_sort(p + 1, end, arr)\n",
    "\n",
    "Arr = [ 10, 7, 8, 9, 1, 5 ]\n",
    "quick_sort(0, len(Arr) - 1, Arr)\n",
    "\n",
    "print(Arr)"
   ],
   "metadata": {
    "collapsed": false,
    "pycharm": {
     "name": "#%%\n"
    }
   }
  },
  {
   "cell_type": "markdown",
   "source": [
    "**8.-** Ordenar un array por el método de merge sort\n",
    "\n",
    "```\n",
    "```"
   ],
   "metadata": {
    "collapsed": false
   }
  },
  {
   "cell_type": "code",
   "execution_count": 8,
   "outputs": [
    {
     "name": "stdout",
     "output_type": "stream",
     "text": [
      "[5, 6, 7, 11, 12, 13]\n"
     ]
    }
   ],
   "source": [
    "def merge_sort(arr):\n",
    "    if len(arr) > 1:\n",
    "        mid = len(arr)//2\n",
    "        L = arr[:mid]\n",
    "        R = arr[mid:]\n",
    "        merge_sort(L)\n",
    "        merge_sort(R)\n",
    "        i = j = k = 0\n",
    "\n",
    "        while i < len(L) and j < len(R):\n",
    "            if L[i] < R[j]:\n",
    "                arr[k] = L[i]\n",
    "                i += 1\n",
    "            else:\n",
    "                arr[k] = R[j]\n",
    "                j += 1\n",
    "            k += 1\n",
    "\n",
    "        while i < len(L):\n",
    "            arr[k] = L[i]\n",
    "            i += 1\n",
    "            k += 1\n",
    "\n",
    "        while j < len(R):\n",
    "            arr[k] = R[j]\n",
    "            j += 1\n",
    "            k += 1\n",
    "\n",
    "Arr = [12, 11, 13, 5, 6, 7]\n",
    "merge_sort(Arr)\n",
    "print(Arr)"
   ],
   "metadata": {
    "collapsed": false,
    "pycharm": {
     "name": "#%%\n"
    }
   }
  },
  {
   "cell_type": "markdown",
   "source": [
    "**9.-** Dada una matriz entera de la cual se ordenan tanto la primera mitad como la segunda mitad. La tarea consiste en fusionar dos mitades\n",
    "ordenadas de la matriz en una única matriz ordenada.\n",
    "\n",
    "```\n",
    "Example 1:\n",
    "\n",
    "Input:\n",
    "N = 6\n",
    "arr[] = {2 3 8 -1 7 10}\n",
    "Output: -1 2 3 7 8 10\n",
    "Explanation: {2 3 8} and {-1 7 10} are sorted\n",
    "in the original array. The overall sorted\n",
    "version is {-1 2 3 7 8 10}\n",
    "```"
   ],
   "metadata": {
    "collapsed": false
   }
  },
  {
   "cell_type": "code",
   "execution_count": 9,
   "outputs": [
    {
     "name": "stdout",
     "output_type": "stream",
     "text": [
      "[-1, 2, 3, 7, 8, 10]\n"
     ]
    }
   ],
   "source": [
    "Arr = [2, 3, 8, -1, 7, 10]\n",
    "posicion = 0\n",
    "Arr_aux = []\n",
    "# Buscar la posición en dónde se cambia la ordenación\n",
    "while Arr[posicion] <= Arr[posicion + 1] and posicion < len(Arr) - 2:\n",
    "    posicion += 1\n",
    "if posicion == len(Arr)-2:\n",
    "    print(Arr)\n",
    "else:\n",
    "    lst_1 = Arr[:posicion + 1]\n",
    "    lst_2 = Arr[posicion + 1:]\n",
    "    pos_1 = 0\n",
    "    pos_2 = 0\n",
    "    # Recorrer ambas listas y crear la ordenada\n",
    "    while pos_1 < len(lst_1) and pos_2 < len(lst_2):\n",
    "        if lst_1[pos_1] <= lst_2[pos_2]:\n",
    "           Arr_aux.append(lst_1[pos_1])\n",
    "           pos_1 += 1\n",
    "        elif lst_1[pos_1] > lst_2[pos_2]:\n",
    "           Arr_aux.append(lst_2[pos_2])\n",
    "           pos_2 += 1\n",
    "    # Añadir lo que quede de las dos listas\n",
    "    while pos_1 < len(lst_1):\n",
    "        Arr_aux.append(lst_1[pos_1])\n",
    "        pos_1 += 1\n",
    "    while pos_2 < len(lst_2) :\n",
    "        Arr_aux.append(lst_2[pos_2])\n",
    "        pos_2 += 1\n",
    "\n",
    "Arr = Arr_aux\n",
    "print(Arr)"
   ],
   "metadata": {
    "collapsed": false,
    "pycharm": {
     "name": "#%%\n"
    }
   }
  },
  {
   "cell_type": "markdown",
   "source": [
    "**10.-** Dadas dos matrices de enteros A1 [] y A2 [] de tamaño N y M respectivamente. Ordene la primera matriz A1 [] de modo que todas las posiciones relativas de los elementos de la primera matriz sean las mismas que los elementos de la segunda matriz A2 [].\n",
    "\n",
    "```\n",
    "Example 1:\n",
    "\n",
    "Input:\n",
    "N = 11\n",
    "M = 4\n",
    "A1[] = {2, 1, 2, 5, 7, 1, 9, 3, 6, 8, 8}\n",
    "A2[] = {2, 1, 8, 3}\n",
    "Output:\n",
    "2 2 1 1 8 8 3 5 6 7 9\n",
    "Explanation: Array elements of A1[] are\n",
    "sorted according to A2[]. So 2 comes first\n",
    "then 1 comes, then comes 8, then finally 3\n",
    "comes, now we append remaining elements in\n",
    "sorted order.\n",
    "```"
   ],
   "metadata": {
    "collapsed": false
   }
  },
  {
   "cell_type": "code",
   "execution_count": 10,
   "outputs": [
    {
     "name": "stdout",
     "output_type": "stream",
     "text": [
      "2 2 1 1 8 8 3 5 6 7 9\n"
     ]
    }
   ],
   "source": [
    "from collections import Counter\n",
    "\n",
    "def solve(arr_1, arr_2):\n",
    "    res = []\n",
    "    f = Counter(arr_1)\n",
    "\n",
    "    for e in arr_2:\n",
    "        res.extend([e]*f[e])\n",
    "        f[e] = 0\n",
    "\n",
    "    rem = list(sorted(filter(lambda x: f[x] != 0, f.keys())))\n",
    "    for e in rem:\n",
    "        res.extend([e]*f[e])\n",
    "\n",
    "    return res\n",
    "\n",
    "\n",
    "Arr_1 = [2, 1, 2, 5, 7, 1, 9, 3, 6, 8, 8]\n",
    "Arr_2 = [2, 1, 8, 3]\n",
    "print(*solve(Arr_1, Arr_2))"
   ],
   "metadata": {
    "collapsed": false,
    "pycharm": {
     "name": "#%%\n"
    }
   }
  },
  {
   "cell_type": "markdown",
   "source": [
    "**11.-** Dado un array y un entero, encontrar si hay alguna tripleta que sume dicho numero.\n",
    "```\n",
    "Example 1:\n",
    "Input:\n",
    "n = 6, X = 13\n",
    "arr[] = [1 4 45 6 10 8]\n",
    "Output:\n",
    "1\n",
    "Explanation:\n",
    "The triplet {1, 4, 8} in\n",
    "the array sums up to 13.\n",
    "```"
   ],
   "metadata": {
    "collapsed": false
   }
  },
  {
   "cell_type": "code",
   "execution_count": 11,
   "outputs": [
    {
     "name": "stdout",
     "output_type": "stream",
     "text": [
      "(1, 4, 8)\n"
     ]
    }
   ],
   "source": [
    "X = 13\n",
    "Arr = [1, 4, 45, 6, 10, 8]\n",
    "from itertools import combinations\n",
    "\n",
    "combinaciones = combinations(Arr, 3)\n",
    "for tripleta in combinaciones:\n",
    "    if sum(tripleta) == X:\n",
    "        print(tripleta)"
   ],
   "metadata": {
    "collapsed": false,
    "pycharm": {
     "name": "#%%\n"
    }
   }
  },
  {
   "cell_type": "markdown",
   "source": [
    "**12.-** Ordenar los elementos de un array según su frecuencia\n",
    "```\n",
    "Example 1:\n",
    "Input:\n",
    "5 5 4 6 4\n",
    "Output:\n",
    "4 4 5 5 6\n",
    "```"
   ],
   "metadata": {
    "collapsed": false,
    "pycharm": {
     "name": "#%% md\n"
    }
   }
  },
  {
   "cell_type": "code",
   "execution_count": 12,
   "outputs": [
    {
     "name": "stdout",
     "output_type": "stream",
     "text": [
      "[4, 4, 5, 5, 6]\n"
     ]
    }
   ],
   "source": [
    "from collections import  Counter\n",
    "Arr = [5, 5, 4, 6, 4]\n",
    "frecuencia = Counter(sorted(Arr))\n",
    "lista = []\n",
    "for key, value in frecuencia.items():\n",
    "    lista.extend([key for _ in range(value)])\n",
    "print(lista)"
   ],
   "metadata": {
    "collapsed": false,
    "pycharm": {
     "name": "#%%\n"
    }
   }
  },
  {
   "cell_type": "markdown",
   "source": [
    "**13.-** Dado un array de enteros encontrar todas las tripletas que sus dos primeros números sumen el tercero.\n",
    "```\n",
    "Example 1:\n",
    "Input:\n",
    "8 10 16 6 15 25\n",
    "Output:\n",
    "10, 15, 25\n",
    "```"
   ],
   "metadata": {
    "collapsed": false
   }
  },
  {
   "cell_type": "code",
   "execution_count": 13,
   "outputs": [
    {
     "name": "stdout",
     "output_type": "stream",
     "text": [
      "(10, 15, 25)\n"
     ]
    }
   ],
   "source": [
    "Arr = [8, 10, 16, 6, 15, 25]\n",
    "from itertools import combinations\n",
    "\n",
    "combinaciones = combinations(Arr, 3)\n",
    "for tripleta in combinaciones:\n",
    "    if tripleta[0] + tripleta[1] == tripleta[2]:\n",
    "        print(tripleta)"
   ],
   "metadata": {
    "collapsed": false,
    "pycharm": {
     "name": "#%%\n"
    }
   }
  }
 ],
 "metadata": {
  "kernelspec": {
   "display_name": "Python 3",
   "language": "python",
   "name": "python3"
  },
  "language_info": {
   "codemirror_mode": {
    "name": "ipython",
    "version": 2
   },
   "file_extension": ".py",
   "mimetype": "text/x-python",
   "name": "python",
   "nbconvert_exporter": "python",
   "pygments_lexer": "ipython2",
   "version": "2.7.6"
  }
 },
 "nbformat": 4,
 "nbformat_minor": 0
}