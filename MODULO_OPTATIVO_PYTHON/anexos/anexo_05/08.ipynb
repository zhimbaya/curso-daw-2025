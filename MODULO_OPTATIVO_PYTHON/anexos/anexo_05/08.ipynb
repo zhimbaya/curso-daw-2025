{
 "cells": [
  {
   "cell_type": "markdown",
   "source": [
    "# Ejercicios\n",
    "[Enlace en la web: Ejercicios](https://www.geeksforgeeks.org/practice-for-cracking-any-coding-interview/)"
   ],
   "metadata": {
    "collapsed": false,
    "pycharm": {
     "name": "#%% md\n"
    }
   }
  },
  {
   "cell_type": "markdown",
   "source": [
    "## Divide y vencerás"
   ],
   "metadata": {
    "collapsed": false,
    "pycharm": {
     "name": "#%% md\n"
    }
   }
  },
  {
   "cell_type": "markdown",
   "source": [
    "**1.-** Dado un número y su reverso. Encuentra ese número elevado a la potencia de su propio reverso. Sin usar ** o alguina función mátemática.\n",
    "Nota: Como las respuestas pueden ser muy grandes, imprima el resultado módulo 10^9 + 7.\n",
    "```\n",
    "Example 1:\n",
    "\n",
    "Input:\n",
    "N = 2\n",
    "Output: 4\n",
    "Explanation: The reverse of 2 is 2\n",
    "and after raising power of 2 by 2\n",
    "we get 4 which gives remainder as\n",
    "4 by dividing 1000000007.\n",
    "Example 2:\n",
    "\n",
    "Input:\n",
    "N = 12\n",
    "Output: 864354781\n",
    "Explanation: The reverse of 12 is 21\n",
    "and 12^21 , when divided by 1000000007\n",
    "gives remainder as 864354781.\n",
    "```"
   ],
   "metadata": {
    "collapsed": false,
    "pycharm": {
     "name": "#%% md\n"
    }
   }
  },
  {
   "cell_type": "code",
   "execution_count": 1,
   "outputs": [
    {
     "name": "stdout",
     "output_type": "stream",
     "text": [
      "864354781\n"
     ]
    }
   ],
   "source": [
    "def remaing_power(N, R):\n",
    "    M = 1000000007\n",
    "    N %= M\n",
    "    if R == 0:\n",
    "        return 1\n",
    "    if R == 1:\n",
    "        return N\n",
    "    tmp = remaing_power(N, R // 2)\n",
    "    res = (tmp * tmp) % M\n",
    "    if R % 2 != 0:\n",
    "        res = (res * N) % M\n",
    "\n",
    "    return res\n",
    "\n",
    "A = 12\n",
    "B = 21\n",
    "print(remaing_power(A, B))"
   ],
   "metadata": {
    "collapsed": false,
    "pycharm": {
     "name": "#%%\n"
    }
   }
  },
  {
   "cell_type": "markdown",
   "source": [
    "**2.-** Dado un entero positivo N, encontrar el último dígito del término N de la serie de Fibonacci.\n",
    "```\n",
    "Example 1:\n",
    "\n",
    "Input:\n",
    "N = 5\n",
    "Output:\n",
    "5\n",
    "Explanation:\n",
    "5th Fibonacci number is 5\n",
    "Example 2:\n",
    "\n",
    "Input:\n",
    "N = 14\n",
    "Output:\n",
    "7\n",
    "Explanation:\n",
    "14th Fibonacci number is 377\n",
    "It's last digit is 7\n",
    "```"
   ],
   "metadata": {
    "collapsed": false,
    "pycharm": {
     "name": "#%% md\n"
    }
   }
  },
  {
   "cell_type": "code",
   "execution_count": 2,
   "outputs": [
    {
     "name": "stdout",
     "output_type": "stream",
     "text": [
      "7\n"
     ]
    }
   ],
   "source": [
    "def fibonacci(n):\n",
    "    f = [0, 1]\n",
    "\n",
    "    for i in range(2, n+1):\n",
    "        f.append(f[i-1] + f[i-2])\n",
    "    return f[n]\n",
    "\n",
    "N = 14\n",
    "print(str(fibonacci(N))[-1])"
   ],
   "metadata": {
    "collapsed": false,
    "pycharm": {
     "name": "#%%\n"
    }
   }
  },
  {
   "cell_type": "markdown",
   "source": [
    "**3.-** Dadas dos matrices ordenadas arr1 y arr2 de tamaño N y M respectivamente y un elemento K. La tarea es encontrar el elemento que estaría\n",
    " en la k-ésima posición de la matriz ordenada final.\n",
    "```\n",
    "Example 1:\n",
    "\n",
    "Input:\n",
    "arr1[] = {2, 3, 6, 7, 9}\n",
    "arr2[] = {1, 4, 8, 10}\n",
    "k = 5\n",
    "Output:\n",
    "6\n",
    "Explanation:\n",
    "The final sorted array would be -\n",
    "1, 2, 3, 4, 6, 7, 8, 9, 10\n",
    "The 5th element of this array is 6."
   ],
   "metadata": {
    "collapsed": false
   }
  },
  {
   "cell_type": "code",
   "execution_count": 3,
   "outputs": [
    {
     "name": "stdout",
     "output_type": "stream",
     "text": [
      "6\n"
     ]
    }
   ],
   "source": [
    "def find(A, B, m, n, k_req):\n",
    "    i, j, k = 0, 0, 0\n",
    "    # recorremos ambas de forma simultánea para encontralo\n",
    "    while i < len(A) and j < len(B):\n",
    "        if A[i] < B[j]:\n",
    "            k += 1\n",
    "            if k == k_req:\n",
    "                return A[i]\n",
    "            i += 1\n",
    "        else:\n",
    "            k += 1\n",
    "            if k == k_req:\n",
    "                return B[j]\n",
    "            j += 1\n",
    "    while i < len(A): # si quedan elementos en la primera seguimos buscando\n",
    "        k += 1\n",
    "        if k == k_req:\n",
    "                return A[i]\n",
    "        i += 1\n",
    "    while j < len(B): # si quedan elementos en la segunda seguimos buscando\n",
    "        k += 1\n",
    "        if k == k_req:\n",
    "                return B[j]\n",
    "        j += 1\n",
    "\n",
    "A = [2, 3, 6, 7, 9]\n",
    "B = [1, 4, 8, 10]\n",
    "k = 5\n",
    "print(find(A, B, 5, 4, k))"
   ],
   "metadata": {
    "collapsed": false,
    "pycharm": {
     "name": "#%%\n"
    }
   }
  },
  {
   "cell_type": "markdown",
   "source": [
    "**4.-** Dadas dos matrices ordenadas arr1 y arr2 de tamaño N y M respectivamente y un elemento K. La tarea es encontrar el elemento que estaría\n",
    " en la k-ésima posición de la matriz ordenada final.\n",
    "```\n",
    "Example 1:\n",
    "\n",
    "Input:\n",
    "arr1[] = {2, 3, 6, 7, 9}\n",
    "arr2[] = {1, 4, 8, 10}\n",
    "k = 5\n",
    "Output:\n",
    "6\n",
    "Explanation:\n",
    "The final sorted array would be -\n",
    "1, 2, 3, 4, 6, 7, 8, 9, 10\n",
    "The 5th element of this array is 6."
   ],
   "metadata": {
    "collapsed": false
   }
  },
  {
   "cell_type": "code",
   "execution_count": 4,
   "outputs": [
    {
     "name": "stdout",
     "output_type": "stream",
     "text": [
      "Mediana =  6\n"
     ]
    }
   ],
   "source": [
    "arr1 = [ 2, 3, 6, 7, 9 ]\n",
    "arr2 = [ 1, 4, 8, 10 ]\n",
    "\n",
    "Arr = arr1 + arr2\n",
    "Arr.sort()\n",
    "n = len(Arr)\n",
    "\n",
    "if n % 2 == 0: # si es par el número de elementos se busca la media de los dos\n",
    "    z = n // 2\n",
    "    e = Arr[z]\n",
    "    q = Arr[z - 1]\n",
    "    ans = (e + q) / 2\n",
    "else:\n",
    "    z = n // 2\n",
    "    ans = Arr[z]\n",
    "\n",
    "print(\"Mediana = \", ans)"
   ],
   "metadata": {
    "collapsed": false,
    "pycharm": {
     "name": "#%%\n"
    }
   }
  },
  {
   "cell_type": "markdown",
   "source": [
    "**5.-** Dilpreet quiere pintar la casa de su perro que tiene n tablas de diferentes longitudes. La longitud de la i-ésima placa viene dada por\n",
    "arr[i] donde arr[] es una matriz de n enteros. Contrató a k pintores para este trabajo y cada pintor toma 1 unidad de tiempo para pintar 1\n",
    "unidad del tablero.\n",
    "\n",
    "El problema es encontrar el tiempo mínimo para hacer este trabajo si todos los pintores comienzan juntos con la restricción de que cualquier pintor solo pintará tableros continuos, digamos tableros numerados {2,3,4} o solo tablero {1} o nada, pero no tableros {2,4,5}.\n",
    "\n",
    "```\n",
    "Example 1:\n",
    "\n",
    "Input:\n",
    "n = 5\n",
    "k = 3\n",
    "arr[] = {5,10,30,20,15}\n",
    "Output: 35\n",
    "Explanation: The most optimal way will be:\n",
    "Painter 1 allocation : {5,10}\n",
    "Painter 2 allocation : {30}\n",
    "Painter 3 allocation : {20,15}\n",
    "Job will be done when all painters finish\n",
    "i.e. at time = max(5+10, 30, 20+15) = 35\n",
    "```"
   ],
   "metadata": {
    "collapsed": false
   }
  },
  {
   "cell_type": "code",
   "execution_count": 5,
   "outputs": [
    {
     "name": "stdout",
     "output_type": "stream",
     "text": [
      "35\n"
     ]
    }
   ],
   "source": [
    "def numberOfPainters(arr, n, maxLen):\n",
    "    total = 0\n",
    "    numPainters = 1\n",
    "\n",
    "    for i in arr:\n",
    "        total += i\n",
    "        if total > maxLen:\n",
    "            total = i\n",
    "            numPainters += 1\n",
    "    return numPainters\n",
    "\n",
    "def partition(arr, n, k):\n",
    "    lo = max(arr)\n",
    "    hi = sum(arr)\n",
    "\n",
    "    while lo < hi:\n",
    "        mid = lo + (hi - lo) // 2\n",
    "        requiredPainters = numberOfPainters(arr, n, mid)\n",
    "        if requiredPainters <= k:\n",
    "            hi = mid\n",
    "        else:\n",
    "            lo = mid + 1\n",
    "\n",
    "    return lo\n",
    "\n",
    "arr = [5,10,30,20,15]\n",
    "n = len(arr)\n",
    "k = 3\n",
    "print(int(partition(arr, n, k)))"
   ],
   "metadata": {
    "collapsed": false,
    "pycharm": {
     "name": "#%%\n"
    }
   }
  },
  {
   "cell_type": "markdown",
   "source": [
    "**6.-** Dada una matriz de números enteros. Busque el recuento de inversiones en la matriz.\n",
    "\n",
    "Recuento de inversión: para una matriz, el recuento de inversión indica qué tan lejos (o cerca) está la matriz de ser ordenada. Si la matriz ya\n",
    "está ordenada, el recuento de inversión es 0. Si una matriz se ordena en el orden inverso, la cuenta de inversión es el máximo.\n",
    "Formalmente, dos elementos a [i] y a [j] forman una inversión si a [i]> a [j] e i <j.\n",
    "\n",
    "```\n",
    "Example 1:\n",
    "\n",
    "Input: N = 5, arr[] = {2, 4, 1, 3, 5}\n",
    "Output: 3\n",
    "Explanation: The sequence 2, 4, 1, 3, 5\n",
    "has three inversions (2, 1), (4, 1), (4, 3).\n",
    "Example 2:\n",
    "\n",
    "Input: N = 5\n",
    "arr[] = {2, 3, 4, 5, 6}\n",
    "Output: 0\n",
    "Explanation: As the sequence is already\n",
    "sorted so there is no inversion count.\n",
    "Example 3:\n",
    "\n",
    "Input: N = 3, arr[] = {10, 10, 10}\n",
    "Output: 0\n",
    "Explanation: As all the elements of array\n",
    "are same, so there is no inversion count.\n",
    "```"
   ],
   "metadata": {
    "collapsed": false
   }
  },
  {
   "cell_type": "code",
   "execution_count": 6,
   "outputs": [
    {
     "name": "stdout",
     "output_type": "stream",
     "text": [
      "El número de inversiones son: 3\n"
     ]
    }
   ],
   "source": [
    "def get_inv_count(arr, n):\n",
    "    inv_count = 0\n",
    "    for i in range(n):\n",
    "        for j in range(i + 1, n):\n",
    "            if arr[i] > arr[j]:\n",
    "                inv_count += 1\n",
    "\n",
    "    return inv_count\n",
    "\n",
    "\n",
    "arr = [2, 4, 1, 3, 5]\n",
    "n = len(arr)\n",
    "print(\"El número de inversiones son:\", get_inv_count(arr, n))"
   ],
   "metadata": {
    "collapsed": false,
    "pycharm": {
     "name": "#%%\n"
    }
   }
  }
 ],
 "metadata": {
  "kernelspec": {
   "display_name": "Python 3",
   "language": "python",
   "name": "python3"
  },
  "language_info": {
   "codemirror_mode": {
    "name": "ipython",
    "version": 2
   },
   "file_extension": ".py",
   "mimetype": "text/x-python",
   "name": "python",
   "nbconvert_exporter": "python",
   "pygments_lexer": "ipython2",
   "version": "2.7.6"
  }
 },
 "nbformat": 4,
 "nbformat_minor": 0
}