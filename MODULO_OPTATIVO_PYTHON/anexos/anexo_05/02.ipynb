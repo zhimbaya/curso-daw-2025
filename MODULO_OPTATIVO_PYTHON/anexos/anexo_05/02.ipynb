{
 "cells": [
  {
   "cell_type": "markdown",
   "source": [
    "# Ejercicios\n",
    "[Enlace en la web: Ejercicios](https://www.geeksforgeeks.org/practice-for-cracking-any-coding-interview/)"
   ],
   "metadata": {
    "collapsed": false,
    "pycharm": {
     "name": "#%% md\n"
    }
   }
  },
  {
   "cell_type": "markdown",
   "source": [
    "## Arrays"
   ],
   "metadata": {
    "collapsed": false,
    "pycharm": {
     "name": "#%% md\n"
    }
   }
  },
  {
   "cell_type": "markdown",
   "source": [
    "**1.-** Para un Array de tamaño N, imprimir los índices impares.\n",
    "```\n",
    "Example 1:\n",
    "\n",
    "Input:\n",
    "N = 4\n",
    "A[] = {1, 2, 3, 4}\n",
    "Output:\n",
    "1 3\n",
    "\n",
    "```"
   ],
   "metadata": {
    "collapsed": false
   }
  },
  {
   "cell_type": "code",
   "execution_count": 1,
   "outputs": [
    {
     "name": "stdout",
     "output_type": "stream",
     "text": [
      "1 3\n"
     ]
    }
   ],
   "source": [
    "import math\n",
    "\n",
    "A = [1, 2, 3, 4]\n",
    "print(*A[::2])"
   ],
   "metadata": {
    "collapsed": false,
    "pycharm": {
     "name": "#%%\n"
    }
   }
  },
  {
   "cell_type": "markdown",
   "source": [],
   "metadata": {
    "collapsed": false
   }
  },
  {
   "cell_type": "markdown",
   "source": [
    "**2.-** Dado un array de enteros, encontrar el máximo y el mínimo\n",
    "```\n",
    "Example 1:\n",
    "\n",
    "Input:\n",
    "N = 6\n",
    "A[] = {3, 2, 1, 56, 10000, 167}\n",
    "Output:\n",
    "min = 1, max =  10000\n",
    "```"
   ],
   "metadata": {
    "collapsed": false
   }
  },
  {
   "cell_type": "markdown",
   "source": [],
   "metadata": {
    "collapsed": false
   }
  },
  {
   "cell_type": "code",
   "execution_count": 2,
   "outputs": [
    {
     "name": "stdout",
     "output_type": "stream",
     "text": [
      "min=1 max=10000\n"
     ]
    }
   ],
   "source": [
    "A = [3, 2, 1, 56, 10000, 167]\n",
    "\n",
    "print(f\"min={min(A)} max={max(A)}\")"
   ],
   "metadata": {
    "collapsed": false,
    "pycharm": {
     "name": "#%%\n"
    }
   }
  },
  {
   "cell_type": "markdown",
   "source": [
    "**3.-** Dado un array de tamaño N, encontrar el segundo mayor\n",
    "```\n",
    "Example 1:\n",
    "\n",
    "Input:\n",
    "N = 6\n",
    "Arr[] = {12, 35, 1, 10, 34, 1}\n",
    "Output: 34\n",
    "Explanation: The largest element of the\n",
    "array is 35 and the second largest element\n",
    "is 34.\n",
    "```"
   ],
   "metadata": {
    "collapsed": false
   }
  },
  {
   "cell_type": "code",
   "execution_count": 3,
   "outputs": [
    {
     "name": "stdout",
     "output_type": "stream",
     "text": [
      "34\n"
     ]
    }
   ],
   "source": [
    "Arr = [12, 35, 1, 10, 34, 1]\n",
    "print(sorted(Arr)[-2])\n",
    "# Se podría mejorar con un único bucle para que el tiempo fuera O(n), en este caso es O(nlogn)"
   ],
   "metadata": {
    "collapsed": false,
    "pycharm": {
     "name": "#%%\n"
    }
   }
  },
  {
   "cell_type": "markdown",
   "source": [
    "**4.-** Dado un array de tamaño N, encontrar la suma\n",
    "```\n",
    "Example 1:\n",
    "\n",
    "Input:\n",
    "n = 3\n",
    "arr[] = {3, 2, 1}\n",
    "Output: 6\n",
    "```"
   ],
   "metadata": {
    "collapsed": false
   }
  },
  {
   "cell_type": "code",
   "execution_count": 4,
   "outputs": [
    {
     "name": "stdout",
     "output_type": "stream",
     "text": [
      "6\n"
     ]
    }
   ],
   "source": [
    "arr = [3, 2, 1]\n",
    "print(sum(arr))"
   ],
   "metadata": {
    "collapsed": false,
    "pycharm": {
     "name": "#%%\n"
    }
   }
  },
  {
   "cell_type": "markdown",
   "source": [
    "**5.-** Dado un Array de tamaño N hacer su inverso\n",
    "\n",
    "```\n",
    "Example 1:\n",
    "\n",
    "Input:\n",
    "arr = {1, 2, 3, 4}\n",
    "Output:\n",
    "4 3 2 1\n",
    "```"
   ],
   "metadata": {
    "collapsed": false,
    "pycharm": {
     "name": "#%% md\n"
    }
   }
  },
  {
   "cell_type": "code",
   "execution_count": 5,
   "outputs": [
    {
     "name": "stdout",
     "output_type": "stream",
     "text": [
      "[4, 3, 2, 1]\n"
     ]
    }
   ],
   "source": [
    "arr = [1, 2, 3, 4]\n",
    "print(arr[::-1])"
   ],
   "metadata": {
    "collapsed": false,
    "pycharm": {
     "name": "#%%\n"
    }
   }
  },
  {
   "cell_type": "markdown",
   "source": [
    "**6.-** Dado un arry no ordenado, rotarlo D elementos de forma anti-horaria.\n",
    "\n",
    "```\n",
    "Example 1:\n",
    "\n",
    "Input:\n",
    "arr = {2 4 6 8 10 12 14 16 18 20}\n",
    "D = 3\n",
    "Output:\n",
    "8 10 12 14 16 18 20 2 4 6\n",
    "```"
   ],
   "metadata": {
    "collapsed": false
   }
  },
  {
   "cell_type": "code",
   "execution_count": 6,
   "outputs": [
    {
     "name": "stdout",
     "output_type": "stream",
     "text": [
      "[8, 10, 12, 14, 16, 18, 20, 2, 4, 6]\n"
     ]
    }
   ],
   "source": [
    "arr = [2 ,4 ,6, 8, 10, 12, 14, 16, 18 ,20]\n",
    "D = 3\n",
    "arr = arr[D:] + arr[:D]\n",
    "print(arr)"
   ],
   "metadata": {
    "collapsed": false,
    "pycharm": {
     "name": "#%%\n"
    }
   }
  },
  {
   "cell_type": "markdown",
   "source": [
    "**7.-** Dado un array ordenado, Encontrar el número de elmentos menores que uno dado.\n",
    "\n",
    "```\n",
    "Example 1:\n",
    "\n",
    "Input:\n",
    "N = 6\n",
    "A[] = {1, 2, 4, 5, 8, 10}\n",
    "X = 9\n",
    "Output:\n",
    "5\n",
    "```"
   ],
   "metadata": {
    "collapsed": false
   }
  },
  {
   "cell_type": "code",
   "execution_count": 7,
   "outputs": [
    {
     "name": "stdout",
     "output_type": "stream",
     "text": [
      "5\n"
     ]
    }
   ],
   "source": [
    "A = [1, 2, 4, 5, 8, 10]\n",
    "X = 9\n",
    "contador = 0\n",
    "for elemento in A:\n",
    "    if elemento < X:\n",
    "        contador+=1\n",
    "    else:\n",
    "        break # No recorremos el resto del array al estar ordenado\n",
    "print(contador)"
   ],
   "metadata": {
    "collapsed": false,
    "pycharm": {
     "name": "#%%\n"
    }
   }
  },
  {
   "cell_type": "code",
   "execution_count": 8,
   "outputs": [
    {
     "name": "stdout",
     "output_type": "stream",
     "text": [
      "5\n"
     ]
    }
   ],
   "source": [
    "# Usando una búsqueda binaria\n",
    "A = [1, 2, 4, 5, 8, 10]\n",
    "X = 9\n",
    "left = 0\n",
    "right = len(A) - 1\n",
    "\n",
    "count = 0\n",
    "\n",
    "while (left <= right):\n",
    "    mid = int((right + left) / 2)\n",
    "    # Check if middle element is\n",
    "    # less than or equal to key\n",
    "    if (A[mid] <= X):\n",
    "        # At least (mid + 1) elements are there\n",
    "        # whose values are less than\n",
    "        # or equal to key\n",
    "        count = mid + 1\n",
    "        left = mid + 1\n",
    "    # If key is smaller, ignore right half\n",
    "    else:\n",
    "        right = mid - 1\n",
    "print(count)"
   ],
   "metadata": {
    "collapsed": false,
    "pycharm": {
     "name": "#%%\n"
    }
   }
  },
  {
   "cell_type": "markdown",
   "source": [
    "**8.-** Eliminar elementos duplicados de un Array\n",
    "\n",
    "```\n",
    "Example 1:\n",
    "\n",
    "Input:\n",
    "N = 5\n",
    "Array = {2, 2, 2, 2, 2}\n",
    "Output: 2\n",
    "Explanation: After removing all the duplicates\n",
    "only one instance of 2 will remain.\n",
    "```"
   ],
   "metadata": {
    "collapsed": false
   }
  },
  {
   "cell_type": "code",
   "execution_count": 9,
   "outputs": [
    {
     "name": "stdout",
     "output_type": "stream",
     "text": [
      "[2]\n"
     ]
    }
   ],
   "source": [
    "# Al no hablar de que se mantenga el orden de los elementos esta es la mejor opicón\n",
    "Array = [2, 2, 2, 2, 2]\n",
    "print(list(set(Array)))"
   ],
   "metadata": {
    "collapsed": false,
    "pycharm": {
     "name": "#%%\n"
    }
   }
  },
  {
   "cell_type": "markdown",
   "source": [
    "**9.-** Dado un arrya encontrar las posibles combinaciones de tres elementos\n",
    "\n",
    "```\n",
    "Example 1:\n",
    "\n",
    "Input:\n",
    "n = 5\n",
    "arr[] = {6, 4, 9, 7, 8}\n",
    "Output:\n",
    "10\n",
    "Explanation:\n",
    "There are 10 triangles\n",
    "possible  with the given elements like\n",
    "(6,4,9), (6,7,8),...\n",
    "```"
   ],
   "metadata": {
    "collapsed": false
   }
  },
  {
   "cell_type": "code",
   "execution_count": 10,
   "outputs": [
    {
     "name": "stdout",
     "output_type": "stream",
     "text": [
      "10\n"
     ]
    }
   ],
   "source": [
    "from itertools import combinations\n",
    "\n",
    "A = [6, 4, 9, 7, 8]\n",
    "temp = combinations(A, 3)\n",
    "print(len(list(temp)))"
   ],
   "metadata": {
    "collapsed": false,
    "pycharm": {
     "name": "#%%\n"
    }
   }
  },
  {
   "cell_type": "code",
   "execution_count": 11,
   "outputs": [
    {
     "name": "stdout",
     "output_type": "stream",
     "text": [
      "10\n"
     ]
    }
   ],
   "source": [
    "def findnumberofTriangles(arr):\n",
    "\n",
    "    # Sort array and initialize count as 0\n",
    "    n = len(arr)\n",
    "    arr.sort()\n",
    "    count = 0\n",
    "\n",
    "    for i in range(0, n-2):\n",
    "\n",
    "        # Initialize index of the rightmost third element\n",
    "        k = i + 2\n",
    "\n",
    "        # Fix the second element\n",
    "        for j in range(i + 1, n):\n",
    "            while (k < n and arr[i] + arr[j] > arr[k]):\n",
    "                k += 1\n",
    "            if(k>j):\n",
    "                count += k - j - 1\n",
    "\n",
    "    return count\n",
    "A = [6, 4, 9, 7, 8]\n",
    "num = findnumberofTriangles(A)\n",
    "print(num)"
   ],
   "metadata": {
    "collapsed": false,
    "pycharm": {
     "name": "#%%\n"
    }
   }
  },
  {
   "cell_type": "markdown",
   "source": [
    "**10.-** Dado un array de enteros positivos, hay que encontrar los líderes. Un lider si es mayor que o igual que todos los elementos\n",
    "de su derecha. El elemento más a la derecha también es lider.\n",
    "```\n",
    "Example 1:\n",
    "\n",
    "Input:\n",
    "n = 6\n",
    "A[] = {16,17,4,3,5,2}\n",
    "Output: 17 5 2\n",
    "Explanation: The first leader is 17\n",
    "as it is greater than all the elements\n",
    "to its right.  Similarly, the next\n",
    "leader is 5. The right most element\n",
    "is always a leader so it is also\n",
    "included.\n",
    "```"
   ],
   "metadata": {
    "collapsed": false
   }
  },
  {
   "cell_type": "markdown",
   "source": [],
   "metadata": {
    "collapsed": false
   }
  },
  {
   "cell_type": "code",
   "execution_count": 12,
   "outputs": [
    {
     "name": "stdout",
     "output_type": "stream",
     "text": [
      "17 5 2 "
     ]
    }
   ],
   "source": [
    "A = [16,17,4,3,5,2]\n",
    "\n",
    "for index, elemento in enumerate(A):\n",
    "    if elemento >= max(A[index:]):\n",
    "        print(elemento, end=\" \")"
   ],
   "metadata": {
    "collapsed": false,
    "pycharm": {
     "name": "#%%\n"
    }
   }
  },
  {
   "cell_type": "markdown",
   "source": [
    "**11.-** Dado un array y y dos números encontrar la mínima distancia en el array entre los dos números\n",
    "```\n",
    "Example 1:\n",
    "\n",
    "Input:\n",
    "N = 4\n",
    "A[] = {1,2,3,2}\n",
    "x = 1, y = 2\n",
    "Output: 1\n",
    "Explanation: x = 1 and y = 2. There are\n",
    "two distances between x and y, which are\n",
    "1 and 3 out of which the least is 1.\n",
    "```"
   ],
   "metadata": {
    "collapsed": false
   }
  },
  {
   "cell_type": "code",
   "execution_count": 13,
   "outputs": [
    {
     "name": "stdout",
     "output_type": "stream",
     "text": [
      "2\n"
     ]
    }
   ],
   "source": [
    "A = [1,2,3,2]\n",
    "n_1 = 1\n",
    "n_2 = 3\n",
    "if n_1 == n_2:\n",
    "    print(\"0\")\n",
    "elif n_1 in A and n_2 in A:\n",
    "    indices_n_1 = []\n",
    "    indices_n_2 = []\n",
    "    for indice in range(len(A)):\n",
    "        if n_1 == A[indice]:\n",
    "            indices_n_1.append(indice)\n",
    "        elif n_2 == A[indice]:\n",
    "            indices_n_2.append(indice)\n",
    "    print(abs(indices_n_1[0] - indices_n_2[0]))\n",
    "else:\n",
    "    print(\"No es posible\")"
   ],
   "metadata": {
    "collapsed": false,
    "pycharm": {
     "name": "#%%\n"
    }
   }
  },
  {
   "cell_type": "markdown",
   "source": [
    "**12.-** Encuentra el máximo subarray contiguo de no negativos. Un subarray es mayor que otro si la suma es mayor sum(A) > sum(B)\n",
    "```\n",
    "Example 1:\n",
    "\n",
    "Input:\n",
    "A : [1, 2, 5, -7, 2, 3]\n",
    "The two sub-arrays are [1, 2, 5] [2, 3].\n",
    "The answer is [1, 2, 5] as its sum is larger than [2, 3]\n",
    "```"
   ],
   "metadata": {
    "collapsed": false
   }
  },
  {
   "cell_type": "code",
   "execution_count": 14,
   "outputs": [
    {
     "name": "stdout",
     "output_type": "stream",
     "text": [
      "[1, 2, 5]\n"
     ]
    }
   ],
   "source": [
    "A = [1, 2, 5, -7, 2, 3]\n",
    "# Encontrar los arrays\n",
    "lista_arrays = []\n",
    "izquierda = derecha = 0\n",
    "while derecha < len(A):\n",
    "    if A[derecha] >= 0:\n",
    "        derecha += 1\n",
    "    else:\n",
    "        lista_arrays.append(A[izquierda:derecha])\n",
    "        izquierda = derecha + 1\n",
    "        derecha += 1\n",
    "\n",
    "if derecha > izquierda:\n",
    "    lista_arrays.append(A[izquierda:derecha])\n",
    "\n",
    "suma = index_actual = 0\n",
    "for index, linea in enumerate(lista_arrays):\n",
    "    if sum(linea) > suma:\n",
    "        suma = sum(linea)\n",
    "        index_actual = index\n",
    "print(lista_arrays[index_actual])"
   ],
   "metadata": {
    "collapsed": false,
    "pycharm": {
     "name": "#%%\n"
    }
   }
  },
  {
   "cell_type": "markdown",
   "source": [
    "**13.-** Encuentra el elemento mayoritario de un array de longitud N. Es el que aparece más de N/2 veces\n",
    "```\n",
    "Example 1:\n",
    "\n",
    "Input:\n",
    "N = 3\n",
    "A[] = {1,2,3}\n",
    "Output:\n",
    "-1\n",
    "Explanation:\n",
    "Since, each element in\n",
    "{1,2,3} appears only once so there\n",
    "is no majority element.\n",
    "\n",
    "Example 2:\n",
    "\n",
    "Input:\n",
    "N = 5\n",
    "A[] = {3,1,3,3,2}\n",
    "Output:\n",
    "3\n",
    "Explanation:\n",
    "Since, 3 is present more\n",
    "than N/2 times, so it is\n",
    "the majority element.\n",
    "```"
   ],
   "metadata": {
    "collapsed": false,
    "pycharm": {
     "name": "#%% md\n"
    }
   }
  },
  {
   "cell_type": "code",
   "execution_count": 15,
   "outputs": [
    {
     "name": "stdout",
     "output_type": "stream",
     "text": [
      "3 "
     ]
    }
   ],
   "source": [
    "from collections import Counter\n",
    "\n",
    "A = [3, 1, 3, 3, 2]\n",
    "N = len(A) // 2\n",
    "veces = Counter(A)\n",
    "\n",
    "for elemento, numero in veces.items():\n",
    "    if numero >=  N:\n",
    "        print(elemento, end=\" \")"
   ],
   "metadata": {
    "collapsed": false,
    "pycharm": {
     "name": "#%%\n"
    }
   }
  },
  {
   "cell_type": "markdown",
   "source": [
    "**14.-** Dado un array secuencial ordenado de enteros. devolverlo tal que arr[1] >= arr[2] <= arr[3] >= arr[4] <= arr[5]\n",
    "```\n",
    "Example 1:\n",
    "\n",
    "Input:\n",
    "n = 5\n",
    "arr[] = {1,2,3,4,5}\n",
    "Output: 2 1 4 3 5\n",
    "Explanation: Array elements after\n",
    "sorting it in wave form are\n",
    "2 1 4 3 5.\n",
    "```"
   ],
   "metadata": {
    "collapsed": false
   }
  },
  {
   "cell_type": "code",
   "execution_count": 16,
   "outputs": [
    {
     "name": "stdout",
     "output_type": "stream",
     "text": [
      "[2, 1, 4, 3, 5]\n"
     ]
    }
   ],
   "source": [
    "arr = [1,2,3,4,5]\n",
    "ret = []\n",
    "resto_lista = []\n",
    "lista_1 = arr[1::2]\n",
    "lista_2 = arr[0::2]\n",
    "if len(lista_1) > len(lista_2):\n",
    "    long = len(lista_2)\n",
    "    resto_lista = lista_1[long:]\n",
    "elif len(lista_2) > len(lista_1):\n",
    "    long = len(lista_1)\n",
    "    resto_lista = lista_2[long:]\n",
    "else:\n",
    "    long = len(lista_1)\n",
    "\n",
    "for index in range(long):\n",
    "    ret.append(lista_1[index])\n",
    "    ret.append(lista_2[index])\n",
    "ret.extend(resto_lista)\n",
    "\n",
    "print(ret)"
   ],
   "metadata": {
    "collapsed": false,
    "pycharm": {
     "name": "#%%\n"
    }
   }
  },
  {
   "cell_type": "markdown",
   "source": [
    "**15.-** Para un array de tamaño N, encontrar otro array producto en el que cada elemento sea el producto de todos los elementos del array\n",
    "excepto del índice correspondiente.\n",
    "```\n",
    "Example 1:\n",
    "\n",
    "Input:\n",
    "n = 5\n",
    "nums[] = {10, 3, 5, 6, 2}\n",
    "Output:\n",
    "180 600 360 300 900\n",
    "Explanation:\n",
    "For i=0, P[i] = 3*5*6*2 = 180.\n",
    "For i=1, P[i] = 10*5*6*2 = 600.\n",
    "For i=2, P[i] = 10*3*6*2 = 360.\n",
    "For i=3, P[i] = 10*3*5*2 = 300.\n",
    "For i=4, P[i] = 10*3*5*6 = 900.\n",
    "```"
   ],
   "metadata": {
    "collapsed": false
   }
  },
  {
   "cell_type": "code",
   "execution_count": 17,
   "outputs": [
    {
     "name": "stdout",
     "output_type": "stream",
     "text": [
      "[180, 600, 360, 300, 900]\n"
     ]
    }
   ],
   "source": [
    "import operator\n",
    "import functools\n",
    "n = 5\n",
    "nums = [10, 3, 5, 6, 2]\n",
    "ret = []\n",
    "multiplicacion = functools.reduce(operator.mul, nums, 1)\n",
    "\n",
    "for elemento in nums:\n",
    "    ret.append(int(multiplicacion / elemento))\n",
    "\n",
    "print(ret)"
   ],
   "metadata": {
    "collapsed": false,
    "pycharm": {
     "name": "#%%\n"
    }
   }
  },
  {
   "cell_type": "markdown",
   "source": [
    "**16.-** Dado un array encontrar los elementos repetidos más de una vez\n",
    "```\n",
    "Example 1:\n",
    "\n",
    "Input:\n",
    "N = 4\n",
    "a[] = {0,3,1,2}\n",
    "Output: -1\n",
    "Explanation: N=4 and all elements from 0\n",
    "to (N-1 = 3) are present in the given\n",
    "array. Therefore output is -1.\n",
    "Example 2:\n",
    "\n",
    "Input:\n",
    "N = 5\n",
    "a[] = {2,3,1,2,3}\n",
    "Output: 2 3\n",
    "Explanation: 2 and 3 occur more than once\n",
    "in the given array.\n",
    "```"
   ],
   "metadata": {
    "collapsed": false
   }
  },
  {
   "cell_type": "code",
   "execution_count": 18,
   "outputs": [
    {
     "name": "stdout",
     "output_type": "stream",
     "text": [
      "2 3 "
     ]
    }
   ],
   "source": [
    "from collections import Counter\n",
    "\n",
    "A = [2,3,1,2,3]\n",
    "N = len(A) // 2\n",
    "veces = Counter(A)\n",
    "\n",
    "for elemento, numero in veces.items():\n",
    "    if numero >=  2:\n",
    "        print(elemento, end=\" \")"
   ],
   "metadata": {
    "collapsed": false,
    "pycharm": {
     "name": "#%%\n"
    }
   }
  },
  {
   "cell_type": "markdown",
   "source": [
    "**17.-** Los datos de un stock están en un array, encontrar los días en los que comprar y vender.\n",
    "```\n",
    "Example 1:\n",
    "\n",
    "Input:\n",
    "N = 7\n",
    "A[] = {100,180,260,310,40,535,695}\n",
    "Output:\n",
    "1\n",
    "Explanation:\n",
    "One possible solution is (0 3) (4 6)\n",
    "We can buy stock on day 0,\n",
    "and sell it on 3rd day, which will\n",
    "give us maximum profit. Now, we buy\n",
    "stock on day 4 and sell it on day 6.\n",
    "```"
   ],
   "metadata": {
    "collapsed": false
   }
  },
  {
   "cell_type": "code",
   "execution_count": 19,
   "outputs": [
    {
     "name": "stdout",
     "output_type": "stream",
     "text": [
      "0 3\n",
      "4 6\n"
     ]
    }
   ],
   "source": [
    "index_inicial = 0\n",
    "value_inicial = -1\n",
    "A= [100,180,260,310,40,535,695]\n",
    "for index, elemento in enumerate(A):\n",
    "    if value_inicial >= elemento:\n",
    "        print(index_inicial, index - 1)\n",
    "        index_inicial = index\n",
    "    value_inicial = elemento\n",
    "else:\n",
    "    print(index_inicial, index)"
   ],
   "metadata": {
    "collapsed": false,
    "pycharm": {
     "name": "#%%\n"
    }
   }
  },
  {
   "cell_type": "markdown",
   "source": [
    "**18.-** Ver: https://practice.geeksforgeeks.org/problems/trapping-rain-water-1587115621/1\n"
   ],
   "metadata": {
    "collapsed": false
   }
  },
  {
   "cell_type": "code",
   "execution_count": 20,
   "outputs": [
    {
     "name": "stdout",
     "output_type": "stream",
     "text": [
      "6\n"
     ]
    }
   ],
   "source": [
    "def maxWater(arr, n) :\n",
    "\n",
    "    # To store the maximum water\n",
    "    # that can be stored\n",
    "    res = 0;\n",
    "\n",
    "    # For every element of the array\n",
    "    for i in range(1, n - 1) :\n",
    "\n",
    "        # Find the maximum element on its left\n",
    "        left = arr[i];\n",
    "        for j in range(i) :\n",
    "            left = max(left, arr[j]);\n",
    "\n",
    "        # Find the maximum element on its right\n",
    "        right = arr[i];\n",
    "\n",
    "        for j in range(i + 1 , n) :\n",
    "            right = max(right, arr[j]);\n",
    "\n",
    "        # Update the maximum water\n",
    "        res = res + (min(left, right) - arr[i]);\n",
    "\n",
    "    return res;\n",
    "\n",
    "# Driver code\n",
    "if __name__ == \"__main__\" :\n",
    "\n",
    "    arr = [0, 1, 0, 2, 1, 0,\n",
    "           1, 3, 2, 1, 2, 1];\n",
    "    n = len(arr);\n",
    "\n",
    "    print(maxWater(arr, n));"
   ],
   "metadata": {
    "collapsed": false,
    "pycharm": {
     "name": "#%%\n"
    }
   }
  },
  {
   "cell_type": "markdown",
   "source": [
    "**18.-** Dado un array y un nmúmero encontrar todos los pares que sumen el número dado.\n",
    "```\n",
    "Example 1:\n",
    "\n",
    "Input:\n",
    "n = 7\n",
    "arr[] = {1, 2, 3, 4, 5, 6, 7}\n",
    "K = 8\n",
    "Output:\n",
    "3\n",
    "Explanation:\n",
    "We find 3 such pairs that\n",
    "sum to 8 (1,7) (2,6) (3,5)\n",
    "```"
   ],
   "metadata": {
    "collapsed": false,
    "pycharm": {
     "name": "#%% md\n"
    }
   }
  },
  {
   "cell_type": "code",
   "execution_count": 21,
   "outputs": [
    {
     "name": "stdout",
     "output_type": "stream",
     "text": [
      "(1, 7)\n",
      "(2, 6)\n",
      "(3, 5)\n"
     ]
    }
   ],
   "source": [
    "from itertools import combinations\n",
    "\n",
    "A = [1, 2, 3, 4, 5, 6, 7]\n",
    "K = 8\n",
    "temp = combinations(A, 2)\n",
    "for ele in temp:\n",
    "    if sum(ele) == K:\n",
    "        print(ele)"
   ],
   "metadata": {
    "collapsed": false,
    "pycharm": {
     "name": "#%%\n"
    }
   }
  },
  {
   "cell_type": "markdown",
   "source": [
    "**19.-** Dada una matriz de n enteros donde cada valor representa la cantidad de chocolates en un paquete. Cada paquete puede tener un número variable de bombones. Hay m estudiantes, la tarea es distribuir paquetes de chocolate de manera que:\n",
    "\n",
    "Cada estudiante recibe un paquete.\n",
    "La diferencia entre el número de bombones en el paquete con bombones máximo y el paquete con bombones mínimo entregado a los estudiantes es mínima.\n",
    "```\n",
    "Example 1:\n",
    "\n",
    "Input : arr[] = {3, 4, 1, 9, 56, 7, 9, 12} , m = 5\n",
    "Output: Minimum Difference is 6\n",
    "Explanation:\n",
    "The set goes like 3,4,7,9,9 and the output\n",
    "is 9-3 = 6\n",
    "```"
   ],
   "metadata": {
    "collapsed": false
   }
  },
  {
   "cell_type": "code",
   "execution_count": 22,
   "outputs": [
    {
     "name": "stdout",
     "output_type": "stream",
     "text": [
      "Minimum difference is 10\n"
     ]
    }
   ],
   "source": [
    "# arr[0..n-1] represents sizes of packets\n",
    "# m is number of students.\n",
    "# Returns minimum difference between maximum\n",
    "# and minimum values of distribution.\n",
    "def findMinDiff(arr, n, m):\n",
    "\n",
    "    # if there are no chocolates or number\n",
    "    # of students is 0\n",
    "    if (m==0 or n==0):\n",
    "        return 0\n",
    "\n",
    "    # Sort the given packets\n",
    "    arr.sort()\n",
    "\n",
    "    # Number of students cannot be more than\n",
    "    # number of packets\n",
    "    if (n < m):\n",
    "        return -1\n",
    "\n",
    "    # Largest number of chocolates\n",
    "    min_diff = arr[n-1] - arr[0]\n",
    "\n",
    "    # Find the subarray of size m such that\n",
    "    # difference between last (maximum in case\n",
    "    # of sorted) and first (minimum in case of\n",
    "    # sorted) elements of subarray is minimum.\n",
    "    for i in range(len(arr) - m + 1):\n",
    "        min_diff = min(min_diff ,  arr[i + m - 1] - arr[i])\n",
    "\n",
    "\n",
    "    return min_diff\n",
    "\n",
    "if __name__ == \"__main__\":\n",
    "    arr = [12, 4, 7, 9, 2, 23, 25, 41,\n",
    "          30, 40, 28, 42, 30, 44, 48,\n",
    "          43, 50]\n",
    "    m = 7 # Number of students\n",
    "    n = len(arr)\n",
    "    print(\"Minimum difference is\", findMinDiff(arr, n, m))\n"
   ],
   "metadata": {
    "collapsed": false,
    "pycharm": {
     "name": "#%%\n"
    }
   }
  }
 ],
 "metadata": {
  "kernelspec": {
   "display_name": "Python 3",
   "language": "python",
   "name": "python3"
  },
  "language_info": {
   "codemirror_mode": {
    "name": "ipython",
    "version": 2
   },
   "file_extension": ".py",
   "mimetype": "text/x-python",
   "name": "python",
   "nbconvert_exporter": "python",
   "pygments_lexer": "ipython2",
   "version": "2.7.6"
  }
 },
 "nbformat": 4,
 "nbformat_minor": 0
}