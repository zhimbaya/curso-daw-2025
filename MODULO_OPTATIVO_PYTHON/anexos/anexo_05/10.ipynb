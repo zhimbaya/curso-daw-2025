{
 "cells": [
  {
   "cell_type": "markdown",
   "source": [
    "# Ejercicios\n",
    "[Enlace en la web: Ejercicios](https://www.geeksforgeeks.org/practice-for-cracking-any-coding-interview/)\n"
   ],
   "metadata": {
    "collapsed": false,
    "pycharm": {
     "name": "#%% md\n"
    }
   }
  },
  {
   "cell_type": "markdown",
   "source": [
    "## Listas doblemente enlazadas"
   ],
   "metadata": {
    "collapsed": false
   }
  },
  {
   "cell_type": "markdown",
   "source": [
    "**1.-** Crea una estructura de datos como una lista doblemente enlazada\n",
    "[Teoría sobre listas enlazadas](https://www.geeksforgeeks.org/data-structures/linked-list/)"
   ],
   "metadata": {
    "collapsed": false
   }
  },
  {
   "cell_type": "code",
   "execution_count": 21,
   "outputs": [],
   "source": [
    "class Nodo:\n",
    "    def __init__(self, value, sig=None, ant=None):\n",
    "        self.value = value\n",
    "        self.sig = sig\n",
    "        self.ant = ant\n",
    "\n",
    "    def __str__(self):\n",
    "        return f\"Valor:{self.value}\"\n",
    "\n",
    "\n",
    "class ListaDobleEnlazada:\n",
    "    def __init__(self):\n",
    "        self.head = None\n",
    "        self.count = 0\n",
    "\n",
    "    def __str__(self):\n",
    "        str_ret = \"\"\n",
    "        if self.head:\n",
    "            puntero_nodo = self.head\n",
    "            while puntero_nodo:\n",
    "                str_ret += str(puntero_nodo) + \" \"\n",
    "                puntero_nodo = puntero_nodo.sig\n",
    "        else:\n",
    "            str_ret = \"Lista vacía\"\n",
    "        return str_ret\n",
    "\n",
    "    def __len__(self):\n",
    "        return self.count\n",
    "\n",
    "    def clear(self):\n",
    "        \"\"\"\n",
    "        Vacía la lista\n",
    "        :return:\n",
    "        \"\"\"\n",
    "        for _ in range(len(self)): # el len solo se computa una vez, al crear el for\n",
    "            self.delete_nodo(0)\n",
    "\n",
    "    def get_ultimo_nodo(self):\n",
    "        \"\"\"\n",
    "        Devuelve el último nodo de la lista\n",
    "        :return:\n",
    "        \"\"\"\n",
    "        if not self.head:\n",
    "            return self.head\n",
    "        else:\n",
    "            puntero_nodo = self.head\n",
    "            while puntero_nodo.sig:\n",
    "                puntero_nodo = puntero_nodo.sig\n",
    "            return puntero_nodo\n",
    "\n",
    "    def es_vacia(self):\n",
    "        \"\"\"\n",
    "        Devuelve si una lista esd o no vacía\n",
    "        :return:\n",
    "        \"\"\"\n",
    "        return self.head is None\n",
    "\n",
    "    def add_nodo(self, value, index=None):\n",
    "        \"\"\"\n",
    "        Añade en una posición de la lista, si index es None añade al final\n",
    "        :param index: Posición a insertar, si None añade la final\n",
    "        :param value: Valor del nodo\n",
    "        :return:\n",
    "        \"\"\"\n",
    "        self.count += 1\n",
    "\n",
    "        if not self.head:  # añadir si la lista está vacía\n",
    "            self.head = Nodo(value)\n",
    "        else:\n",
    "            if index is None or index >= len(self):  # añade la final\n",
    "                nodo = Nodo(value, ant=self.get_ultimo_nodo())\n",
    "                nodo.ant.sig = nodo\n",
    "            else:  # añade en cualquier posición\n",
    "                curr = self.head\n",
    "                cnt = 0\n",
    "                while cnt < index and curr.sig is not None:  # buscar la posición a insertar\n",
    "                    curr = curr.sig\n",
    "                    cnt += 1\n",
    "                if index == 0:  # insertar en cabeza\n",
    "                    nodo = Nodo(value, sig=curr, ant=None)\n",
    "                    self.head.ant = nodo\n",
    "                    self.head = nodo\n",
    "                else:\n",
    "                    nodo = Nodo(value, sig=curr, ant=curr.ant)\n",
    "                    curr.ant.sig = nodo\n",
    "\n",
    "    def delete_nodo(self, index=None):\n",
    "        \"\"\"\n",
    "        Borra un nodo de la lista\n",
    "        :param index: índice del nodo a borrar empezando desde la cabeza\n",
    "        :return: None\n",
    "        \"\"\"\n",
    "        if self.head:  # si no es vacía podemos borrar\n",
    "            if len(self) == 1:  # solo hay un elemento\n",
    "                del self.head\n",
    "                self.head = None\n",
    "            elif index is None or index >= len(self)-1:  # Borrar el último\n",
    "                curr = self.get_ultimo_nodo()\n",
    "                curr.ant.sig = None\n",
    "                del curr\n",
    "            elif index == 0:  # Borrar en cabeza\n",
    "                curr = self.head\n",
    "                self.head = self.head.sig\n",
    "                self.head.ant = None\n",
    "                del curr\n",
    "            else:\n",
    "                contador = 0\n",
    "                curr = self.head\n",
    "                while curr.sig is not None and contador < index:\n",
    "                    curr = curr.sig\n",
    "                    contador += 1\n",
    "                curr.ant.sig = curr.sig\n",
    "                curr.sig.ant = curr.ant\n",
    "                del curr\n",
    "            self.count -= 1"
   ],
   "metadata": {
    "collapsed": false,
    "pycharm": {
     "name": "#%%\n"
    }
   }
  },
  {
   "cell_type": "code",
   "execution_count": 23,
   "outputs": [
    {
     "name": "stdout",
     "output_type": "stream",
     "text": [
      "True\n",
      "Valor:0 Valor:1 Valor:2 Valor:3 Valor:4 \n",
      "False\n",
      "Valor:5\n",
      "Valor:0 Valor:1 Valor:2 Valor:3 Valor:5 \n",
      "Valor:6 Valor:0 Valor:1 Valor:55 Valor:2 Valor:3 Valor:5 Valor:99 \n",
      "Valor:6 Valor:1 Valor:55 Valor:2 Valor:3 Valor:5 Valor:99 \n",
      "Valor:6 Valor:1 Valor:55 Valor:2 Valor:3 Valor:5 \n",
      "Valor:6 Valor:1 Valor:55 Valor:2 Valor:3 \n",
      "Valor:6 Valor:1 Valor:55 Valor:2 \n",
      "Lista vacía\n"
     ]
    }
   ],
   "source": [
    "lista = ListaDobleEnlazada()\n",
    "print(lista.es_vacia())\n",
    "for n in range(5):\n",
    "    lista.add_nodo(n)\n",
    "print(lista)\n",
    "print(lista.es_vacia())\n",
    "ultimo = lista.get_ultimo_nodo()\n",
    "ultimo.value = 5\n",
    "print(ultimo)\n",
    "print(lista)\n",
    "lista.add_nodo(6, 0)  # en cabeza\n",
    "lista.add_nodo(99, 9)  # fuera de la lista\n",
    "lista.add_nodo(55, 3)  # index 3\n",
    "print(lista)\n",
    "lista.delete_nodo(1)\n",
    "print(lista)\n",
    "lista.delete_nodo(6)\n",
    "print(lista)\n",
    "lista.delete_nodo(6)\n",
    "print(lista)\n",
    "lista.delete_nodo()\n",
    "print(lista)\n",
    "lista.clear()\n",
    "print(lista)\n",
    "lista.delete_nodo()"
   ],
   "metadata": {
    "collapsed": false,
    "pycharm": {
     "name": "#%%\n"
    }
   }
  },
  {
   "cell_type": "markdown",
   "source": [
    "**2.-** Imprimir la lista al revés"
   ],
   "metadata": {
    "collapsed": false
   }
  },
  {
   "cell_type": "code",
   "execution_count": 24,
   "outputs": [],
   "source": [
    "def print_reversed(self):\n",
    "    str_ret = \"\"\n",
    "    if self.head:\n",
    "        puntero_nodo = self.get_ultimo_nodo()\n",
    "        while puntero_nodo:\n",
    "            str_ret += str(puntero_nodo) + \" \"\n",
    "            puntero_nodo = puntero_nodo.ant\n",
    "    else:\n",
    "        str_ret = \"Lista vacía\"\n",
    "    return str_ret"
   ],
   "metadata": {
    "collapsed": false,
    "pycharm": {
     "name": "#%%\n"
    }
   }
  },
  {
   "cell_type": "code",
   "execution_count": 25,
   "outputs": [
    {
     "name": "stdout",
     "output_type": "stream",
     "text": [
      "Valor:0 Valor:1 Valor:2 Valor:3 Valor:4 \n",
      "Valor:4 Valor:3 Valor:2 Valor:1 Valor:0 \n"
     ]
    }
   ],
   "source": [
    "lista = ListaDobleEnlazada()\n",
    "for n in range(5):\n",
    "    lista.add_nodo(n)\n",
    "print(lista)\n",
    "print(print_reversed(lista))"
   ],
   "metadata": {
    "collapsed": false,
    "pycharm": {
     "name": "#%%\n"
    }
   }
  }
 ],
 "metadata": {
  "kernelspec": {
   "display_name": "Python 3",
   "language": "python",
   "name": "python3"
  },
  "language_info": {
   "codemirror_mode": {
    "name": "ipython",
    "version": 2
   },
   "file_extension": ".py",
   "mimetype": "text/x-python",
   "name": "python",
   "nbconvert_exporter": "python",
   "pygments_lexer": "ipython2",
   "version": "2.7.6"
  }
 },
 "nbformat": 4,
 "nbformat_minor": 0
}